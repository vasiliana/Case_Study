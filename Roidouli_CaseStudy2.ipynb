{
  "nbformat": 4,
  "nbformat_minor": 0,
  "metadata": {
    "colab": {
      "provenance": []
    },
    "kernelspec": {
      "name": "python3",
      "display_name": "Python 3"
    },
    "language_info": {
      "name": "python"
    }
  },
  "cells": [
    {
      "cell_type": "markdown",
      "source": [
        "Author: **Roidouli Vasiliana**"
      ],
      "metadata": {
        "id": "n2_9hIiI7oqv"
      }
    },
    {
      "cell_type": "markdown",
      "source": [
        "## Libraries Importing and Dataset Loading"
      ],
      "metadata": {
        "id": "qDXs-TBCTs7-"
      }
    },
    {
      "cell_type": "code",
      "execution_count": 49,
      "metadata": {
        "id": "W2UrtM2a3ws_"
      },
      "outputs": [],
      "source": [
        "from google.colab import drive\n",
        "import pandas as pd\n",
        "import numpy as np\n",
        "import matplotlib.pyplot as plt\n",
        "import seaborn as sns"
      ]
    },
    {
      "cell_type": "code",
      "source": [
        "drive.mount('/content/gdrive')"
      ],
      "metadata": {
        "colab": {
          "base_uri": "https://localhost:8080/"
        },
        "id": "qeZfB85z36nD",
        "outputId": "8e019a11-26ac-4660-9dbd-d4f0f058d7af"
      },
      "execution_count": 50,
      "outputs": [
        {
          "output_type": "stream",
          "name": "stdout",
          "text": [
            "Drive already mounted at /content/gdrive; to attempt to forcibly remount, call drive.mount(\"/content/gdrive\", force_remount=True).\n"
          ]
        }
      ]
    },
    {
      "cell_type": "code",
      "source": [
        "# Load dataset\n",
        "df = pd.read_csv(\"/content/gdrive/MyDrive/stout/casestudy.csv\")"
      ],
      "metadata": {
        "id": "-_jbMPGL4NH0"
      },
      "execution_count": 51,
      "outputs": []
    },
    {
      "cell_type": "markdown",
      "source": [
        "## A Quick Look on the Dataset"
      ],
      "metadata": {
        "id": "Eu_7UolQbhcB"
      }
    },
    {
      "cell_type": "markdown",
      "source": [
        "* Properties of the Dataset: "
      ],
      "metadata": {
        "id": "VJq7EuzAT7Pj"
      }
    },
    {
      "cell_type": "code",
      "source": [
        "df.shape "
      ],
      "metadata": {
        "id": "DWaJiP8G8uxI",
        "colab": {
          "base_uri": "https://localhost:8080/"
        },
        "outputId": "9594b435-9204-41ab-cb63-5dc4ff3de0e9"
      },
      "execution_count": 52,
      "outputs": [
        {
          "output_type": "execute_result",
          "data": {
            "text/plain": [
              "(685927, 4)"
            ]
          },
          "metadata": {},
          "execution_count": 52
        }
      ]
    },
    {
      "cell_type": "code",
      "source": [
        "df.sample(5) "
      ],
      "metadata": {
        "id": "kZxgCbr48zG3",
        "colab": {
          "base_uri": "https://localhost:8080/",
          "height": 206
        },
        "outputId": "c0a1bc32-5b7c-4702-8f0d-47e1fcff5076"
      },
      "execution_count": 53,
      "outputs": [
        {
          "output_type": "execute_result",
          "data": {
            "text/plain": [
              "        Unnamed: 0         customer_email  net_revenue  year\n",
              "120303      120303   cmcuuzbumb@gmail.com        89.90  2015\n",
              "252212      252212   amsafbaeko@gmail.com       232.02  2016\n",
              "362534      362534   ieuzalbfcn@gmail.com       108.60  2016\n",
              "603501      603501   huzwqlnvrz@gmail.com       230.12  2017\n",
              "299821      299821   njzdbiaqxz@gmail.com       124.64  2016"
            ],
            "text/html": [
              "\n",
              "  <div id=\"df-9592a3a1-f8c3-4c4a-a9cc-8607a6f4872d\">\n",
              "    <div class=\"colab-df-container\">\n",
              "      <div>\n",
              "<style scoped>\n",
              "    .dataframe tbody tr th:only-of-type {\n",
              "        vertical-align: middle;\n",
              "    }\n",
              "\n",
              "    .dataframe tbody tr th {\n",
              "        vertical-align: top;\n",
              "    }\n",
              "\n",
              "    .dataframe thead th {\n",
              "        text-align: right;\n",
              "    }\n",
              "</style>\n",
              "<table border=\"1\" class=\"dataframe\">\n",
              "  <thead>\n",
              "    <tr style=\"text-align: right;\">\n",
              "      <th></th>\n",
              "      <th>Unnamed: 0</th>\n",
              "      <th>customer_email</th>\n",
              "      <th>net_revenue</th>\n",
              "      <th>year</th>\n",
              "    </tr>\n",
              "  </thead>\n",
              "  <tbody>\n",
              "    <tr>\n",
              "      <th>120303</th>\n",
              "      <td>120303</td>\n",
              "      <td>cmcuuzbumb@gmail.com</td>\n",
              "      <td>89.90</td>\n",
              "      <td>2015</td>\n",
              "    </tr>\n",
              "    <tr>\n",
              "      <th>252212</th>\n",
              "      <td>252212</td>\n",
              "      <td>amsafbaeko@gmail.com</td>\n",
              "      <td>232.02</td>\n",
              "      <td>2016</td>\n",
              "    </tr>\n",
              "    <tr>\n",
              "      <th>362534</th>\n",
              "      <td>362534</td>\n",
              "      <td>ieuzalbfcn@gmail.com</td>\n",
              "      <td>108.60</td>\n",
              "      <td>2016</td>\n",
              "    </tr>\n",
              "    <tr>\n",
              "      <th>603501</th>\n",
              "      <td>603501</td>\n",
              "      <td>huzwqlnvrz@gmail.com</td>\n",
              "      <td>230.12</td>\n",
              "      <td>2017</td>\n",
              "    </tr>\n",
              "    <tr>\n",
              "      <th>299821</th>\n",
              "      <td>299821</td>\n",
              "      <td>njzdbiaqxz@gmail.com</td>\n",
              "      <td>124.64</td>\n",
              "      <td>2016</td>\n",
              "    </tr>\n",
              "  </tbody>\n",
              "</table>\n",
              "</div>\n",
              "      <button class=\"colab-df-convert\" onclick=\"convertToInteractive('df-9592a3a1-f8c3-4c4a-a9cc-8607a6f4872d')\"\n",
              "              title=\"Convert this dataframe to an interactive table.\"\n",
              "              style=\"display:none;\">\n",
              "        \n",
              "  <svg xmlns=\"http://www.w3.org/2000/svg\" height=\"24px\"viewBox=\"0 0 24 24\"\n",
              "       width=\"24px\">\n",
              "    <path d=\"M0 0h24v24H0V0z\" fill=\"none\"/>\n",
              "    <path d=\"M18.56 5.44l.94 2.06.94-2.06 2.06-.94-2.06-.94-.94-2.06-.94 2.06-2.06.94zm-11 1L8.5 8.5l.94-2.06 2.06-.94-2.06-.94L8.5 2.5l-.94 2.06-2.06.94zm10 10l.94 2.06.94-2.06 2.06-.94-2.06-.94-.94-2.06-.94 2.06-2.06.94z\"/><path d=\"M17.41 7.96l-1.37-1.37c-.4-.4-.92-.59-1.43-.59-.52 0-1.04.2-1.43.59L10.3 9.45l-7.72 7.72c-.78.78-.78 2.05 0 2.83L4 21.41c.39.39.9.59 1.41.59.51 0 1.02-.2 1.41-.59l7.78-7.78 2.81-2.81c.8-.78.8-2.07 0-2.86zM5.41 20L4 18.59l7.72-7.72 1.47 1.35L5.41 20z\"/>\n",
              "  </svg>\n",
              "      </button>\n",
              "      \n",
              "  <style>\n",
              "    .colab-df-container {\n",
              "      display:flex;\n",
              "      flex-wrap:wrap;\n",
              "      gap: 12px;\n",
              "    }\n",
              "\n",
              "    .colab-df-convert {\n",
              "      background-color: #E8F0FE;\n",
              "      border: none;\n",
              "      border-radius: 50%;\n",
              "      cursor: pointer;\n",
              "      display: none;\n",
              "      fill: #1967D2;\n",
              "      height: 32px;\n",
              "      padding: 0 0 0 0;\n",
              "      width: 32px;\n",
              "    }\n",
              "\n",
              "    .colab-df-convert:hover {\n",
              "      background-color: #E2EBFA;\n",
              "      box-shadow: 0px 1px 2px rgba(60, 64, 67, 0.3), 0px 1px 3px 1px rgba(60, 64, 67, 0.15);\n",
              "      fill: #174EA6;\n",
              "    }\n",
              "\n",
              "    [theme=dark] .colab-df-convert {\n",
              "      background-color: #3B4455;\n",
              "      fill: #D2E3FC;\n",
              "    }\n",
              "\n",
              "    [theme=dark] .colab-df-convert:hover {\n",
              "      background-color: #434B5C;\n",
              "      box-shadow: 0px 1px 3px 1px rgba(0, 0, 0, 0.15);\n",
              "      filter: drop-shadow(0px 1px 2px rgba(0, 0, 0, 0.3));\n",
              "      fill: #FFFFFF;\n",
              "    }\n",
              "  </style>\n",
              "\n",
              "      <script>\n",
              "        const buttonEl =\n",
              "          document.querySelector('#df-9592a3a1-f8c3-4c4a-a9cc-8607a6f4872d button.colab-df-convert');\n",
              "        buttonEl.style.display =\n",
              "          google.colab.kernel.accessAllowed ? 'block' : 'none';\n",
              "\n",
              "        async function convertToInteractive(key) {\n",
              "          const element = document.querySelector('#df-9592a3a1-f8c3-4c4a-a9cc-8607a6f4872d');\n",
              "          const dataTable =\n",
              "            await google.colab.kernel.invokeFunction('convertToInteractive',\n",
              "                                                     [key], {});\n",
              "          if (!dataTable) return;\n",
              "\n",
              "          const docLinkHtml = 'Like what you see? Visit the ' +\n",
              "            '<a target=\"_blank\" href=https://colab.research.google.com/notebooks/data_table.ipynb>data table notebook</a>'\n",
              "            + ' to learn more about interactive tables.';\n",
              "          element.innerHTML = '';\n",
              "          dataTable['output_type'] = 'display_data';\n",
              "          await google.colab.output.renderOutput(dataTable, element);\n",
              "          const docLink = document.createElement('div');\n",
              "          docLink.innerHTML = docLinkHtml;\n",
              "          element.appendChild(docLink);\n",
              "        }\n",
              "      </script>\n",
              "    </div>\n",
              "  </div>\n",
              "  "
            ]
          },
          "metadata": {},
          "execution_count": 53
        }
      ]
    },
    {
      "cell_type": "code",
      "source": [
        "df = df.rename(columns={'Unnamed: 0': 'index'})"
      ],
      "metadata": {
        "id": "31VvCGHd83Ny"
      },
      "execution_count": 54,
      "outputs": []
    },
    {
      "cell_type": "code",
      "source": [
        "df.describe().T"
      ],
      "metadata": {
        "id": "BY_dAZudAVX8",
        "colab": {
          "base_uri": "https://localhost:8080/",
          "height": 143
        },
        "outputId": "3ac94af7-0b93-4761-d5c7-e5b17c7f576c"
      },
      "execution_count": 55,
      "outputs": [
        {
          "output_type": "execute_result",
          "data": {
            "text/plain": [
              "                count           mean            std     min        25%  \\\n",
              "index        685927.0  342963.000000  198010.213385     0.0  171481.50   \n",
              "net_revenue  685927.0     125.647755      71.854528     1.0      63.51   \n",
              "year         685927.0    2016.027252       0.837203  2015.0    2015.00   \n",
              "\n",
              "                   50%        75%       max  \n",
              "index        342963.00  514444.50  685926.0  \n",
              "net_revenue     125.73     187.82     250.0  \n",
              "year           2016.00    2017.00    2017.0  "
            ],
            "text/html": [
              "\n",
              "  <div id=\"df-40e71d4b-3845-4fc4-ac1d-08a8e361103e\">\n",
              "    <div class=\"colab-df-container\">\n",
              "      <div>\n",
              "<style scoped>\n",
              "    .dataframe tbody tr th:only-of-type {\n",
              "        vertical-align: middle;\n",
              "    }\n",
              "\n",
              "    .dataframe tbody tr th {\n",
              "        vertical-align: top;\n",
              "    }\n",
              "\n",
              "    .dataframe thead th {\n",
              "        text-align: right;\n",
              "    }\n",
              "</style>\n",
              "<table border=\"1\" class=\"dataframe\">\n",
              "  <thead>\n",
              "    <tr style=\"text-align: right;\">\n",
              "      <th></th>\n",
              "      <th>count</th>\n",
              "      <th>mean</th>\n",
              "      <th>std</th>\n",
              "      <th>min</th>\n",
              "      <th>25%</th>\n",
              "      <th>50%</th>\n",
              "      <th>75%</th>\n",
              "      <th>max</th>\n",
              "    </tr>\n",
              "  </thead>\n",
              "  <tbody>\n",
              "    <tr>\n",
              "      <th>index</th>\n",
              "      <td>685927.0</td>\n",
              "      <td>342963.000000</td>\n",
              "      <td>198010.213385</td>\n",
              "      <td>0.0</td>\n",
              "      <td>171481.50</td>\n",
              "      <td>342963.00</td>\n",
              "      <td>514444.50</td>\n",
              "      <td>685926.0</td>\n",
              "    </tr>\n",
              "    <tr>\n",
              "      <th>net_revenue</th>\n",
              "      <td>685927.0</td>\n",
              "      <td>125.647755</td>\n",
              "      <td>71.854528</td>\n",
              "      <td>1.0</td>\n",
              "      <td>63.51</td>\n",
              "      <td>125.73</td>\n",
              "      <td>187.82</td>\n",
              "      <td>250.0</td>\n",
              "    </tr>\n",
              "    <tr>\n",
              "      <th>year</th>\n",
              "      <td>685927.0</td>\n",
              "      <td>2016.027252</td>\n",
              "      <td>0.837203</td>\n",
              "      <td>2015.0</td>\n",
              "      <td>2015.00</td>\n",
              "      <td>2016.00</td>\n",
              "      <td>2017.00</td>\n",
              "      <td>2017.0</td>\n",
              "    </tr>\n",
              "  </tbody>\n",
              "</table>\n",
              "</div>\n",
              "      <button class=\"colab-df-convert\" onclick=\"convertToInteractive('df-40e71d4b-3845-4fc4-ac1d-08a8e361103e')\"\n",
              "              title=\"Convert this dataframe to an interactive table.\"\n",
              "              style=\"display:none;\">\n",
              "        \n",
              "  <svg xmlns=\"http://www.w3.org/2000/svg\" height=\"24px\"viewBox=\"0 0 24 24\"\n",
              "       width=\"24px\">\n",
              "    <path d=\"M0 0h24v24H0V0z\" fill=\"none\"/>\n",
              "    <path d=\"M18.56 5.44l.94 2.06.94-2.06 2.06-.94-2.06-.94-.94-2.06-.94 2.06-2.06.94zm-11 1L8.5 8.5l.94-2.06 2.06-.94-2.06-.94L8.5 2.5l-.94 2.06-2.06.94zm10 10l.94 2.06.94-2.06 2.06-.94-2.06-.94-.94-2.06-.94 2.06-2.06.94z\"/><path d=\"M17.41 7.96l-1.37-1.37c-.4-.4-.92-.59-1.43-.59-.52 0-1.04.2-1.43.59L10.3 9.45l-7.72 7.72c-.78.78-.78 2.05 0 2.83L4 21.41c.39.39.9.59 1.41.59.51 0 1.02-.2 1.41-.59l7.78-7.78 2.81-2.81c.8-.78.8-2.07 0-2.86zM5.41 20L4 18.59l7.72-7.72 1.47 1.35L5.41 20z\"/>\n",
              "  </svg>\n",
              "      </button>\n",
              "      \n",
              "  <style>\n",
              "    .colab-df-container {\n",
              "      display:flex;\n",
              "      flex-wrap:wrap;\n",
              "      gap: 12px;\n",
              "    }\n",
              "\n",
              "    .colab-df-convert {\n",
              "      background-color: #E8F0FE;\n",
              "      border: none;\n",
              "      border-radius: 50%;\n",
              "      cursor: pointer;\n",
              "      display: none;\n",
              "      fill: #1967D2;\n",
              "      height: 32px;\n",
              "      padding: 0 0 0 0;\n",
              "      width: 32px;\n",
              "    }\n",
              "\n",
              "    .colab-df-convert:hover {\n",
              "      background-color: #E2EBFA;\n",
              "      box-shadow: 0px 1px 2px rgba(60, 64, 67, 0.3), 0px 1px 3px 1px rgba(60, 64, 67, 0.15);\n",
              "      fill: #174EA6;\n",
              "    }\n",
              "\n",
              "    [theme=dark] .colab-df-convert {\n",
              "      background-color: #3B4455;\n",
              "      fill: #D2E3FC;\n",
              "    }\n",
              "\n",
              "    [theme=dark] .colab-df-convert:hover {\n",
              "      background-color: #434B5C;\n",
              "      box-shadow: 0px 1px 3px 1px rgba(0, 0, 0, 0.15);\n",
              "      filter: drop-shadow(0px 1px 2px rgba(0, 0, 0, 0.3));\n",
              "      fill: #FFFFFF;\n",
              "    }\n",
              "  </style>\n",
              "\n",
              "      <script>\n",
              "        const buttonEl =\n",
              "          document.querySelector('#df-40e71d4b-3845-4fc4-ac1d-08a8e361103e button.colab-df-convert');\n",
              "        buttonEl.style.display =\n",
              "          google.colab.kernel.accessAllowed ? 'block' : 'none';\n",
              "\n",
              "        async function convertToInteractive(key) {\n",
              "          const element = document.querySelector('#df-40e71d4b-3845-4fc4-ac1d-08a8e361103e');\n",
              "          const dataTable =\n",
              "            await google.colab.kernel.invokeFunction('convertToInteractive',\n",
              "                                                     [key], {});\n",
              "          if (!dataTable) return;\n",
              "\n",
              "          const docLinkHtml = 'Like what you see? Visit the ' +\n",
              "            '<a target=\"_blank\" href=https://colab.research.google.com/notebooks/data_table.ipynb>data table notebook</a>'\n",
              "            + ' to learn more about interactive tables.';\n",
              "          element.innerHTML = '';\n",
              "          dataTable['output_type'] = 'display_data';\n",
              "          await google.colab.output.renderOutput(dataTable, element);\n",
              "          const docLink = document.createElement('div');\n",
              "          docLink.innerHTML = docLinkHtml;\n",
              "          element.appendChild(docLink);\n",
              "        }\n",
              "      </script>\n",
              "    </div>\n",
              "  </div>\n",
              "  "
            ]
          },
          "metadata": {},
          "execution_count": 55
        }
      ]
    },
    {
      "cell_type": "code",
      "source": [
        "df.describe(include='object').T"
      ],
      "metadata": {
        "colab": {
          "base_uri": "https://localhost:8080/",
          "height": 81
        },
        "id": "g41lAopYAapy",
        "outputId": "068b4c14-19e4-4e4e-dcd9-2c8bef173d00"
      },
      "execution_count": 56,
      "outputs": [
        {
          "output_type": "execute_result",
          "data": {
            "text/plain": [
              "                 count  unique                   top freq\n",
              "customer_email  685927  604618  wtbxliuywf@gmail.com    3"
            ],
            "text/html": [
              "\n",
              "  <div id=\"df-47651c7a-8ff8-42c0-b55c-71b719af0750\">\n",
              "    <div class=\"colab-df-container\">\n",
              "      <div>\n",
              "<style scoped>\n",
              "    .dataframe tbody tr th:only-of-type {\n",
              "        vertical-align: middle;\n",
              "    }\n",
              "\n",
              "    .dataframe tbody tr th {\n",
              "        vertical-align: top;\n",
              "    }\n",
              "\n",
              "    .dataframe thead th {\n",
              "        text-align: right;\n",
              "    }\n",
              "</style>\n",
              "<table border=\"1\" class=\"dataframe\">\n",
              "  <thead>\n",
              "    <tr style=\"text-align: right;\">\n",
              "      <th></th>\n",
              "      <th>count</th>\n",
              "      <th>unique</th>\n",
              "      <th>top</th>\n",
              "      <th>freq</th>\n",
              "    </tr>\n",
              "  </thead>\n",
              "  <tbody>\n",
              "    <tr>\n",
              "      <th>customer_email</th>\n",
              "      <td>685927</td>\n",
              "      <td>604618</td>\n",
              "      <td>wtbxliuywf@gmail.com</td>\n",
              "      <td>3</td>\n",
              "    </tr>\n",
              "  </tbody>\n",
              "</table>\n",
              "</div>\n",
              "      <button class=\"colab-df-convert\" onclick=\"convertToInteractive('df-47651c7a-8ff8-42c0-b55c-71b719af0750')\"\n",
              "              title=\"Convert this dataframe to an interactive table.\"\n",
              "              style=\"display:none;\">\n",
              "        \n",
              "  <svg xmlns=\"http://www.w3.org/2000/svg\" height=\"24px\"viewBox=\"0 0 24 24\"\n",
              "       width=\"24px\">\n",
              "    <path d=\"M0 0h24v24H0V0z\" fill=\"none\"/>\n",
              "    <path d=\"M18.56 5.44l.94 2.06.94-2.06 2.06-.94-2.06-.94-.94-2.06-.94 2.06-2.06.94zm-11 1L8.5 8.5l.94-2.06 2.06-.94-2.06-.94L8.5 2.5l-.94 2.06-2.06.94zm10 10l.94 2.06.94-2.06 2.06-.94-2.06-.94-.94-2.06-.94 2.06-2.06.94z\"/><path d=\"M17.41 7.96l-1.37-1.37c-.4-.4-.92-.59-1.43-.59-.52 0-1.04.2-1.43.59L10.3 9.45l-7.72 7.72c-.78.78-.78 2.05 0 2.83L4 21.41c.39.39.9.59 1.41.59.51 0 1.02-.2 1.41-.59l7.78-7.78 2.81-2.81c.8-.78.8-2.07 0-2.86zM5.41 20L4 18.59l7.72-7.72 1.47 1.35L5.41 20z\"/>\n",
              "  </svg>\n",
              "      </button>\n",
              "      \n",
              "  <style>\n",
              "    .colab-df-container {\n",
              "      display:flex;\n",
              "      flex-wrap:wrap;\n",
              "      gap: 12px;\n",
              "    }\n",
              "\n",
              "    .colab-df-convert {\n",
              "      background-color: #E8F0FE;\n",
              "      border: none;\n",
              "      border-radius: 50%;\n",
              "      cursor: pointer;\n",
              "      display: none;\n",
              "      fill: #1967D2;\n",
              "      height: 32px;\n",
              "      padding: 0 0 0 0;\n",
              "      width: 32px;\n",
              "    }\n",
              "\n",
              "    .colab-df-convert:hover {\n",
              "      background-color: #E2EBFA;\n",
              "      box-shadow: 0px 1px 2px rgba(60, 64, 67, 0.3), 0px 1px 3px 1px rgba(60, 64, 67, 0.15);\n",
              "      fill: #174EA6;\n",
              "    }\n",
              "\n",
              "    [theme=dark] .colab-df-convert {\n",
              "      background-color: #3B4455;\n",
              "      fill: #D2E3FC;\n",
              "    }\n",
              "\n",
              "    [theme=dark] .colab-df-convert:hover {\n",
              "      background-color: #434B5C;\n",
              "      box-shadow: 0px 1px 3px 1px rgba(0, 0, 0, 0.15);\n",
              "      filter: drop-shadow(0px 1px 2px rgba(0, 0, 0, 0.3));\n",
              "      fill: #FFFFFF;\n",
              "    }\n",
              "  </style>\n",
              "\n",
              "      <script>\n",
              "        const buttonEl =\n",
              "          document.querySelector('#df-47651c7a-8ff8-42c0-b55c-71b719af0750 button.colab-df-convert');\n",
              "        buttonEl.style.display =\n",
              "          google.colab.kernel.accessAllowed ? 'block' : 'none';\n",
              "\n",
              "        async function convertToInteractive(key) {\n",
              "          const element = document.querySelector('#df-47651c7a-8ff8-42c0-b55c-71b719af0750');\n",
              "          const dataTable =\n",
              "            await google.colab.kernel.invokeFunction('convertToInteractive',\n",
              "                                                     [key], {});\n",
              "          if (!dataTable) return;\n",
              "\n",
              "          const docLinkHtml = 'Like what you see? Visit the ' +\n",
              "            '<a target=\"_blank\" href=https://colab.research.google.com/notebooks/data_table.ipynb>data table notebook</a>'\n",
              "            + ' to learn more about interactive tables.';\n",
              "          element.innerHTML = '';\n",
              "          dataTable['output_type'] = 'display_data';\n",
              "          await google.colab.output.renderOutput(dataTable, element);\n",
              "          const docLink = document.createElement('div');\n",
              "          docLink.innerHTML = docLinkHtml;\n",
              "          element.appendChild(docLink);\n",
              "        }\n",
              "      </script>\n",
              "    </div>\n",
              "  </div>\n",
              "  "
            ]
          },
          "metadata": {},
          "execution_count": 56
        }
      ]
    },
    {
      "cell_type": "markdown",
      "source": [
        "* Check for missing values: "
      ],
      "metadata": {
        "id": "jc16cMQFUC7p"
      }
    },
    {
      "cell_type": "code",
      "source": [
        "def plot_null_values(df):\n",
        "  if df.isnull().sum().sum() != 0:\n",
        "    na_df = (df.isnull().sum() / len(df)) * 100\n",
        "    na_df = na_df.drop(na_df[na_df == 0].index).sort_values(ascending=False)\n",
        "    missing_data = pd.DataFrame({'Missing Ratio %' :na_df})\n",
        "    missing_data.plot(kind = \"barh\")\n",
        "    plt.show()\n",
        "  else:\n",
        "    print('No NAs found')\n",
        "  return"
      ],
      "metadata": {
        "id": "DmtcrtJzb1V_"
      },
      "execution_count": 57,
      "outputs": []
    },
    {
      "cell_type": "code",
      "source": [
        "plot_null_values(df)"
      ],
      "metadata": {
        "colab": {
          "base_uri": "https://localhost:8080/"
        },
        "id": "LCBaREy4b5cg",
        "outputId": "ab62e876-9dc9-46a9-a0b3-9c0b4ee9372b"
      },
      "execution_count": 58,
      "outputs": [
        {
          "output_type": "stream",
          "name": "stdout",
          "text": [
            "No NAs found\n"
          ]
        }
      ]
    },
    {
      "cell_type": "code",
      "source": [
        "# Distribution of Net Revenue\n",
        "binsize = 2\n",
        "interest_rate_perc = df['net_revenue']\n",
        "bins = np.arange(df['net_revenue'].min(), df['net_revenue'].max()+binsize, binsize)\n",
        "\n",
        "plt.figure(figsize=[10, 5])\n",
        "plt.hist(x = interest_rate_perc, bins = bins)\n",
        "plt.title('Net Revenue Distribution')\n",
        "plt.xlabel('Net Revenue')\n",
        "plt.ylabel('Count')\n",
        "plt.show()"
      ],
      "metadata": {
        "colab": {
          "base_uri": "https://localhost:8080/",
          "height": 350
        },
        "id": "GdUL8nq5b--b",
        "outputId": "1de825d3-63f4-49bb-8907-1d4e96589105"
      },
      "execution_count": 59,
      "outputs": [
        {
          "output_type": "display_data",
          "data": {
            "text/plain": [
              "<Figure size 720x360 with 1 Axes>"
            ],
            "image/png": "[encoded data removed]"
          },
          "metadata": {
            "needs_background": "light"
          }
        }
      ]
    },
    {
      "cell_type": "code",
      "source": [
        "df['year'].value_counts()"
      ],
      "metadata": {
        "colab": {
          "base_uri": "https://localhost:8080/"
        },
        "id": "zdXUgPuacW4x",
        "outputId": "d8bc595a-276c-414d-83b3-776c5a0857ec"
      },
      "execution_count": 60,
      "outputs": [
        {
          "output_type": "execute_result",
          "data": {
            "text/plain": [
              "2017    249987\n",
              "2015    231294\n",
              "2016    204646\n",
              "Name: year, dtype: int64"
            ]
          },
          "metadata": {},
          "execution_count": 60
        }
      ]
    },
    {
      "cell_type": "code",
      "source": [
        "plt.figure(figsize = [18, 5])\n",
        "sns.boxplot(data=df,y='net_revenue',x='year')\n",
        "plt.title('Net Revenue & Year')\n",
        "plt.ylabel('Net Revenue')\n",
        "plt.xlabel('Year')\n",
        "plt.xticks(rotation=15)"
      ],
      "metadata": {
        "colab": {
          "base_uri": "https://localhost:8080/",
          "height": 350
        },
        "id": "Et3MMCYkcdpk",
        "outputId": "48a37f74-f623-4353-9d95-ac83eca39b99"
      },
      "execution_count": 61,
      "outputs": [
        {
          "output_type": "execute_result",
          "data": {
            "text/plain": [
              "(array([0, 1, 2]), <a list of 3 Text major ticklabel objects>)"
            ]
          },
          "metadata": {},
          "execution_count": 61
        },
        {
          "output_type": "display_data",
          "data": {
            "text/plain": [
              "<Figure size 1296x360 with 1 Axes>"
            ],
            "image/png": "[encoded data removed]"
          },
          "metadata": {
            "needs_background": "light"
          }
        }
      ]
    },
    {
      "cell_type": "markdown",
      "source": [
        "## Calculations "
      ],
      "metadata": {
        "id": "da6UMDMfcTnI"
      }
    },
    {
      "cell_type": "markdown",
      "source": [
        "The following functions sum up the desired output values for the years 2017 and 2016. Looking at each year, you can find information about the current and the previous year. In this way, information for year 2015 is also provided."
      ],
      "metadata": {
        "id": "JZMEBwzqUn5E"
      }
    },
    {
      "cell_type": "code",
      "source": [
        "def print_results(year, customers, revenue, prev_revenue, new_customers, per_new_customers, \n",
        "                  new_customer_revenue, per_new_customer_revenue,\n",
        "                  existing_customers, per_existing_customers, exist_curr_revenue,\n",
        "                  exist_prev_revenue, growth, lost_customers, revenue_lost, \n",
        "                  customers_prev):\n",
        "  \n",
        "  print('#########' + str(year) + '#########')\n",
        "  print(' No. of Customers in Curr Year:                            ', customers)\n",
        "  print(' No. of Customers in Prev Year:                            ', customers_prev)\n",
        "  print(' No. of New Customers:                                     ', new_customers)\n",
        "  print(' Percentage of New Customers:                              ', per_new_customers)\n",
        "  print(' No. of Existing Customers from Prev Year:                 ', existing_customers)\n",
        "  print(' Percentage of Existing Customers from Prev Year:          ', per_existing_customers)\n",
        "  print(' No. of Lost Customers:                                    ', lost_customers)\n",
        "  print()\n",
        "  print(' Total Revenue in $:                                       ', revenue)\n",
        "  print(' Total Revenue in $ for Prev Year:                         ', prev_revenue)\n",
        "  print(' New-Customer-Revenue in $:                                ', new_customer_revenue)\n",
        "  print(' Percentage of New-Customer-Revenue:                       ', per_new_customer_revenue)\n",
        "  print(' Total Revenue of Existing Customers in $:                 ', exist_curr_revenue)\n",
        "  print(' Total Revenue of Existing Customers in $ for Prev Year:   ', exist_prev_revenue)\n",
        "  print(' Total Revenue Lost due to Attrition in $:                 ', revenue_lost)\n",
        "  print()\n",
        "  print(' Existing-Customer-Growth in $:                            ', growth)\n",
        "  \n",
        "  return "
      ],
      "metadata": {
        "id": "mAvzLsfYfmVZ"
      },
      "execution_count": 62,
      "outputs": []
    },
    {
      "cell_type": "code",
      "source": [
        "def calculate(df, curr_year, prev_year):\n",
        "  df_curr = df[(df['year'] == curr_year)]\n",
        "  df_prev = df[(df['year'] == prev_year)]\n",
        "\n",
        "  # Calculate Total Revenue of Curr Year\n",
        "  net_revenue_total = df_curr['net_revenue'].sum()\n",
        "\n",
        "  # Calculate Total Revenue of Prev Year\n",
        "  net_revenue_total_prev = df_prev['net_revenue'].sum()\n",
        "\n",
        "  # Find the number of unique customers of Curr Year\n",
        "  unique_customers_list = df_curr['customer_email'].unique().tolist()\n",
        "  unique_customers = len(unique_customers_list)\n",
        "\n",
        "  # Find the number of unique customers of Prev Year\n",
        "  unique_prev_customers_list = df_prev['customer_email'].unique().tolist()\n",
        "  unique_prev_customers = len(unique_prev_customers_list)\n",
        "\n",
        "  # Calculate New-Customer-Revenue \n",
        "  # New-Customer-Revenue = Total Revenue from New Customers / Total Revenue\n",
        "\n",
        "  # Keep dataset with only New Customers for Curr Year\n",
        "  customers_curr = set(unique_customers_list)  \n",
        "  \n",
        "  # Keep dataset with only New Customers for Prev Year\n",
        "  unique_customers_prev_list = df_prev['customer_email'].unique().tolist()\n",
        "  customers_prev = set(unique_customers_prev_list)\n",
        "\n",
        "  # Find Customers that exist both in Curr and Prev Year\n",
        "  customers_joint = list(customers_curr.intersection(customers_prev))\n",
        "\n",
        "  # Indicate which rows contain new customers\n",
        "  # with the ~ operator we keep the customers that \n",
        "  # do not belong to the joint of customers that exist both in \n",
        "  # previous and current years -> these are the new customers.\n",
        "  new_customers_mask = ~df_curr['customer_email'].isin(customers_joint)\n",
        "  new_customers_curr_df = df_curr[new_customers_mask]\n",
        "\n",
        "  # Calculate number of New Customers for Curr Year\n",
        "  new_customers_list = new_customers_curr_df['customer_email'].unique().tolist()\n",
        "  new_customers = len(new_customers_list)\n",
        "\n",
        "  per_new_customers = (new_customers / unique_customers) * 100.0\n",
        "\n",
        "  total_revenue_new_customers = new_customers_curr_df['net_revenue'].sum()\n",
        "  new_customer_revenue = total_revenue_new_customers / net_revenue_total\n",
        "\n",
        "  # Calculate the Existing-Customer-Growth\n",
        "  # Existing-Customer-Growth = Total Revenue - New Customer Total Revenue\n",
        "  growth = net_revenue_total - total_revenue_new_customers\n",
        "\n",
        "  # Calculate Existing-Customer-Revenue for Curr Year\n",
        "  # Indicate which rows contain existing customers\n",
        "  existing_customers_curr_mask = df_curr['customer_email'].isin(customers_joint)\n",
        "  existing_customers_curr_df = df_curr[existing_customers_curr_mask]\n",
        "\n",
        "  # Calculate number of Existing Customers for Curr Year\n",
        "  existing_customers_list = existing_customers_curr_df['customer_email'].unique().tolist()\n",
        "  existing_customers = len(existing_customers_list)\n",
        "\n",
        "  per_existing_customers = (existing_customers / unique_customers) * 100.0\n",
        "\n",
        "  total_revenue_existing_customers = existing_customers_curr_df['net_revenue'].sum()\n",
        "  \n",
        "  existing_customers_prev_mask = df_prev['customer_email'].isin(customers_joint)\n",
        "  existing_customers_prev_df = df_prev[existing_customers_prev_mask]\n",
        "\n",
        "  total_revenue_existing_customers_prev = existing_customers_prev_df['net_revenue'].sum()\n",
        "\n",
        "  # Find the lost customers: customers that existed in the previous year\n",
        "  # but do not exist in the current year.\n",
        "  difference = list(customers_prev.difference(customers_curr))\n",
        "  lost_customers = len(difference)\n",
        "\n",
        "  # Calculate Revenue Lost from Attrition\n",
        "  lost_customers_mask = df_prev['customer_email'].isin(difference)\n",
        "  lost_customers_df = df_prev[lost_customers_mask]\n",
        "  lost_customers_revenue = lost_customers_df['net_revenue'].sum()\n",
        "\n",
        "\n",
        "  print_results(year, unique_customers, net_revenue_total, net_revenue_total_prev,\n",
        "                new_customers, per_new_customers, total_revenue_new_customers, \n",
        "                new_customer_revenue, existing_customers,\n",
        "                per_existing_customers, total_revenue_existing_customers, \n",
        "                total_revenue_existing_customers_prev, growth, lost_customers,\n",
        "                lost_customers_revenue, unique_prev_customers)\n",
        " \n",
        "  return [net_revenue_total, net_revenue_total_prev, total_revenue_new_customers, \n",
        "          lost_customers_revenue, total_revenue_existing_customers, \n",
        "          total_revenue_existing_customers_prev, unique_customers, unique_prev_customers,\n",
        "          new_customers, lost_customers, growth]"
      ],
      "metadata": {
        "id": "0RBF-VUnktV4"
      },
      "execution_count": 63,
      "outputs": []
    },
    {
      "cell_type": "markdown",
      "source": [
        "## Results Per Year - Visualizations"
      ],
      "metadata": {
        "id": "qNO2CdspfgTS"
      }
    },
    {
      "cell_type": "code",
      "source": [
        "year = 2017\n",
        "\n",
        "[net_rev_17, net_rev_16, new_cust_rev_17, lost_cust_rev_17, exist_cust_rev_17, \n",
        " exist_cust_rev_prev17, cust_17, cust_16, new_cust_17, lost_cust_17,\n",
        " growth_17] = calculate(df, curr_year=2017, prev_year=2016)"
      ],
      "metadata": {
        "colab": {
          "base_uri": "https://localhost:8080/"
        },
        "id": "R3Uoj6cEvP2u",
        "outputId": "f17ab08b-bd75-4424-904a-b389594a97c0"
      },
      "execution_count": 64,
      "outputs": [
        {
          "output_type": "stream",
          "name": "stdout",
          "text": [
            "#########2017#########\n",
            " No. of Customers in Curr Year:                             249987\n",
            " No. of Customers in Prev Year:                             204646\n",
            " No. of New Customers:                                      229028\n",
            " Percentage of New Customers:                               91.61596403012958\n",
            " No. of Existing Customers from Prev Year:                  20959\n",
            " Percentage of Existing Customers from Prev Year:           8.384035969870434\n",
            " No. of Lost Customers:                                     183687\n",
            "\n",
            " Total Revenue in $:                                        31417495.030000016\n",
            " Total Revenue in $ for Prev Year:                          25730943.59\n",
            " New-Customer-Revenue in $:                                 28776235.039999995\n",
            " Percentage of New-Customer-Revenue:                        0.9159302806452925\n",
            " Total Revenue of Existing Customers in $:                  2641259.99\n",
            " Total Revenue of Existing Customers in $ for Prev Year:    2620648.65\n",
            " Total Revenue Lost due to Attrition in $:                  23110294.939999998\n",
            "\n",
            " Existing-Customer-Growth in $:                             2641259.9900000207\n"
          ]
        }
      ]
    },
    {
      "cell_type": "code",
      "source": [
        "year = 2016\n",
        "\n",
        "[net_rev_16, net_rev_15, new_cust_rev_16, lost_cust_rev_16, exist_cust_rev_16, \n",
        " exist_cust_rev_prev16, cust_16, cust_15, new_cust_16, lost_cust_16,\n",
        " growth_16] = calculate(df, curr_year=2016, prev_year=2015)"
      ],
      "metadata": {
        "colab": {
          "base_uri": "https://localhost:8080/"
        },
        "id": "ZVonInW-0voh",
        "outputId": "85eb20da-bb77-4a35-cd69-2de874fd832d"
      },
      "execution_count": 65,
      "outputs": [
        {
          "output_type": "stream",
          "name": "stdout",
          "text": [
            "#########2016#########\n",
            " No. of Customers in Curr Year:                             204646\n",
            " No. of Customers in Prev Year:                             231294\n",
            " No. of New Customers:                                      145062\n",
            " Percentage of New Customers:                               70.8843564008092\n",
            " No. of Existing Customers from Prev Year:                  59584\n",
            " Percentage of Existing Customers from Prev Year:           29.1156435991908\n",
            " No. of Lost Customers:                                     171710\n",
            "\n",
            " Total Revenue in $:                                        25730943.59\n",
            " Total Revenue in $ for Prev Year:                          29036749.189999994\n",
            " New-Customer-Revenue in $:                                 18245491.01\n",
            " Percentage of New-Customer-Revenue:                        0.709087521263343\n",
            " Total Revenue of Existing Customers in $:                  7485452.58\n",
            " Total Revenue of Existing Customers in $ for Prev Year:    7465117.12\n",
            " Total Revenue Lost due to Attrition in $:                  21571632.070000004\n",
            "\n",
            " Existing-Customer-Growth in $:                             7485452.579999998\n"
          ]
        }
      ]
    },
    {
      "cell_type": "markdown",
      "source": [
        "##Visualizations"
      ],
      "metadata": {
        "id": "sohiAOptlQ2A"
      }
    },
    {
      "cell_type": "markdown",
      "source": [
        "* `Bar Chart showing the Total Revenue for each year, broken down by new and existing customers.`"
      ],
      "metadata": {
        "id": "YK3W8GfLrH1O"
      }
    },
    {
      "cell_type": "markdown",
      "source": [
        "The bar chart shows the Total Revenue for the years 2016 and 2017, broken down by New and Existing customers. The \"New\" bar is larger than the \"Existing\" bar for both years, indicating that the Total Revenue from New Customers is greater than the Total Revenue from Existing Customers. In addition, the Total Revenue from New Customers has increased between the two years, while the Total Revenue from Existing Customers has decreased. This suggests that the business may be more successful at attracting new customers and generating revenue from them, but may be struggling to retain and grow its existing customer base. By looking at the bar chart, we can see that the total revenue from new and existing customers has changed over time and may need to be further analyzed in order to identify potential opportunities for improvement."
      ],
      "metadata": {
        "id": "7blxGbm5tiTb"
      }
    },
    {
      "cell_type": "code",
      "source": [
        "years = [2016, 2017]\n",
        "new_cust_revenue = [new_cust_rev_16, new_cust_rev_17]\n",
        "exist_cust_revenue = [exist_cust_rev_16, exist_cust_rev_17]\n",
        "\n",
        "plt.figure(figsize = (6, 5))\n",
        "plt.bar(years, new_cust_revenue, width=0.3, label=\"New\")\n",
        "plt.bar(years, exist_cust_revenue, bottom=new_cust_revenue, width=0.3, label=\"Existing\")\n",
        "plt.xlabel(\"Year\")\n",
        "plt.ylabel(\"Total Revenue\")\n",
        "plt.title(\"Total Revenue by Year and Customer Type\")\n",
        "plt.legend()\n",
        "plt.show()"
      ],
      "metadata": {
        "colab": {
          "base_uri": "https://localhost:8080/",
          "height": 350
        },
        "id": "UHUdgdMQrSbd",
        "outputId": "4a6daf27-1ce5-4215-c431-a47f1908ede1"
      },
      "execution_count": 66,
      "outputs": [
        {
          "output_type": "display_data",
          "data": {
            "text/plain": [
              "<Figure size 432x360 with 1 Axes>"
            ],
            "image/png": "[encoded data removed]"
          },
          "metadata": {
            "needs_background": "light"
          }
        }
      ]
    },
    {
      "cell_type": "markdown",
      "source": [
        "* `Line Chart showing the Existing Customer Growth per year`.\n",
        "\n",
        "The line chart shows the Existing Customer Growth for the years 2016 and 2017. The line starts at a relatively high point in 2016 and decreases over time, indicating that the Existing Customer Growth has declined between the two years. This may be due to a variety of factors, such as increased competition, changes in customer preferences, or shifts in the market. By looking at the line chart, we can see that the Existing Customer Growth has decreased over time and may need to be addressed in order to maintain the health of the business."
      ],
      "metadata": {
        "id": "fSp9fSn6vUkK"
      }
    },
    {
      "cell_type": "code",
      "source": [
        "years = [2016, 2017]\n",
        "growth = [growth_16, growth_17]\n",
        "\n",
        "plt.figure(figsize = (10, 6))\n",
        "plt.plot(years, growth)\n",
        "plt.xlabel(\"Year\")\n",
        "plt.ylabel(\"Existing Customer Growth\")\n",
        "plt.title(\"Existing Customer Growth by Year\")\n",
        "plt.legend()\n",
        "plt.show()"
      ],
      "metadata": {
        "colab": {
          "base_uri": "https://localhost:8080/",
          "height": 421
        },
        "id": "O-Bis4hcvcEn",
        "outputId": "94f95746-65c2-4bff-c97a-cb194911131f"
      },
      "execution_count": 67,
      "outputs": [
        {
          "output_type": "stream",
          "name": "stderr",
          "text": [
            "WARNING:matplotlib.legend:No handles with labels found to put in legend.\n"
          ]
        },
        {
          "output_type": "display_data",
          "data": {
            "text/plain": [
              "<Figure size 720x432 with 1 Axes>"
            ],
            "image/png": "[encoded data removed]"
          },
          "metadata": {
            "needs_background": "light"
          }
        }
      ]
    },
    {
      "cell_type": "markdown",
      "source": [
        "* `Bar chart showing the Total Revenue of each year`\n",
        "\n",
        "The bar chart shows the Total Revenue for the years 2015, 2016, and 2017. The Total Revenue for 2017 is larger than those of 2016 and 2015, indicating that the business has experienced overall Revenue Growth over the three-year period. However, the Total Revenue of 2016 is smaller than the one of 2015, suggesting that the business may have experienced a temporary dip in Revenue between these two years. This may be due to a variety of factors, such as changes in market conditions, shifts in customer preferences, or the introduction of new competitors. By looking at the bar chart, we can see that the Total Revenue has changed over time and may need to be further analyzed in order to identify potential opportunities for improvement."
      ],
      "metadata": {
        "id": "NALp3RS6xZdx"
      }
    },
    {
      "cell_type": "code",
      "source": [
        "# Total Revenue\n",
        "data = {'2015': net_rev_15 ,'2016': net_rev_16,'2017': net_rev_17}\n",
        "x = list(data.keys())\n",
        "y = list(data.values()) \n",
        "fig = plt.figure(figsize = (10, 4))\n",
        "plt.barh(x, y, height=0.3, color='purple')\n",
        "plt.xlabel(\"Year\")\n",
        "plt.ylabel(\"Total Revenue\")\n",
        "plt.title(\"Total Revenue in Million($)\")\n",
        "plt.grid(False)\n",
        "plt.show()"
      ],
      "metadata": {
        "colab": {
          "base_uri": "https://localhost:8080/",
          "height": 295
        },
        "id": "45wi0K_d0-m2",
        "outputId": "5c6a0991-53b6-4a99-a774-10ada662ad6d"
      },
      "execution_count": 68,
      "outputs": [
        {
          "output_type": "display_data",
          "data": {
            "text/plain": [
              "<Figure size 720x288 with 1 Axes>"
            ],
            "image/png": "[encoded data removed]"
          },
          "metadata": {
            "needs_background": "light"
          }
        }
      ]
    },
    {
      "cell_type": "markdown",
      "source": [
        "* `Bar Chart showing the Total Revenue`\n",
        "\n",
        "The bar chart shows the New Customers' Revenue, the Revenue Lost from Attrition, and the Total Revenue for the years 2016 and 2017. The Total Revenue had increased between the two years, indicating that the business has been successful in generating overall Revenue Growth. However, the Revenue Lost from Attrition is almost the same for both years, suggesting that the business may be struggling to retain its existing customer base. The New Customers' Revenue has also changed between the two years, with the Revenue Lost being larger than the New Customers' Revenue in 2016, and the opposite happening in 2017. This indicates that the business may have experienced changes in its ability to attract and generate revenue from new customers over time. By looking at the bar chart, we can see that the revenue from different sources has changed over time and may need to be further analyzed in order to identify potential areas for improvement."
      ],
      "metadata": {
        "id": "xt46Ql_YznH9"
      }
    },
    {
      "cell_type": "code",
      "source": [
        "#  Revenue\n",
        "years = ['2016', '2017']\n",
        "revenue_total = [net_rev_16, net_rev_17]\n",
        "revenue_lost = [lost_cust_rev_16, lost_cust_rev_17]\n",
        "revenue_new_cust = [new_cust_rev_16, new_cust_rev_17]\n",
        "\n",
        "  \n",
        "fig = plt.figure(figsize = (10, 8))  \n",
        "X_axis = np.arange(len(years))\n",
        "  \n",
        "plt.bar(X_axis - 0.1, revenue_new_cust, 0.2, label = \"New Customers' Revenue\")\n",
        "plt.bar(X_axis + 0.1, revenue_lost, 0.2, label = \"Revenue Lost from attrition\")\n",
        "plt.bar(X_axis + 0.3, revenue_total, 0.2, label = \"Total Revenue\")\n",
        "\n",
        "plt.xticks(X_axis, years)\n",
        "plt.xlabel(\"Years\")\n",
        "plt.ylabel(\"Revenue in Million($)\")\n",
        "plt.title(\"Revenue in Million($)\")\n",
        "plt.legend()\n",
        "plt.show()"
      ],
      "metadata": {
        "colab": {
          "base_uri": "https://localhost:8080/",
          "height": 513
        },
        "id": "yYKfTtP7KNhK",
        "outputId": "662bdc98-108e-42f0-9bc7-78124a13c94c"
      },
      "execution_count": 69,
      "outputs": [
        {
          "output_type": "display_data",
          "data": {
            "text/plain": [
              "<Figure size 720x576 with 1 Axes>"
            ],
            "image/png": "[encoded data removed]"
          },
          "metadata": {
            "needs_background": "light"
          }
        }
      ]
    },
    {
      "cell_type": "markdown",
      "source": [
        "* `Bar Chart showing the total Customers for each year`\n",
        "\n",
        "The bar chart shows the total number of Customers for the years 2015, 2016, and 2017. The total number of Customers has changed over time, with the number of Customers in 2017 being larger than those of the other years. This may indicate that the business has been successful at attracting New Customers and growing its Customer Base over the three-year period. However, the number of Customers in 2015 is larger than the number of Customers in 2016, suggesting that the business may have experienced a temporary dip in the number of Customers between these two years. This may be due to a variety of factors, such as changes in market conditions, shifts in Customer preferences, or the introduction of new competitors. By looking at the bar chart, we can see how the total number of Customers has changed over time and may need to be further analyzed in order to identify potential opportunities for improvement."
      ],
      "metadata": {
        "id": "HCh9wEPR1oHc"
      }
    },
    {
      "cell_type": "code",
      "source": [
        "data = {'2015': cust_15,'2016': cust_16,'2017': cust_17}\n",
        "x = list(data.keys())\n",
        "y = list(data.values()) \n",
        "fig = plt.figure(figsize = (6, 4))\n",
        "plt.bar(x, y, width=0.3, color='darkred')\n",
        "plt.xlabel(\"Year\")\n",
        "plt.ylabel(\"Total Customers\")\n",
        "plt.title(\"Total Customers\")\n",
        "plt.grid(False)\n",
        "plt.show()"
      ],
      "metadata": {
        "colab": {
          "base_uri": "https://localhost:8080/",
          "height": 295
        },
        "id": "l87hyBY15uFt",
        "outputId": "a8189870-b87b-443d-ffb5-7da3b655f738"
      },
      "execution_count": 70,
      "outputs": [
        {
          "output_type": "display_data",
          "data": {
            "text/plain": [
              "<Figure size 432x288 with 1 Axes>"
            ],
            "image/png": "[encoded data removed]"
          },
          "metadata": {
            "needs_background": "light"
          }
        }
      ]
    },
    {
      "cell_type": "markdown",
      "source": [
        "* `Bar Chart showing the total, new and lost Customers`\n",
        "\n",
        "The bar chart shows the total, new, and lost Customers for the years 2016 and 2017. The total number of Customers has increased between the two years, with the number of total Customers in 2017 being larger than those of 2016. This may indicate that the business has been successful at attracting new Customers and growing its overall customer base. However, the number of lost Customers is almost the same for both years, suggesting that the business may be struggling to retain its existing Customers. The number of new Customers has also changed between the two years, with the number of new Customers being higher in 2017 than in 2016. This may indicate that the business has experienced changes in its ability to attract new Customers over time. By looking at the bar chart, we can see how the total, new, and lost Customers have changed over time and may need to be further analyzed in order to identify potential opportunities for improvement."
      ],
      "metadata": {
        "id": "yqmb-toG2ngA"
      }
    },
    {
      "cell_type": "code",
      "source": [
        "X_years = ['2016', '2017']\n",
        "new_customers = [new_cust_16, new_cust_17]\n",
        "lost_customers = [lost_cust_16, lost_cust_17]\n",
        "total_customers = [cust_16, cust_17]\n",
        "  \n",
        "X_axis = np.arange(len(X_years))\n",
        "fig = plt.figure(figsize = (8, 6))  \n",
        "plt.bar(X_axis - 0.1, new_customers, 0.2, label = 'New Customers')\n",
        "plt.bar(X_axis + 0.1, lost_customers, 0.2, label = 'Lost Customers')\n",
        "plt.bar(X_axis + 0.3, total_customers, 0.2, label = 'Total Customers')\n",
        "  \n",
        "plt.xticks(X_axis, X_years)\n",
        "plt.xlabel(\"Years\")\n",
        "plt.ylabel(\"Number of Customers\")\n",
        "plt.title(\"Customers in each year\")\n",
        "plt.legend()\n",
        "plt.show()"
      ],
      "metadata": {
        "colab": {
          "base_uri": "https://localhost:8080/",
          "height": 404
        },
        "id": "clsO7JLTERK9",
        "outputId": "03ed127a-1e30-41bb-ef25-f04e3a13aa09"
      },
      "execution_count": 71,
      "outputs": [
        {
          "output_type": "display_data",
          "data": {
            "text/plain": [
              "<Figure size 576x432 with 1 Axes>"
            ],
            "image/png": "[encoded data removed]"
          },
          "metadata": {
            "needs_background": "light"
          }
        }
      ]
    }
  ]
}