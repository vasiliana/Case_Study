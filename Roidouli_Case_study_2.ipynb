{
  "nbformat": 4,
  "nbformat_minor": 0,
  "metadata": {
    "colab": {
      "provenance": []
    },
    "kernelspec": {
      "name": "python3",
      "display_name": "Python 3"
    },
    "language_info": {
      "name": "python"
    }
  },
  "cells": [
    {
      "cell_type": "code",
      "execution_count": null,
      "metadata": {
        "id": "W2UrtM2a3ws_"
      },
      "outputs": [],
      "source": [
        "from google.colab import drive\n",
        "import pandas as pd\n",
        "import numpy as np\n",
        "import matplotlib.pyplot as plt\n",
        "import seaborn as sns"
      ]
    },
    {
      "cell_type": "code",
      "source": [
        "drive.mount('/content/gdrive')"
      ],
      "metadata": {
        "colab": {
          "base_uri": "https://localhost:8080/"
        },
        "id": "qeZfB85z36nD",
        "outputId": "1119d30b-ac26-4577-8a7b-3573c92e4ab9"
      },
      "execution_count": null,
      "outputs": [
        {
          "output_type": "stream",
          "name": "stdout",
          "text": [
            "Drive already mounted at /content/gdrive; to attempt to forcibly remount, call drive.mount(\"/content/gdrive\", force_remount=True).\n"
          ]
        }
      ]
    },
    {
      "cell_type": "markdown",
      "source": [
        "## A Quick Look on the Dataset"
      ],
      "metadata": {
        "id": "Eu_7UolQbhcB"
      }
    },
    {
      "cell_type": "code",
      "source": [
        "# Load dataset\n",
        "df = pd.read_csv(\"/content/gdrive/MyDrive/stout/casestudy.csv\")"
      ],
      "metadata": {
        "id": "-_jbMPGL4NH0"
      },
      "execution_count": null,
      "outputs": []
    },
    {
      "cell_type": "code",
      "source": [
        "df.shape # size of the dataset"
      ],
      "metadata": {
        "colab": {
          "base_uri": "https://localhost:8080/"
        },
        "id": "DWaJiP8G8uxI",
        "outputId": "899bd1ff-a1c8-443b-fc54-c24b1672d500"
      },
      "execution_count": null,
      "outputs": [
        {
          "output_type": "execute_result",
          "data": {
            "text/plain": [
              "(685927, 4)"
            ]
          },
          "metadata": {},
          "execution_count": 259
        }
      ]
    },
    {
      "cell_type": "code",
      "source": [
        "df.sample(5) "
      ],
      "metadata": {
        "colab": {
          "base_uri": "https://localhost:8080/"
        },
        "id": "kZxgCbr48zG3",
        "outputId": "aeedb9d3-7f8e-4211-81c2-e46518c08dd6"
      },
      "execution_count": null,
      "outputs": [
        {
          "output_type": "execute_result",
          "data": {
            "text/plain": [
              "        Unnamed: 0         customer_email  net_revenue  year\n",
              "123042      123042   pzvhddnssk@gmail.com        17.38  2015\n",
              "138418      138418   scbrzrwtgd@gmail.com        26.03  2015\n",
              "280016      280016  vfsgpusbgo@gmail.com          1.33  2016\n",
              "260708      260708   oroqenysvl@gmail.com       206.10  2016\n",
              "144695      144695   zskmfadwki@gmail.com       119.25  2015"
            ],
            "text/html": [
              "\n",
              "  <div id=\"df-b7c4ebd7-28e1-4a21-b7d5-6cdbe52c034a\">\n",
              "    <div class=\"colab-df-container\">\n",
              "      <div>\n",
              "<style scoped>\n",
              "    .dataframe tbody tr th:only-of-type {\n",
              "        vertical-align: middle;\n",
              "    }\n",
              "\n",
              "    .dataframe tbody tr th {\n",
              "        vertical-align: top;\n",
              "    }\n",
              "\n",
              "    .dataframe thead th {\n",
              "        text-align: right;\n",
              "    }\n",
              "</style>\n",
              "<table border=\"1\" class=\"dataframe\">\n",
              "  <thead>\n",
              "    <tr style=\"text-align: right;\">\n",
              "      <th></th>\n",
              "      <th>Unnamed: 0</th>\n",
              "      <th>customer_email</th>\n",
              "      <th>net_revenue</th>\n",
              "      <th>year</th>\n",
              "    </tr>\n",
              "  </thead>\n",
              "  <tbody>\n",
              "    <tr>\n",
              "      <th>123042</th>\n",
              "      <td>123042</td>\n",
              "      <td>pzvhddnssk@gmail.com</td>\n",
              "      <td>17.38</td>\n",
              "      <td>2015</td>\n",
              "    </tr>\n",
              "    <tr>\n",
              "      <th>138418</th>\n",
              "      <td>138418</td>\n",
              "      <td>scbrzrwtgd@gmail.com</td>\n",
              "      <td>26.03</td>\n",
              "      <td>2015</td>\n",
              "    </tr>\n",
              "    <tr>\n",
              "      <th>280016</th>\n",
              "      <td>280016</td>\n",
              "      <td>vfsgpusbgo@gmail.com</td>\n",
              "      <td>1.33</td>\n",
              "      <td>2016</td>\n",
              "    </tr>\n",
              "    <tr>\n",
              "      <th>260708</th>\n",
              "      <td>260708</td>\n",
              "      <td>oroqenysvl@gmail.com</td>\n",
              "      <td>206.10</td>\n",
              "      <td>2016</td>\n",
              "    </tr>\n",
              "    <tr>\n",
              "      <th>144695</th>\n",
              "      <td>144695</td>\n",
              "      <td>zskmfadwki@gmail.com</td>\n",
              "      <td>119.25</td>\n",
              "      <td>2015</td>\n",
              "    </tr>\n",
              "  </tbody>\n",
              "</table>\n",
              "</div>\n",
              "      <button class=\"colab-df-convert\" onclick=\"convertToInteractive('df-b7c4ebd7-28e1-4a21-b7d5-6cdbe52c034a')\"\n",
              "              title=\"Convert this dataframe to an interactive table.\"\n",
              "              style=\"display:none;\">\n",
              "        \n",
              "  <svg xmlns=\"http://www.w3.org/2000/svg\" height=\"24px\"viewBox=\"0 0 24 24\"\n",
              "       width=\"24px\">\n",
              "    <path d=\"M0 0h24v24H0V0z\" fill=\"none\"/>\n",
              "    <path d=\"M18.56 5.44l.94 2.06.94-2.06 2.06-.94-2.06-.94-.94-2.06-.94 2.06-2.06.94zm-11 1L8.5 8.5l.94-2.06 2.06-.94-2.06-.94L8.5 2.5l-.94 2.06-2.06.94zm10 10l.94 2.06.94-2.06 2.06-.94-2.06-.94-.94-2.06-.94 2.06-2.06.94z\"/><path d=\"M17.41 7.96l-1.37-1.37c-.4-.4-.92-.59-1.43-.59-.52 0-1.04.2-1.43.59L10.3 9.45l-7.72 7.72c-.78.78-.78 2.05 0 2.83L4 21.41c.39.39.9.59 1.41.59.51 0 1.02-.2 1.41-.59l7.78-7.78 2.81-2.81c.8-.78.8-2.07 0-2.86zM5.41 20L4 18.59l7.72-7.72 1.47 1.35L5.41 20z\"/>\n",
              "  </svg>\n",
              "      </button>\n",
              "      \n",
              "  <style>\n",
              "    .colab-df-container {\n",
              "      display:flex;\n",
              "      flex-wrap:wrap;\n",
              "      gap: 12px;\n",
              "    }\n",
              "\n",
              "    .colab-df-convert {\n",
              "      background-color: #E8F0FE;\n",
              "      border: none;\n",
              "      border-radius: 50%;\n",
              "      cursor: pointer;\n",
              "      display: none;\n",
              "      fill: #1967D2;\n",
              "      height: 32px;\n",
              "      padding: 0 0 0 0;\n",
              "      width: 32px;\n",
              "    }\n",
              "\n",
              "    .colab-df-convert:hover {\n",
              "      background-color: #E2EBFA;\n",
              "      box-shadow: 0px 1px 2px rgba(60, 64, 67, 0.3), 0px 1px 3px 1px rgba(60, 64, 67, 0.15);\n",
              "      fill: #174EA6;\n",
              "    }\n",
              "\n",
              "    [theme=dark] .colab-df-convert {\n",
              "      background-color: #3B4455;\n",
              "      fill: #D2E3FC;\n",
              "    }\n",
              "\n",
              "    [theme=dark] .colab-df-convert:hover {\n",
              "      background-color: #434B5C;\n",
              "      box-shadow: 0px 1px 3px 1px rgba(0, 0, 0, 0.15);\n",
              "      filter: drop-shadow(0px 1px 2px rgba(0, 0, 0, 0.3));\n",
              "      fill: #FFFFFF;\n",
              "    }\n",
              "  </style>\n",
              "\n",
              "      <script>\n",
              "        const buttonEl =\n",
              "          document.querySelector('#df-b7c4ebd7-28e1-4a21-b7d5-6cdbe52c034a button.colab-df-convert');\n",
              "        buttonEl.style.display =\n",
              "          google.colab.kernel.accessAllowed ? 'block' : 'none';\n",
              "\n",
              "        async function convertToInteractive(key) {\n",
              "          const element = document.querySelector('#df-b7c4ebd7-28e1-4a21-b7d5-6cdbe52c034a');\n",
              "          const dataTable =\n",
              "            await google.colab.kernel.invokeFunction('convertToInteractive',\n",
              "                                                     [key], {});\n",
              "          if (!dataTable) return;\n",
              "\n",
              "          const docLinkHtml = 'Like what you see? Visit the ' +\n",
              "            '<a target=\"_blank\" href=https://colab.research.google.com/notebooks/data_table.ipynb>data table notebook</a>'\n",
              "            + ' to learn more about interactive tables.';\n",
              "          element.innerHTML = '';\n",
              "          dataTable['output_type'] = 'display_data';\n",
              "          await google.colab.output.renderOutput(dataTable, element);\n",
              "          const docLink = document.createElement('div');\n",
              "          docLink.innerHTML = docLinkHtml;\n",
              "          element.appendChild(docLink);\n",
              "        }\n",
              "      </script>\n",
              "    </div>\n",
              "  </div>\n",
              "  "
            ]
          },
          "metadata": {},
          "execution_count": 260
        }
      ]
    },
    {
      "cell_type": "code",
      "source": [
        "df = df.rename(columns={'Unnamed: 0': 'index'})"
      ],
      "metadata": {
        "id": "31VvCGHd83Ny"
      },
      "execution_count": null,
      "outputs": []
    },
    {
      "cell_type": "code",
      "source": [
        "df.describe().T"
      ],
      "metadata": {
        "colab": {
          "base_uri": "https://localhost:8080/"
        },
        "id": "BY_dAZudAVX8",
        "outputId": "95188c39-34fe-4ca5-c157-00387e9ad713"
      },
      "execution_count": null,
      "outputs": [
        {
          "output_type": "execute_result",
          "data": {
            "text/plain": [
              "                count           mean            std     min        25%  \\\n",
              "index        685927.0  342963.000000  198010.213385     0.0  171481.50   \n",
              "net_revenue  685927.0     125.647755      71.854528     1.0      63.51   \n",
              "year         685927.0    2016.027252       0.837203  2015.0    2015.00   \n",
              "\n",
              "                   50%        75%       max  \n",
              "index        342963.00  514444.50  685926.0  \n",
              "net_revenue     125.73     187.82     250.0  \n",
              "year           2016.00    2017.00    2017.0  "
            ],
            "text/html": [
              "\n",
              "  <div id=\"df-2b54fc19-d545-4334-a88b-aaa75131dfdc\">\n",
              "    <div class=\"colab-df-container\">\n",
              "      <div>\n",
              "<style scoped>\n",
              "    .dataframe tbody tr th:only-of-type {\n",
              "        vertical-align: middle;\n",
              "    }\n",
              "\n",
              "    .dataframe tbody tr th {\n",
              "        vertical-align: top;\n",
              "    }\n",
              "\n",
              "    .dataframe thead th {\n",
              "        text-align: right;\n",
              "    }\n",
              "</style>\n",
              "<table border=\"1\" class=\"dataframe\">\n",
              "  <thead>\n",
              "    <tr style=\"text-align: right;\">\n",
              "      <th></th>\n",
              "      <th>count</th>\n",
              "      <th>mean</th>\n",
              "      <th>std</th>\n",
              "      <th>min</th>\n",
              "      <th>25%</th>\n",
              "      <th>50%</th>\n",
              "      <th>75%</th>\n",
              "      <th>max</th>\n",
              "    </tr>\n",
              "  </thead>\n",
              "  <tbody>\n",
              "    <tr>\n",
              "      <th>index</th>\n",
              "      <td>685927.0</td>\n",
              "      <td>342963.000000</td>\n",
              "      <td>198010.213385</td>\n",
              "      <td>0.0</td>\n",
              "      <td>171481.50</td>\n",
              "      <td>342963.00</td>\n",
              "      <td>514444.50</td>\n",
              "      <td>685926.0</td>\n",
              "    </tr>\n",
              "    <tr>\n",
              "      <th>net_revenue</th>\n",
              "      <td>685927.0</td>\n",
              "      <td>125.647755</td>\n",
              "      <td>71.854528</td>\n",
              "      <td>1.0</td>\n",
              "      <td>63.51</td>\n",
              "      <td>125.73</td>\n",
              "      <td>187.82</td>\n",
              "      <td>250.0</td>\n",
              "    </tr>\n",
              "    <tr>\n",
              "      <th>year</th>\n",
              "      <td>685927.0</td>\n",
              "      <td>2016.027252</td>\n",
              "      <td>0.837203</td>\n",
              "      <td>2015.0</td>\n",
              "      <td>2015.00</td>\n",
              "      <td>2016.00</td>\n",
              "      <td>2017.00</td>\n",
              "      <td>2017.0</td>\n",
              "    </tr>\n",
              "  </tbody>\n",
              "</table>\n",
              "</div>\n",
              "      <button class=\"colab-df-convert\" onclick=\"convertToInteractive('df-2b54fc19-d545-4334-a88b-aaa75131dfdc')\"\n",
              "              title=\"Convert this dataframe to an interactive table.\"\n",
              "              style=\"display:none;\">\n",
              "        \n",
              "  <svg xmlns=\"http://www.w3.org/2000/svg\" height=\"24px\"viewBox=\"0 0 24 24\"\n",
              "       width=\"24px\">\n",
              "    <path d=\"M0 0h24v24H0V0z\" fill=\"none\"/>\n",
              "    <path d=\"M18.56 5.44l.94 2.06.94-2.06 2.06-.94-2.06-.94-.94-2.06-.94 2.06-2.06.94zm-11 1L8.5 8.5l.94-2.06 2.06-.94-2.06-.94L8.5 2.5l-.94 2.06-2.06.94zm10 10l.94 2.06.94-2.06 2.06-.94-2.06-.94-.94-2.06-.94 2.06-2.06.94z\"/><path d=\"M17.41 7.96l-1.37-1.37c-.4-.4-.92-.59-1.43-.59-.52 0-1.04.2-1.43.59L10.3 9.45l-7.72 7.72c-.78.78-.78 2.05 0 2.83L4 21.41c.39.39.9.59 1.41.59.51 0 1.02-.2 1.41-.59l7.78-7.78 2.81-2.81c.8-.78.8-2.07 0-2.86zM5.41 20L4 18.59l7.72-7.72 1.47 1.35L5.41 20z\"/>\n",
              "  </svg>\n",
              "      </button>\n",
              "      \n",
              "  <style>\n",
              "    .colab-df-container {\n",
              "      display:flex;\n",
              "      flex-wrap:wrap;\n",
              "      gap: 12px;\n",
              "    }\n",
              "\n",
              "    .colab-df-convert {\n",
              "      background-color: #E8F0FE;\n",
              "      border: none;\n",
              "      border-radius: 50%;\n",
              "      cursor: pointer;\n",
              "      display: none;\n",
              "      fill: #1967D2;\n",
              "      height: 32px;\n",
              "      padding: 0 0 0 0;\n",
              "      width: 32px;\n",
              "    }\n",
              "\n",
              "    .colab-df-convert:hover {\n",
              "      background-color: #E2EBFA;\n",
              "      box-shadow: 0px 1px 2px rgba(60, 64, 67, 0.3), 0px 1px 3px 1px rgba(60, 64, 67, 0.15);\n",
              "      fill: #174EA6;\n",
              "    }\n",
              "\n",
              "    [theme=dark] .colab-df-convert {\n",
              "      background-color: #3B4455;\n",
              "      fill: #D2E3FC;\n",
              "    }\n",
              "\n",
              "    [theme=dark] .colab-df-convert:hover {\n",
              "      background-color: #434B5C;\n",
              "      box-shadow: 0px 1px 3px 1px rgba(0, 0, 0, 0.15);\n",
              "      filter: drop-shadow(0px 1px 2px rgba(0, 0, 0, 0.3));\n",
              "      fill: #FFFFFF;\n",
              "    }\n",
              "  </style>\n",
              "\n",
              "      <script>\n",
              "        const buttonEl =\n",
              "          document.querySelector('#df-2b54fc19-d545-4334-a88b-aaa75131dfdc button.colab-df-convert');\n",
              "        buttonEl.style.display =\n",
              "          google.colab.kernel.accessAllowed ? 'block' : 'none';\n",
              "\n",
              "        async function convertToInteractive(key) {\n",
              "          const element = document.querySelector('#df-2b54fc19-d545-4334-a88b-aaa75131dfdc');\n",
              "          const dataTable =\n",
              "            await google.colab.kernel.invokeFunction('convertToInteractive',\n",
              "                                                     [key], {});\n",
              "          if (!dataTable) return;\n",
              "\n",
              "          const docLinkHtml = 'Like what you see? Visit the ' +\n",
              "            '<a target=\"_blank\" href=https://colab.research.google.com/notebooks/data_table.ipynb>data table notebook</a>'\n",
              "            + ' to learn more about interactive tables.';\n",
              "          element.innerHTML = '';\n",
              "          dataTable['output_type'] = 'display_data';\n",
              "          await google.colab.output.renderOutput(dataTable, element);\n",
              "          const docLink = document.createElement('div');\n",
              "          docLink.innerHTML = docLinkHtml;\n",
              "          element.appendChild(docLink);\n",
              "        }\n",
              "      </script>\n",
              "    </div>\n",
              "  </div>\n",
              "  "
            ]
          },
          "metadata": {},
          "execution_count": 262
        }
      ]
    },
    {
      "cell_type": "code",
      "source": [
        "df.describe(include='object').T"
      ],
      "metadata": {
        "colab": {
          "base_uri": "https://localhost:8080/"
        },
        "id": "g41lAopYAapy",
        "outputId": "0fbef43f-6b13-4735-8145-aff5ca672dc2"
      },
      "execution_count": null,
      "outputs": [
        {
          "output_type": "execute_result",
          "data": {
            "text/plain": [
              "                 count  unique                   top freq\n",
              "customer_email  685927  604618  wtbxliuywf@gmail.com    3"
            ],
            "text/html": [
              "\n",
              "  <div id=\"df-b2aa69fc-31b3-4593-89ac-d07a234642f1\">\n",
              "    <div class=\"colab-df-container\">\n",
              "      <div>\n",
              "<style scoped>\n",
              "    .dataframe tbody tr th:only-of-type {\n",
              "        vertical-align: middle;\n",
              "    }\n",
              "\n",
              "    .dataframe tbody tr th {\n",
              "        vertical-align: top;\n",
              "    }\n",
              "\n",
              "    .dataframe thead th {\n",
              "        text-align: right;\n",
              "    }\n",
              "</style>\n",
              "<table border=\"1\" class=\"dataframe\">\n",
              "  <thead>\n",
              "    <tr style=\"text-align: right;\">\n",
              "      <th></th>\n",
              "      <th>count</th>\n",
              "      <th>unique</th>\n",
              "      <th>top</th>\n",
              "      <th>freq</th>\n",
              "    </tr>\n",
              "  </thead>\n",
              "  <tbody>\n",
              "    <tr>\n",
              "      <th>customer_email</th>\n",
              "      <td>685927</td>\n",
              "      <td>604618</td>\n",
              "      <td>wtbxliuywf@gmail.com</td>\n",
              "      <td>3</td>\n",
              "    </tr>\n",
              "  </tbody>\n",
              "</table>\n",
              "</div>\n",
              "      <button class=\"colab-df-convert\" onclick=\"convertToInteractive('df-b2aa69fc-31b3-4593-89ac-d07a234642f1')\"\n",
              "              title=\"Convert this dataframe to an interactive table.\"\n",
              "              style=\"display:none;\">\n",
              "        \n",
              "  <svg xmlns=\"http://www.w3.org/2000/svg\" height=\"24px\"viewBox=\"0 0 24 24\"\n",
              "       width=\"24px\">\n",
              "    <path d=\"M0 0h24v24H0V0z\" fill=\"none\"/>\n",
              "    <path d=\"M18.56 5.44l.94 2.06.94-2.06 2.06-.94-2.06-.94-.94-2.06-.94 2.06-2.06.94zm-11 1L8.5 8.5l.94-2.06 2.06-.94-2.06-.94L8.5 2.5l-.94 2.06-2.06.94zm10 10l.94 2.06.94-2.06 2.06-.94-2.06-.94-.94-2.06-.94 2.06-2.06.94z\"/><path d=\"M17.41 7.96l-1.37-1.37c-.4-.4-.92-.59-1.43-.59-.52 0-1.04.2-1.43.59L10.3 9.45l-7.72 7.72c-.78.78-.78 2.05 0 2.83L4 21.41c.39.39.9.59 1.41.59.51 0 1.02-.2 1.41-.59l7.78-7.78 2.81-2.81c.8-.78.8-2.07 0-2.86zM5.41 20L4 18.59l7.72-7.72 1.47 1.35L5.41 20z\"/>\n",
              "  </svg>\n",
              "      </button>\n",
              "      \n",
              "  <style>\n",
              "    .colab-df-container {\n",
              "      display:flex;\n",
              "      flex-wrap:wrap;\n",
              "      gap: 12px;\n",
              "    }\n",
              "\n",
              "    .colab-df-convert {\n",
              "      background-color: #E8F0FE;\n",
              "      border: none;\n",
              "      border-radius: 50%;\n",
              "      cursor: pointer;\n",
              "      display: none;\n",
              "      fill: #1967D2;\n",
              "      height: 32px;\n",
              "      padding: 0 0 0 0;\n",
              "      width: 32px;\n",
              "    }\n",
              "\n",
              "    .colab-df-convert:hover {\n",
              "      background-color: #E2EBFA;\n",
              "      box-shadow: 0px 1px 2px rgba(60, 64, 67, 0.3), 0px 1px 3px 1px rgba(60, 64, 67, 0.15);\n",
              "      fill: #174EA6;\n",
              "    }\n",
              "\n",
              "    [theme=dark] .colab-df-convert {\n",
              "      background-color: #3B4455;\n",
              "      fill: #D2E3FC;\n",
              "    }\n",
              "\n",
              "    [theme=dark] .colab-df-convert:hover {\n",
              "      background-color: #434B5C;\n",
              "      box-shadow: 0px 1px 3px 1px rgba(0, 0, 0, 0.15);\n",
              "      filter: drop-shadow(0px 1px 2px rgba(0, 0, 0, 0.3));\n",
              "      fill: #FFFFFF;\n",
              "    }\n",
              "  </style>\n",
              "\n",
              "      <script>\n",
              "        const buttonEl =\n",
              "          document.querySelector('#df-b2aa69fc-31b3-4593-89ac-d07a234642f1 button.colab-df-convert');\n",
              "        buttonEl.style.display =\n",
              "          google.colab.kernel.accessAllowed ? 'block' : 'none';\n",
              "\n",
              "        async function convertToInteractive(key) {\n",
              "          const element = document.querySelector('#df-b2aa69fc-31b3-4593-89ac-d07a234642f1');\n",
              "          const dataTable =\n",
              "            await google.colab.kernel.invokeFunction('convertToInteractive',\n",
              "                                                     [key], {});\n",
              "          if (!dataTable) return;\n",
              "\n",
              "          const docLinkHtml = 'Like what you see? Visit the ' +\n",
              "            '<a target=\"_blank\" href=https://colab.research.google.com/notebooks/data_table.ipynb>data table notebook</a>'\n",
              "            + ' to learn more about interactive tables.';\n",
              "          element.innerHTML = '';\n",
              "          dataTable['output_type'] = 'display_data';\n",
              "          await google.colab.output.renderOutput(dataTable, element);\n",
              "          const docLink = document.createElement('div');\n",
              "          docLink.innerHTML = docLinkHtml;\n",
              "          element.appendChild(docLink);\n",
              "        }\n",
              "      </script>\n",
              "    </div>\n",
              "  </div>\n",
              "  "
            ]
          },
          "metadata": {},
          "execution_count": 263
        }
      ]
    },
    {
      "cell_type": "code",
      "source": [
        "def plot_null_values(df):\n",
        "  if df.isnull().sum().sum() != 0:\n",
        "    na_df = (df.isnull().sum() / len(df)) * 100\n",
        "    na_df = na_df.drop(na_df[na_df == 0].index).sort_values(ascending=False)\n",
        "    missing_data = pd.DataFrame({'Missing Ratio %' :na_df})\n",
        "    missing_data.plot(kind = \"barh\")\n",
        "    plt.show()\n",
        "  else:\n",
        "    print('No NAs found')\n",
        "  return"
      ],
      "metadata": {
        "id": "DmtcrtJzb1V_"
      },
      "execution_count": null,
      "outputs": []
    },
    {
      "cell_type": "code",
      "source": [
        "plot_null_values(df)"
      ],
      "metadata": {
        "colab": {
          "base_uri": "https://localhost:8080/"
        },
        "id": "LCBaREy4b5cg",
        "outputId": "d95bfc26-2ae8-4003-c34f-7a39d0bb93dd"
      },
      "execution_count": null,
      "outputs": [
        {
          "output_type": "stream",
          "name": "stdout",
          "text": [
            "No NAs found\n"
          ]
        }
      ]
    },
    {
      "cell_type": "code",
      "source": [
        "# Distribution of Net Revenue\n",
        "binsize = 2\n",
        "interest_rate_percentage = df['net_revenue']\n",
        "bins = np.arange(df['net_revenue'].min(), df['net_revenue'].max()+binsize, binsize)\n",
        "\n",
        "plt.figure(figsize=[10, 5])\n",
        "plt.hist(x = interest_rate_percentage, bins = bins)\n",
        "plt.title('Net Revenue Distribution (%)')\n",
        "plt.xlabel('Net Revenue Percentage (%)')\n",
        "plt.ylabel('Count')\n",
        "plt.show()"
      ],
      "metadata": {
        "colab": {
          "base_uri": "https://localhost:8080/"
        },
        "id": "GdUL8nq5b--b",
        "outputId": "a0b4462b-ca64-45c1-b43d-b756f8e7c1b5"
      },
      "execution_count": null,
      "outputs": [
        {
          "output_type": "display_data",
          "data": {
            "text/plain": [
              "<Figure size 720x360 with 1 Axes>"
            ],
            "image/png": "[encoded data removed]"
          },
          "metadata": {
            "needs_background": "light"
          }
        }
      ]
    },
    {
      "cell_type": "code",
      "source": [
        "df['year'].value_counts()"
      ],
      "metadata": {
        "colab": {
          "base_uri": "https://localhost:8080/"
        },
        "id": "zdXUgPuacW4x",
        "outputId": "fafc6a7c-e15a-43d3-cb56-5c18b9ef704b"
      },
      "execution_count": null,
      "outputs": [
        {
          "output_type": "execute_result",
          "data": {
            "text/plain": [
              "2017    249987\n",
              "2015    231294\n",
              "2016    204646\n",
              "Name: year, dtype: int64"
            ]
          },
          "metadata": {},
          "execution_count": 267
        }
      ]
    },
    {
      "cell_type": "code",
      "source": [
        "plt.figure(figsize = [18, 5])\n",
        "sns.boxplot(data=df,y='net_revenue',x='year')\n",
        "plt.title('Net Revenue & Year')\n",
        "plt.ylabel('Net Revenue')\n",
        "plt.xlabel('Year')\n",
        "plt.xticks(rotation=15)"
      ],
      "metadata": {
        "colab": {
          "base_uri": "https://localhost:8080/"
        },
        "id": "Et3MMCYkcdpk",
        "outputId": "5ca76abc-ed19-4971-dafd-c40c93a308c3"
      },
      "execution_count": null,
      "outputs": [
        {
          "output_type": "execute_result",
          "data": {
            "text/plain": [
              "(array([0, 1, 2]), <a list of 3 Text major ticklabel objects>)"
            ]
          },
          "metadata": {},
          "execution_count": 268
        },
        {
          "output_type": "display_data",
          "data": {
            "text/plain": [
              "<Figure size 1296x360 with 1 Axes>"
            ],
            "image/png": "[encoded data removed]"
          },
          "metadata": {
            "needs_background": "light"
          }
        }
      ]
    },
    {
      "cell_type": "markdown",
      "source": [
        "## Calculations "
      ],
      "metadata": {
        "id": "da6UMDMfcTnI"
      }
    },
    {
      "cell_type": "code",
      "source": [
        "def print_results(year, customers, revenue, prev_revenue, new_customers, per_new_customers, \n",
        "                  new_customer_revenue, per_new_customer_revenue,\n",
        "                  existing_customers, per_existing_customers, exist_curr_revenue,\n",
        "                  exist_prev_revenue, growth, lost_customers, revenue_lost, \n",
        "                  customers_prev):\n",
        "  \n",
        "  print('#########' + str(year) + '#########')\n",
        "  print(' No. of Customers in Curr Year:                            ', customers)\n",
        "  print(' No. of Customers in Prev Year:                            ', customers_prev)\n",
        "  print(' No. of New Customers:                                     ', new_customers)\n",
        "  print(' Percentage of New Customers:                              ', per_new_customers)\n",
        "  print(' No. of Existing Customers from Prev Year:                 ', existing_customers)\n",
        "  print(' Percentage of Existing Customers from Prev Year:          ', per_existing_customers)\n",
        "  print(' No. of Lost Customers:                                    ', lost_customers)\n",
        "  print()\n",
        "  print(' Total Revenue in $:                                       ', revenue)\n",
        "  print(' Total Revenue in $ for Prev Year:                         ', prev_revenue)\n",
        "  print(' New-Customer-Revenue in $:                                ', new_customer_revenue)\n",
        "  print(' Percentage of New-Customer-Revenue:                       ', per_new_customer_revenue)\n",
        "  print(' Total Revenue of Existing Customers in $:                 ', exist_curr_revenue)\n",
        "  print(' Total Revenue of Existing Customers in $ for Prev Year:   ', exist_prev_revenue)\n",
        "  print(' Total Revenue Lost due to Attrition in $:                 ', revenue_lost)\n",
        "  print()\n",
        "  print(' Existing-Customer-Growth in $:                            ', growth)\n",
        "  \n",
        "  return "
      ],
      "metadata": {
        "id": "mAvzLsfYfmVZ"
      },
      "execution_count": null,
      "outputs": []
    },
    {
      "cell_type": "code",
      "source": [
        "def calculate(df, curr_year, prev_year):\n",
        "  df_curr = df[(df['year'] == curr_year)]\n",
        "  df_prev = df[(df['year'] == prev_year)]\n",
        "\n",
        "  # Calculate Total Revenue of Curr Year\n",
        "  net_revenue_total = df_curr['net_revenue'].sum()\n",
        "\n",
        "  # Calculate Total Revenue of Prev Year\n",
        "  net_revenue_total_prev = df_prev['net_revenue'].sum()\n",
        "\n",
        "  # Find the number of unique customers of Curr Year\n",
        "  unique_customers_list = df_curr['customer_email'].unique().tolist()\n",
        "  unique_customers = len(unique_customers_list)\n",
        "\n",
        "  # Find the number of unique customers of Prev Year\n",
        "  unique_prev_customers_list = df_prev['customer_email'].unique().tolist()\n",
        "  unique_prev_customers = len(unique_prev_customers_list)\n",
        "\n",
        "  # Calculate New-Customer-Revenue \n",
        "  # New-Customer-Revenue = Total Revenue from New Customers / Total Revenue\n",
        "\n",
        "  # Keep dataset with only New Customers for Curr Year\n",
        "  customers_curr = set(unique_customers_list)  \n",
        "  \n",
        "  # Keep dataset with only New Customers for Prev Year\n",
        "  unique_customers_prev_list = df_prev['customer_email'].unique().tolist()\n",
        "  customers_prev = set(unique_customers_prev_list)\n",
        "\n",
        "  # Find Customers that exist both in Curr and Prev Year\n",
        "  customers_joint = list(customers_curr.intersection(customers_prev))\n",
        "\n",
        "  # Indicate which rows contain new customers\n",
        "  # with the ~ operator we keep the customers that \n",
        "  # do not belong to the joint of customers that exist both in \n",
        "  # previous and current years -> these are the new customers.\n",
        "  new_customers_mask = ~df_curr['customer_email'].isin(customers_joint)\n",
        "  new_customers_curr_df = df_curr[new_customers_mask]\n",
        "\n",
        "  # Calculate number of New Customers for Curr Year\n",
        "  new_customers_list = new_customers_curr_df['customer_email'].unique().tolist()\n",
        "  new_customers = len(new_customers_list)\n",
        "\n",
        "  per_new_customers = (new_customers / unique_customers) * 100.0\n",
        "\n",
        "  total_revenue_new_customers = new_customers_curr_df['net_revenue'].sum()\n",
        "  new_customer_revenue = total_revenue_new_customers / net_revenue_total\n",
        "\n",
        "  # Calculate the Existing-Customer-Growth\n",
        "  # Existing-Customer-Growth = Total Revenue - New Customer Total Revenue\n",
        "  growth = net_revenue_total - total_revenue_new_customers\n",
        "\n",
        "  # Calculate Existing-Customer-Revenue for Curr Year\n",
        "  # Indicate which rows contain existing customers\n",
        "  existing_customers_curr_mask = df_curr['customer_email'].isin(customers_joint)\n",
        "  existing_customers_curr_df = df_curr[existing_customers_curr_mask]\n",
        "\n",
        "  # Calculate number of Existing Customers for Curr Year\n",
        "  existing_customers_list = existing_customers_curr_df['customer_email'].unique().tolist()\n",
        "  existing_customers = len(existing_customers_list)\n",
        "\n",
        "  per_existing_customers = (existing_customers / unique_customers) * 100.0\n",
        "\n",
        "  total_revenue_existing_customers = existing_customers_curr_df['net_revenue'].sum()\n",
        "  \n",
        "  existing_customers_prev_mask = df_prev['customer_email'].isin(customers_joint)\n",
        "  existing_customers_prev_df = df_prev[existing_customers_prev_mask]\n",
        "\n",
        "  total_revenue_existing_customers_prev = existing_customers_prev_df['net_revenue'].sum()\n",
        "\n",
        "  # Find the lost customers: customers that existed in the previous year\n",
        "  # but do not exist in the current year.\n",
        "  difference = list(customers_prev.difference(customers_curr))\n",
        "  lost_customers = len(difference)\n",
        "\n",
        "  # Calculate Revenue Lost from Attrition\n",
        "  lost_customers_mask = df_prev['customer_email'].isin(difference)\n",
        "  lost_customers_df = df_prev[lost_customers_mask]\n",
        "  lost_customers_revenue = lost_customers_df['net_revenue'].sum()\n",
        "\n",
        "\n",
        "  print_results(year, unique_customers, net_revenue_total, net_revenue_total_prev,\n",
        "                new_customers, per_new_customers, total_revenue_new_customers, \n",
        "                new_customer_revenue, existing_customers,\n",
        "                per_existing_customers, total_revenue_existing_customers, \n",
        "                total_revenue_existing_customers_prev, growth, lost_customers,\n",
        "                lost_customers_revenue, unique_prev_customers)\n",
        " \n",
        "  return net_revenue_total, net_revenue_total_prev, total_revenue_new_customers, lost_customers_revenue, total_revenue_existing_customers, total_revenue_existing_customers_prev, unique_customers, unique_prev_customers, new_customers, lost_customers"
      ],
      "metadata": {
        "id": "0RBF-VUnktV4"
      },
      "execution_count": null,
      "outputs": []
    },
    {
      "cell_type": "markdown",
      "source": [
        "## Results Per Year - Visualizations"
      ],
      "metadata": {
        "id": "qNO2CdspfgTS"
      }
    },
    {
      "cell_type": "code",
      "source": [
        "year = 2017\n",
        "\n",
        "rev_17, rev_16, ncr_17, lost_17, ecr_17, ecr_pr17, c17, c16, n17, l17 = calculate(df, curr_year=2017, prev_year=2016)"
      ],
      "metadata": {
        "colab": {
          "base_uri": "https://localhost:8080/"
        },
        "id": "R3Uoj6cEvP2u",
        "outputId": "fbbfe968-8511-4ad2-b3c7-ccbb0a9ad9cf"
      },
      "execution_count": null,
      "outputs": [
        {
          "output_type": "stream",
          "name": "stdout",
          "text": [
            "#########2017#########\n",
            " No. of Customers in Curr Year:                             249987\n",
            " No. of Customers in Prev Year:                             204646\n",
            " No. of New Customers:                                      229028\n",
            " Percentage of New Customers:                               91.61596403012958\n",
            " No. of Existing Customers from Prev Year:                  20959\n",
            " Percentage of Existing Customers from Prev Year:           8.384035969870434\n",
            " No. of Lost Customers:                                     183687\n",
            "\n",
            " Total Revenue in $:                                        31417495.030000016\n",
            " Total Revenue in $ for Prev Year:                          25730943.59\n",
            " New-Customer-Revenue in $:                                 28776235.039999995\n",
            " Percentage of New-Customer-Revenue:                        0.9159302806452925\n",
            " Total Revenue of Existing Customers in $:                  2641259.99\n",
            " Total Revenue of Existing Customers in $ for Prev Year:    2620648.65\n",
            " Total Revenue Lost due to Attrition in $:                  23110294.939999998\n",
            "\n",
            " Existing-Customer-Growth in $:                             2641259.9900000207\n"
          ]
        }
      ]
    },
    {
      "cell_type": "code",
      "source": [
        "year = 2016\n",
        "\n",
        "rev_16, rev_15, ncr_16, lost_16, ecr_16, ecr_pr16, c16, c15, n16, l16 = calculate(df, curr_year=2016, prev_year=2015)"
      ],
      "metadata": {
        "colab": {
          "base_uri": "https://localhost:8080/"
        },
        "id": "ZVonInW-0voh",
        "outputId": "3ad21397-1c4a-4e96-d467-9b3e111da2f6"
      },
      "execution_count": null,
      "outputs": [
        {
          "output_type": "stream",
          "name": "stdout",
          "text": [
            "#########2016#########\n",
            " No. of Customers in Curr Year:                             204646\n",
            " No. of Customers in Prev Year:                             231294\n",
            " No. of New Customers:                                      145062\n",
            " Percentage of New Customers:                               70.8843564008092\n",
            " No. of Existing Customers from Prev Year:                  59584\n",
            " Percentage of Existing Customers from Prev Year:           29.1156435991908\n",
            " No. of Lost Customers:                                     171710\n",
            "\n",
            " Total Revenue in $:                                        25730943.59\n",
            " Total Revenue in $ for Prev Year:                          29036749.189999994\n",
            " New-Customer-Revenue in $:                                 18245491.01\n",
            " Percentage of New-Customer-Revenue:                        0.709087521263343\n",
            " Total Revenue of Existing Customers in $:                  7485452.58\n",
            " Total Revenue of Existing Customers in $ for Prev Year:    7465117.12\n",
            " Total Revenue Lost due to Attrition in $:                  21571632.070000004\n",
            "\n",
            " Existing-Customer-Growth in $:                             7485452.579999998\n"
          ]
        }
      ]
    },
    {
      "cell_type": "code",
      "source": [
        "# Total Revenue\n",
        "data = {'2015': rev_15 ,'2016': rev_16,'2017': rev_17}\n",
        "x = list(data.keys())\n",
        "y = list(data.values()) \n",
        "fig = plt.figure(figsize = (10, 4))\n",
        "plt.barh(x, y, height=0.3, color='purple')\n",
        "plt.xlabel(\"Year\")\n",
        "plt.ylabel(\"Total Revenue\")\n",
        "plt.title(\"Total Revenue in Million($)\")\n",
        "plt.grid(False)\n",
        "plt.show()"
      ],
      "metadata": {
        "colab": {
          "base_uri": "https://localhost:8080/"
        },
        "id": "45wi0K_d0-m2",
        "outputId": "22faaa2d-0476-4892-8c74-6eb1ede69151"
      },
      "execution_count": null,
      "outputs": [
        {
          "output_type": "display_data",
          "data": {
            "text/plain": [
              "<Figure size 720x288 with 1 Axes>"
            ],
            "image/png": "[encoded data removed]"
          },
          "metadata": {
            "needs_background": "light"
          }
        }
      ]
    },
    {
      "cell_type": "code",
      "source": [
        "#  Revenue\n",
        "years = ['2016', '2017']\n",
        "revenue_total = [rev_16, rev_17]\n",
        "revenue_lost = [lost_16, lost_17]\n",
        "revenue_new_cust = [ncr_16, ncr_17]\n",
        "\n",
        "  \n",
        "fig = plt.figure(figsize = (10, 8))  \n",
        "X_axis = np.arange(len(years))\n",
        "  \n",
        "plt.bar(X_axis - 0.1, revenue_new_cust, 0.2, label = \"New Customers' Revenue\")\n",
        "plt.bar(X_axis + 0.1, revenue_lost, 0.2, label = \"Revenue Lost from attrition\")\n",
        "plt.bar(X_axis + 0.3, revenue_total, 0.2, label = \"Total Revenue\")\n",
        "\n",
        "plt.xticks(X_axis, years)\n",
        "plt.xlabel(\"Years\")\n",
        "plt.ylabel(\"Revenue in Million($)\")\n",
        "plt.title(\"Revenue in Million($)\")\n",
        "plt.legend()\n",
        "plt.show()"
      ],
      "metadata": {
        "colab": {
          "base_uri": "https://localhost:8080/"
        },
        "id": "yYKfTtP7KNhK",
        "outputId": "3bb724de-8aa4-4494-847b-a1c265ec3e98"
      },
      "execution_count": null,
      "outputs": [
        {
          "output_type": "display_data",
          "data": {
            "text/plain": [
              "<Figure size 720x576 with 1 Axes>"
            ],
            "image/png": "[encoded data removed]"
          },
          "metadata": {
            "needs_background": "light"
          }
        }
      ]
    },
    {
      "cell_type": "code",
      "source": [
        "# Existing Customer Revenue\n",
        "years = ['2016', '2017']\n",
        "revenue_curr = [ecr_16, ecr_17]\n",
        "revenue_prev = [ecr_pr16, ecr_pr17]\n",
        "  \n",
        "X_axis = np.arange(len(years))\n",
        "  \n",
        "plt.bar(X_axis - 0.2, revenue_curr, 0.4, label = \"Current Year's Revenue\")\n",
        "plt.bar(X_axis + 0.2, revenue_prev, 0.4, label = \"Previous Year's Revenue\")\n",
        "  \n",
        "plt.xticks(X_axis, years)\n",
        "plt.xlabel(\"Years\")\n",
        "plt.ylabel(\"Revenue in Million($)\")\n",
        "plt.title(\"Existing Customer's Revenue in Million($)\")\n",
        "plt.legend()\n",
        "plt.show()"
      ],
      "metadata": {
        "colab": {
          "base_uri": "https://localhost:8080/"
        },
        "id": "PHnBThdcHC0k",
        "outputId": "fe9a90ad-9e4a-4856-8197-bd1343760e2e"
      },
      "execution_count": null,
      "outputs": [
        {
          "output_type": "display_data",
          "data": {
            "text/plain": [
              "<Figure size 432x288 with 1 Axes>"
            ],
            "image/png": "[encoded data removed]"
          },
          "metadata": {
            "needs_background": "light"
          }
        }
      ]
    },
    {
      "cell_type": "code",
      "source": [
        "# Total Customers Current Year\n",
        "data = {'2015': c15,'2016': c16,'2017': c17}\n",
        "x = list(data.keys())\n",
        "y = list(data.values()) \n",
        "fig = plt.figure(figsize = (6, 4))\n",
        "plt.bar(x, y, width=0.3, color='darkred')\n",
        "plt.xlabel(\"Year\")\n",
        "plt.ylabel(\"Total Customers\")\n",
        "plt.title(\"Total Customers\")\n",
        "plt.grid(False)\n",
        "plt.show()"
      ],
      "metadata": {
        "colab": {
          "base_uri": "https://localhost:8080/"
        },
        "id": "l87hyBY15uFt",
        "outputId": "dcdd8b6b-febf-4dbf-dd08-b2e8837f3206"
      },
      "execution_count": null,
      "outputs": [
        {
          "output_type": "display_data",
          "data": {
            "text/plain": [
              "<Figure size 432x288 with 1 Axes>"
            ],
            "image/png": "[encoded data removed]"
          },
          "metadata": {
            "needs_background": "light"
          }
        }
      ]
    },
    {
      "cell_type": "code",
      "source": [
        "# New and Lost Customers\n",
        "X_years = ['2016', '2017']\n",
        "new_customers = [n16, n17]\n",
        "lost_customers = [l16, l17]\n",
        "total_customers = [c16, c17]\n",
        "  \n",
        "X_axis = np.arange(len(X_years))\n",
        "  \n",
        "plt.bar(X_axis - 0.1, new_customers, 0.2, label = 'New Customers')\n",
        "plt.bar(X_axis + 0.1, lost_customers, 0.2, label = 'Lost Customers')\n",
        "plt.bar(X_axis + 0.3, total_customers, 0.2, label = 'Total Customers')\n",
        "  \n",
        "plt.xticks(X_axis, X_years)\n",
        "plt.xlabel(\"Years\")\n",
        "plt.ylabel(\"Number of Customers\")\n",
        "plt.title(\"Customers in each year\")\n",
        "plt.legend()\n",
        "plt.show()"
      ],
      "metadata": {
        "colab": {
          "base_uri": "https://localhost:8080/"
        },
        "id": "clsO7JLTERK9",
        "outputId": "836141c5-4ea2-436d-ee4b-d209173f5949"
      },
      "execution_count": null,
      "outputs": [
        {
          "output_type": "display_data",
          "data": {
            "text/plain": [
              "<Figure size 432x288 with 1 Axes>"
            ],
            "image/png": "[encoded data removed]"
          },
          "metadata": {
            "needs_background": "light"
          }
        }
      ]
    },
    {
      "cell_type": "markdown",
      "source": [
        "***Notes for the Visualizations:***\n",
        "\n",
        "* In 2016 the company had fewer customers than in 2015, but in 2017 the number of customers exceeded the number of those in 2015. The exact same pattern is observed in the total revenue, which is very reasonable according to the above.\n",
        "* The total revenue of existing customers is almost the same between current and previous year, for both 2016 and 2017. The conclusion we can draw from this pattern is that the existing customers do not easily choose to leave or switch companies.\n",
        "* In 2016, the company lost more customers than those who first came to the company. Fortunately, the same phenomenon was not observed in 2017, where the company seemed to gain many more customers than in previous years.\n"
      ],
      "metadata": {
        "id": "X-RAJvrxFsmu"
      }
    }
  ]
}