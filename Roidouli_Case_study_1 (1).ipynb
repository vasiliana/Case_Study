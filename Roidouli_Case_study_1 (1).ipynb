{
  "cells": [
    {
      "cell_type": "markdown",
      "source": [
        "# **Dataset Loading and Libraries Importing**"
      ],
      "metadata": {
        "id": "xLFe3jATrR6H"
      }
    },
    {
      "cell_type": "code",
      "execution_count": 147,
      "metadata": {
        "id": "B_JhQrm66Isi"
      },
      "outputs": [],
      "source": [
        "# Libraries Importing\n",
        "import pandas as pd\n",
        "\n",
        "from google.colab import drive\n",
        "import matplotlib.pyplot as plt\n",
        "import seaborn as sns\n",
        "import numpy as np\n",
        "import datetime\n",
        "\n",
        "from sklearn.preprocessing import OrdinalEncoder, StandardScaler, MinMaxScaler\n",
        "from sklearn.model_selection import train_test_split, GridSearchCV, cross_val_score\n",
        "from sklearn.metrics import r2_score, mean_squared_error, mean_absolute_error, accuracy_score\n",
        "from sklearn.ensemble import RandomForestRegressor\n",
        "from sklearn.svm import SVR\n",
        "from sklearn.tree import DecisionTreeRegressor\n",
        "from sklearn.linear_model import LinearRegression, Lasso\n",
        "from sklearn.decomposition import PCA\n",
        "from sklearn.feature_selection import RFE, mutual_info_regression\n",
        "\n",
        "from keras.callbacks import EarlyStopping\n",
        "\n",
        "import warnings\n",
        "warnings.filterwarnings(\"ignore\")"
      ]
    },
    {
      "cell_type": "code",
      "execution_count": 148,
      "metadata": {
        "id": "Fl1Bkjug99iI"
      },
      "outputs": [],
      "source": [
        "# Display all columns and rows of the dataset\n",
        "pd.options.display.max_columns = None\n",
        "pd.options.display.max_rows = None"
      ]
    },
    {
      "cell_type": "code",
      "execution_count": 149,
      "metadata": {
        "colab": {
          "base_uri": "https://localhost:8080/"
        },
        "id": "0DUqg5Ch6BCs",
        "outputId": "cbdac19c-5388-459a-f057-09947ad4908e"
      },
      "outputs": [
        {
          "output_type": "stream",
          "name": "stdout",
          "text": [
            "Drive already mounted at /content/gdrive; to attempt to forcibly remount, call drive.mount(\"/content/gdrive\", force_remount=True).\n"
          ]
        }
      ],
      "source": [
        "drive.mount('/content/gdrive')"
      ]
    },
    {
      "cell_type": "code",
      "execution_count": 180,
      "metadata": {
        "id": "ihitDqvH7jeQ"
      },
      "outputs": [],
      "source": [
        "# Load dataset\n",
        "df = pd.read_csv(\"/content/gdrive/MyDrive/stout/loans_full_schema.csv\")"
      ]
    },
    {
      "cell_type": "markdown",
      "metadata": {
        "id": "jVDBEVDq8H2i"
      },
      "source": [
        "# **Part A: Analysis of the Dataset and Visualizations**"
      ]
    },
    {
      "cell_type": "markdown",
      "source": [
        "## **Quick Look at the Dataset**"
      ],
      "metadata": {
        "id": "KICWkMGiK5Qb"
      }
    },
    {
      "cell_type": "markdown",
      "metadata": {
        "id": "CGdWxAg_iuuo"
      },
      "source": [
        "The following dataset has **10.000 observiations** with **55 variables** and it represents thousands of loans made through the Lending Club platform, which is a platform that allows individuals to lend to other individuals."
      ]
    },
    {
      "cell_type": "code",
      "execution_count": 181,
      "metadata": {
        "colab": {
          "base_uri": "https://localhost:8080/"
        },
        "id": "2a-QItgM8Hhe",
        "outputId": "734e6d34-dd6d-4a00-e153-cb04ea147395"
      },
      "outputs": [
        {
          "output_type": "execute_result",
          "data": {
            "text/plain": [
              "(10000, 55)"
            ]
          },
          "metadata": {},
          "execution_count": 181
        }
      ],
      "source": [
        "# Size of dataset\n",
        "df.shape "
      ]
    },
    {
      "cell_type": "code",
      "execution_count": 182,
      "metadata": {
        "colab": {
          "base_uri": "https://localhost:8080/",
          "height": 287
        },
        "id": "8uzxeRPa9nT3",
        "outputId": "b42d9950-4037-42b4-8fea-80048a6190cc"
      },
      "outputs": [
        {
          "output_type": "execute_result",
          "data": {
            "text/plain": [
              "                 emp_title  emp_length state homeownership  annual_income  \\\n",
              "3821                   NaN         NaN    TX           OWN        48000.0   \n",
              "5616                 owner        10.0    TX      MORTGAGE        50000.0   \n",
              "4373                   NaN         NaN    MN          RENT        10548.0   \n",
              "3089           underwriter         9.0    KY           OWN        85000.0   \n",
              "4919  material coordinator        10.0    CA          RENT        65000.0   \n",
              "\n",
              "      verified_income  debt_to_income  annual_income_joint  \\\n",
              "3821     Not Verified           22.05                  NaN   \n",
              "5616     Not Verified           10.06                  NaN   \n",
              "4373  Source Verified           25.60                  NaN   \n",
              "3089         Verified           23.35                  NaN   \n",
              "4919         Verified           29.51                  NaN   \n",
              "\n",
              "     verification_income_joint  debt_to_income_joint  delinq_2y  \\\n",
              "3821                       NaN                   NaN          2   \n",
              "5616                       NaN                   NaN          3   \n",
              "4373                       NaN                   NaN          0   \n",
              "3089                       NaN                   NaN          0   \n",
              "4919                       NaN                   NaN          1   \n",
              "\n",
              "      months_since_last_delinq  earliest_credit_line  inquiries_last_12m  \\\n",
              "3821                       4.0                  1991                   2   \n",
              "5616                      13.0                  1995                   0   \n",
              "4373                      52.0                  2010                   3   \n",
              "3089                       NaN                  1989                   4   \n",
              "4919                      17.0                  2000                   0   \n",
              "\n",
              "      total_credit_lines  open_credit_lines  total_credit_limit  \\\n",
              "3821                  27                 17               56610   \n",
              "5616                  23                 10              154807   \n",
              "4373                  19                 12               27600   \n",
              "3089                  68                 36              170053   \n",
              "4919                  19                 16               71746   \n",
              "\n",
              "      total_credit_utilized  num_collections_last_12m  \\\n",
              "3821                  24179                         0   \n",
              "5616                  13525                         0   \n",
              "4373                   4030                         0   \n",
              "3089                  88797                         0   \n",
              "4919                  60991                         0   \n",
              "\n",
              "      num_historical_failed_to_pay  months_since_90d_late  \\\n",
              "3821                             0                    NaN   \n",
              "5616                             1                   39.0   \n",
              "4373                             0                    NaN   \n",
              "3089                             0                    NaN   \n",
              "4919                             0                    NaN   \n",
              "\n",
              "      current_accounts_delinq  total_collection_amount_ever  \\\n",
              "3821                        0                             0   \n",
              "5616                        0                             0   \n",
              "4373                        0                             0   \n",
              "3089                        0                             0   \n",
              "4919                        0                             0   \n",
              "\n",
              "      current_installment_accounts  accounts_opened_24m  \\\n",
              "3821                             1                    3   \n",
              "5616                             0                    0   \n",
              "4373                             1                    8   \n",
              "3089                            10                   13   \n",
              "4919                             9                    2   \n",
              "\n",
              "      months_since_last_credit_inquiry  num_satisfactory_accounts  \\\n",
              "3821                               2.0                         17   \n",
              "5616                              14.0                         10   \n",
              "4373                               6.0                         12   \n",
              "3089                               2.0                         36   \n",
              "4919                              13.0                         16   \n",
              "\n",
              "      num_accounts_120d_past_due  num_accounts_30d_past_due  \\\n",
              "3821                         0.0                          0   \n",
              "5616                         0.0                          0   \n",
              "4373                         0.0                          0   \n",
              "3089                         0.0                          0   \n",
              "4919                         0.0                          0   \n",
              "\n",
              "      num_active_debit_accounts  total_debit_limit  num_total_cc_accounts  \\\n",
              "3821                          5              24200                     24   \n",
              "5616                          7              30000                     13   \n",
              "4373                          4              15600                     17   \n",
              "3089                          6              43800                     32   \n",
              "4919                          1               4000                      9   \n",
              "\n",
              "      num_open_cc_accounts  num_cc_carrying_balance  num_mort_accounts  \\\n",
              "3821                    16                        8                  1   \n",
              "5616                     8                        7                  3   \n",
              "4373                    11                        4                  0   \n",
              "3089                    26                       10                  0   \n",
              "4919                     7                        4                  0   \n",
              "\n",
              "      account_never_delinq_percent  tax_liens  public_record_bankrupt  \\\n",
              "3821                          85.2          0                       0   \n",
              "5616                          72.7          1                       0   \n",
              "4373                          92.9          0                       0   \n",
              "3089                         100.0          0                       0   \n",
              "4919                          94.7          0                       0   \n",
              "\n",
              "            loan_purpose application_type  loan_amount  term  interest_rate  \\\n",
              "3821  debt_consolidation       individual        12000    36          13.58   \n",
              "5616         credit_card       individual        12000    36           9.43   \n",
              "4373  debt_consolidation       individual         3000    36           9.93   \n",
              "3089               other       individual        14000    60          18.45   \n",
              "4919  debt_consolidation       individual         4200    36          14.07   \n",
              "\n",
              "      installment grade sub_grade issue_month loan_status  \\\n",
              "3821       407.69     C        C2    Mar-2018     Current   \n",
              "5616       384.01     B        B1    Mar-2018     Current   \n",
              "4373        96.71     B        B2    Jan-2018     Current   \n",
              "3089       358.95     D        D2    Mar-2018     Current   \n",
              "4919       143.69     C        C3    Mar-2018  Fully Paid   \n",
              "\n",
              "     initial_listing_status disbursement_method   balance   paid_total  \\\n",
              "3821             fractional                Cash  11175.27  1214.020000   \n",
              "5616                  whole                Cash  11124.02  1139.460000   \n",
              "4373                  whole                Cash   2634.57   476.930000   \n",
              "3089                  whole                Cash  13562.24  1048.150000   \n",
              "4919                  whole                Cash      0.00  4273.242992   \n",
              "\n",
              "      paid_principal  paid_interest  paid_late_fees  \n",
              "3821          824.73         389.29             0.0  \n",
              "5616          875.98         263.48             0.0  \n",
              "4373          365.43         111.50             0.0  \n",
              "3089          437.76         610.39             0.0  \n",
              "4919         4200.00          73.24             0.0  "
            ],
            "text/html": [
              "\n",
              "  <div id=\"df-1070ee7f-0dbe-42ea-8d0e-6d70d7106a4a\">\n",
              "    <div class=\"colab-df-container\">\n",
              "      <div>\n",
              "<style scoped>\n",
              "    .dataframe tbody tr th:only-of-type {\n",
              "        vertical-align: middle;\n",
              "    }\n",
              "\n",
              "    .dataframe tbody tr th {\n",
              "        vertical-align: top;\n",
              "    }\n",
              "\n",
              "    .dataframe thead th {\n",
              "        text-align: right;\n",
              "    }\n",
              "</style>\n",
              "<table border=\"1\" class=\"dataframe\">\n",
              "  <thead>\n",
              "    <tr style=\"text-align: right;\">\n",
              "      <th></th>\n",
              "      <th>emp_title</th>\n",
              "      <th>emp_length</th>\n",
              "      <th>state</th>\n",
              "      <th>homeownership</th>\n",
              "      <th>annual_income</th>\n",
              "      <th>verified_income</th>\n",
              "      <th>debt_to_income</th>\n",
              "      <th>annual_income_joint</th>\n",
              "      <th>verification_income_joint</th>\n",
              "      <th>debt_to_income_joint</th>\n",
              "      <th>delinq_2y</th>\n",
              "      <th>months_since_last_delinq</th>\n",
              "      <th>earliest_credit_line</th>\n",
              "      <th>inquiries_last_12m</th>\n",
              "      <th>total_credit_lines</th>\n",
              "      <th>open_credit_lines</th>\n",
              "      <th>total_credit_limit</th>\n",
              "      <th>total_credit_utilized</th>\n",
              "      <th>num_collections_last_12m</th>\n",
              "      <th>num_historical_failed_to_pay</th>\n",
              "      <th>months_since_90d_late</th>\n",
              "      <th>current_accounts_delinq</th>\n",
              "      <th>total_collection_amount_ever</th>\n",
              "      <th>current_installment_accounts</th>\n",
              "      <th>accounts_opened_24m</th>\n",
              "      <th>months_since_last_credit_inquiry</th>\n",
              "      <th>num_satisfactory_accounts</th>\n",
              "      <th>num_accounts_120d_past_due</th>\n",
              "      <th>num_accounts_30d_past_due</th>\n",
              "      <th>num_active_debit_accounts</th>\n",
              "      <th>total_debit_limit</th>\n",
              "      <th>num_total_cc_accounts</th>\n",
              "      <th>num_open_cc_accounts</th>\n",
              "      <th>num_cc_carrying_balance</th>\n",
              "      <th>num_mort_accounts</th>\n",
              "      <th>account_never_delinq_percent</th>\n",
              "      <th>tax_liens</th>\n",
              "      <th>public_record_bankrupt</th>\n",
              "      <th>loan_purpose</th>\n",
              "      <th>application_type</th>\n",
              "      <th>loan_amount</th>\n",
              "      <th>term</th>\n",
              "      <th>interest_rate</th>\n",
              "      <th>installment</th>\n",
              "      <th>grade</th>\n",
              "      <th>sub_grade</th>\n",
              "      <th>issue_month</th>\n",
              "      <th>loan_status</th>\n",
              "      <th>initial_listing_status</th>\n",
              "      <th>disbursement_method</th>\n",
              "      <th>balance</th>\n",
              "      <th>paid_total</th>\n",
              "      <th>paid_principal</th>\n",
              "      <th>paid_interest</th>\n",
              "      <th>paid_late_fees</th>\n",
              "    </tr>\n",
              "  </thead>\n",
              "  <tbody>\n",
              "    <tr>\n",
              "      <th>3821</th>\n",
              "      <td>NaN</td>\n",
              "      <td>NaN</td>\n",
              "      <td>TX</td>\n",
              "      <td>OWN</td>\n",
              "      <td>48000.0</td>\n",
              "      <td>Not Verified</td>\n",
              "      <td>22.05</td>\n",
              "      <td>NaN</td>\n",
              "      <td>NaN</td>\n",
              "      <td>NaN</td>\n",
              "      <td>2</td>\n",
              "      <td>4.0</td>\n",
              "      <td>1991</td>\n",
              "      <td>2</td>\n",
              "      <td>27</td>\n",
              "      <td>17</td>\n",
              "      <td>56610</td>\n",
              "      <td>24179</td>\n",
              "      <td>0</td>\n",
              "      <td>0</td>\n",
              "      <td>NaN</td>\n",
              "      <td>0</td>\n",
              "      <td>0</td>\n",
              "      <td>1</td>\n",
              "      <td>3</td>\n",
              "      <td>2.0</td>\n",
              "      <td>17</td>\n",
              "      <td>0.0</td>\n",
              "      <td>0</td>\n",
              "      <td>5</td>\n",
              "      <td>24200</td>\n",
              "      <td>24</td>\n",
              "      <td>16</td>\n",
              "      <td>8</td>\n",
              "      <td>1</td>\n",
              "      <td>85.2</td>\n",
              "      <td>0</td>\n",
              "      <td>0</td>\n",
              "      <td>debt_consolidation</td>\n",
              "      <td>individual</td>\n",
              "      <td>12000</td>\n",
              "      <td>36</td>\n",
              "      <td>13.58</td>\n",
              "      <td>407.69</td>\n",
              "      <td>C</td>\n",
              "      <td>C2</td>\n",
              "      <td>Mar-2018</td>\n",
              "      <td>Current</td>\n",
              "      <td>fractional</td>\n",
              "      <td>Cash</td>\n",
              "      <td>11175.27</td>\n",
              "      <td>1214.020000</td>\n",
              "      <td>824.73</td>\n",
              "      <td>389.29</td>\n",
              "      <td>0.0</td>\n",
              "    </tr>\n",
              "    <tr>\n",
              "      <th>5616</th>\n",
              "      <td>owner</td>\n",
              "      <td>10.0</td>\n",
              "      <td>TX</td>\n",
              "      <td>MORTGAGE</td>\n",
              "      <td>50000.0</td>\n",
              "      <td>Not Verified</td>\n",
              "      <td>10.06</td>\n",
              "      <td>NaN</td>\n",
              "      <td>NaN</td>\n",
              "      <td>NaN</td>\n",
              "      <td>3</td>\n",
              "      <td>13.0</td>\n",
              "      <td>1995</td>\n",
              "      <td>0</td>\n",
              "      <td>23</td>\n",
              "      <td>10</td>\n",
              "      <td>154807</td>\n",
              "      <td>13525</td>\n",
              "      <td>0</td>\n",
              "      <td>1</td>\n",
              "      <td>39.0</td>\n",
              "      <td>0</td>\n",
              "      <td>0</td>\n",
              "      <td>0</td>\n",
              "      <td>0</td>\n",
              "      <td>14.0</td>\n",
              "      <td>10</td>\n",
              "      <td>0.0</td>\n",
              "      <td>0</td>\n",
              "      <td>7</td>\n",
              "      <td>30000</td>\n",
              "      <td>13</td>\n",
              "      <td>8</td>\n",
              "      <td>7</td>\n",
              "      <td>3</td>\n",
              "      <td>72.7</td>\n",
              "      <td>1</td>\n",
              "      <td>0</td>\n",
              "      <td>credit_card</td>\n",
              "      <td>individual</td>\n",
              "      <td>12000</td>\n",
              "      <td>36</td>\n",
              "      <td>9.43</td>\n",
              "      <td>384.01</td>\n",
              "      <td>B</td>\n",
              "      <td>B1</td>\n",
              "      <td>Mar-2018</td>\n",
              "      <td>Current</td>\n",
              "      <td>whole</td>\n",
              "      <td>Cash</td>\n",
              "      <td>11124.02</td>\n",
              "      <td>1139.460000</td>\n",
              "      <td>875.98</td>\n",
              "      <td>263.48</td>\n",
              "      <td>0.0</td>\n",
              "    </tr>\n",
              "    <tr>\n",
              "      <th>4373</th>\n",
              "      <td>NaN</td>\n",
              "      <td>NaN</td>\n",
              "      <td>MN</td>\n",
              "      <td>RENT</td>\n",
              "      <td>10548.0</td>\n",
              "      <td>Source Verified</td>\n",
              "      <td>25.60</td>\n",
              "      <td>NaN</td>\n",
              "      <td>NaN</td>\n",
              "      <td>NaN</td>\n",
              "      <td>0</td>\n",
              "      <td>52.0</td>\n",
              "      <td>2010</td>\n",
              "      <td>3</td>\n",
              "      <td>19</td>\n",
              "      <td>12</td>\n",
              "      <td>27600</td>\n",
              "      <td>4030</td>\n",
              "      <td>0</td>\n",
              "      <td>0</td>\n",
              "      <td>NaN</td>\n",
              "      <td>0</td>\n",
              "      <td>0</td>\n",
              "      <td>1</td>\n",
              "      <td>8</td>\n",
              "      <td>6.0</td>\n",
              "      <td>12</td>\n",
              "      <td>0.0</td>\n",
              "      <td>0</td>\n",
              "      <td>4</td>\n",
              "      <td>15600</td>\n",
              "      <td>17</td>\n",
              "      <td>11</td>\n",
              "      <td>4</td>\n",
              "      <td>0</td>\n",
              "      <td>92.9</td>\n",
              "      <td>0</td>\n",
              "      <td>0</td>\n",
              "      <td>debt_consolidation</td>\n",
              "      <td>individual</td>\n",
              "      <td>3000</td>\n",
              "      <td>36</td>\n",
              "      <td>9.93</td>\n",
              "      <td>96.71</td>\n",
              "      <td>B</td>\n",
              "      <td>B2</td>\n",
              "      <td>Jan-2018</td>\n",
              "      <td>Current</td>\n",
              "      <td>whole</td>\n",
              "      <td>Cash</td>\n",
              "      <td>2634.57</td>\n",
              "      <td>476.930000</td>\n",
              "      <td>365.43</td>\n",
              "      <td>111.50</td>\n",
              "      <td>0.0</td>\n",
              "    </tr>\n",
              "    <tr>\n",
              "      <th>3089</th>\n",
              "      <td>underwriter</td>\n",
              "      <td>9.0</td>\n",
              "      <td>KY</td>\n",
              "      <td>OWN</td>\n",
              "      <td>85000.0</td>\n",
              "      <td>Verified</td>\n",
              "      <td>23.35</td>\n",
              "      <td>NaN</td>\n",
              "      <td>NaN</td>\n",
              "      <td>NaN</td>\n",
              "      <td>0</td>\n",
              "      <td>NaN</td>\n",
              "      <td>1989</td>\n",
              "      <td>4</td>\n",
              "      <td>68</td>\n",
              "      <td>36</td>\n",
              "      <td>170053</td>\n",
              "      <td>88797</td>\n",
              "      <td>0</td>\n",
              "      <td>0</td>\n",
              "      <td>NaN</td>\n",
              "      <td>0</td>\n",
              "      <td>0</td>\n",
              "      <td>10</td>\n",
              "      <td>13</td>\n",
              "      <td>2.0</td>\n",
              "      <td>36</td>\n",
              "      <td>0.0</td>\n",
              "      <td>0</td>\n",
              "      <td>6</td>\n",
              "      <td>43800</td>\n",
              "      <td>32</td>\n",
              "      <td>26</td>\n",
              "      <td>10</td>\n",
              "      <td>0</td>\n",
              "      <td>100.0</td>\n",
              "      <td>0</td>\n",
              "      <td>0</td>\n",
              "      <td>other</td>\n",
              "      <td>individual</td>\n",
              "      <td>14000</td>\n",
              "      <td>60</td>\n",
              "      <td>18.45</td>\n",
              "      <td>358.95</td>\n",
              "      <td>D</td>\n",
              "      <td>D2</td>\n",
              "      <td>Mar-2018</td>\n",
              "      <td>Current</td>\n",
              "      <td>whole</td>\n",
              "      <td>Cash</td>\n",
              "      <td>13562.24</td>\n",
              "      <td>1048.150000</td>\n",
              "      <td>437.76</td>\n",
              "      <td>610.39</td>\n",
              "      <td>0.0</td>\n",
              "    </tr>\n",
              "    <tr>\n",
              "      <th>4919</th>\n",
              "      <td>material coordinator</td>\n",
              "      <td>10.0</td>\n",
              "      <td>CA</td>\n",
              "      <td>RENT</td>\n",
              "      <td>65000.0</td>\n",
              "      <td>Verified</td>\n",
              "      <td>29.51</td>\n",
              "      <td>NaN</td>\n",
              "      <td>NaN</td>\n",
              "      <td>NaN</td>\n",
              "      <td>1</td>\n",
              "      <td>17.0</td>\n",
              "      <td>2000</td>\n",
              "      <td>0</td>\n",
              "      <td>19</td>\n",
              "      <td>16</td>\n",
              "      <td>71746</td>\n",
              "      <td>60991</td>\n",
              "      <td>0</td>\n",
              "      <td>0</td>\n",
              "      <td>NaN</td>\n",
              "      <td>0</td>\n",
              "      <td>0</td>\n",
              "      <td>9</td>\n",
              "      <td>2</td>\n",
              "      <td>13.0</td>\n",
              "      <td>16</td>\n",
              "      <td>0.0</td>\n",
              "      <td>0</td>\n",
              "      <td>1</td>\n",
              "      <td>4000</td>\n",
              "      <td>9</td>\n",
              "      <td>7</td>\n",
              "      <td>4</td>\n",
              "      <td>0</td>\n",
              "      <td>94.7</td>\n",
              "      <td>0</td>\n",
              "      <td>0</td>\n",
              "      <td>debt_consolidation</td>\n",
              "      <td>individual</td>\n",
              "      <td>4200</td>\n",
              "      <td>36</td>\n",
              "      <td>14.07</td>\n",
              "      <td>143.69</td>\n",
              "      <td>C</td>\n",
              "      <td>C3</td>\n",
              "      <td>Mar-2018</td>\n",
              "      <td>Fully Paid</td>\n",
              "      <td>whole</td>\n",
              "      <td>Cash</td>\n",
              "      <td>0.00</td>\n",
              "      <td>4273.242992</td>\n",
              "      <td>4200.00</td>\n",
              "      <td>73.24</td>\n",
              "      <td>0.0</td>\n",
              "    </tr>\n",
              "  </tbody>\n",
              "</table>\n",
              "</div>\n",
              "      <button class=\"colab-df-convert\" onclick=\"convertToInteractive('df-1070ee7f-0dbe-42ea-8d0e-6d70d7106a4a')\"\n",
              "              title=\"Convert this dataframe to an interactive table.\"\n",
              "              style=\"display:none;\">\n",
              "        \n",
              "  <svg xmlns=\"http://www.w3.org/2000/svg\" height=\"24px\"viewBox=\"0 0 24 24\"\n",
              "       width=\"24px\">\n",
              "    <path d=\"M0 0h24v24H0V0z\" fill=\"none\"/>\n",
              "    <path d=\"M18.56 5.44l.94 2.06.94-2.06 2.06-.94-2.06-.94-.94-2.06-.94 2.06-2.06.94zm-11 1L8.5 8.5l.94-2.06 2.06-.94-2.06-.94L8.5 2.5l-.94 2.06-2.06.94zm10 10l.94 2.06.94-2.06 2.06-.94-2.06-.94-.94-2.06-.94 2.06-2.06.94z\"/><path d=\"M17.41 7.96l-1.37-1.37c-.4-.4-.92-.59-1.43-.59-.52 0-1.04.2-1.43.59L10.3 9.45l-7.72 7.72c-.78.78-.78 2.05 0 2.83L4 21.41c.39.39.9.59 1.41.59.51 0 1.02-.2 1.41-.59l7.78-7.78 2.81-2.81c.8-.78.8-2.07 0-2.86zM5.41 20L4 18.59l7.72-7.72 1.47 1.35L5.41 20z\"/>\n",
              "  </svg>\n",
              "      </button>\n",
              "      \n",
              "  <style>\n",
              "    .colab-df-container {\n",
              "      display:flex;\n",
              "      flex-wrap:wrap;\n",
              "      gap: 12px;\n",
              "    }\n",
              "\n",
              "    .colab-df-convert {\n",
              "      background-color: #E8F0FE;\n",
              "      border: none;\n",
              "      border-radius: 50%;\n",
              "      cursor: pointer;\n",
              "      display: none;\n",
              "      fill: #1967D2;\n",
              "      height: 32px;\n",
              "      padding: 0 0 0 0;\n",
              "      width: 32px;\n",
              "    }\n",
              "\n",
              "    .colab-df-convert:hover {\n",
              "      background-color: #E2EBFA;\n",
              "      box-shadow: 0px 1px 2px rgba(60, 64, 67, 0.3), 0px 1px 3px 1px rgba(60, 64, 67, 0.15);\n",
              "      fill: #174EA6;\n",
              "    }\n",
              "\n",
              "    [theme=dark] .colab-df-convert {\n",
              "      background-color: #3B4455;\n",
              "      fill: #D2E3FC;\n",
              "    }\n",
              "\n",
              "    [theme=dark] .colab-df-convert:hover {\n",
              "      background-color: #434B5C;\n",
              "      box-shadow: 0px 1px 3px 1px rgba(0, 0, 0, 0.15);\n",
              "      filter: drop-shadow(0px 1px 2px rgba(0, 0, 0, 0.3));\n",
              "      fill: #FFFFFF;\n",
              "    }\n",
              "  </style>\n",
              "\n",
              "      <script>\n",
              "        const buttonEl =\n",
              "          document.querySelector('#df-1070ee7f-0dbe-42ea-8d0e-6d70d7106a4a button.colab-df-convert');\n",
              "        buttonEl.style.display =\n",
              "          google.colab.kernel.accessAllowed ? 'block' : 'none';\n",
              "\n",
              "        async function convertToInteractive(key) {\n",
              "          const element = document.querySelector('#df-1070ee7f-0dbe-42ea-8d0e-6d70d7106a4a');\n",
              "          const dataTable =\n",
              "            await google.colab.kernel.invokeFunction('convertToInteractive',\n",
              "                                                     [key], {});\n",
              "          if (!dataTable) return;\n",
              "\n",
              "          const docLinkHtml = 'Like what you see? Visit the ' +\n",
              "            '<a target=\"_blank\" href=https://colab.research.google.com/notebooks/data_table.ipynb>data table notebook</a>'\n",
              "            + ' to learn more about interactive tables.';\n",
              "          element.innerHTML = '';\n",
              "          dataTable['output_type'] = 'display_data';\n",
              "          await google.colab.output.renderOutput(dataTable, element);\n",
              "          const docLink = document.createElement('div');\n",
              "          docLink.innerHTML = docLinkHtml;\n",
              "          element.appendChild(docLink);\n",
              "        }\n",
              "      </script>\n",
              "    </div>\n",
              "  </div>\n",
              "  "
            ]
          },
          "metadata": {},
          "execution_count": 182
        }
      ],
      "source": [
        "# Show 5 random rows of dataset\n",
        "df.sample(5)"
      ]
    },
    {
      "cell_type": "code",
      "execution_count": 183,
      "metadata": {
        "colab": {
          "base_uri": "https://localhost:8080/"
        },
        "id": "ujfUabliAKAM",
        "outputId": "527d1768-7984-42fc-d955-9f69dd6c89be"
      },
      "outputs": [
        {
          "output_type": "stream",
          "name": "stdout",
          "text": [
            "<class 'pandas.core.frame.DataFrame'>\n",
            "RangeIndex: 10000 entries, 0 to 9999\n",
            "Data columns (total 55 columns):\n",
            " #   Column                            Non-Null Count  Dtype  \n",
            "---  ------                            --------------  -----  \n",
            " 0   emp_title                         9167 non-null   object \n",
            " 1   emp_length                        9183 non-null   float64\n",
            " 2   state                             10000 non-null  object \n",
            " 3   homeownership                     10000 non-null  object \n",
            " 4   annual_income                     10000 non-null  float64\n",
            " 5   verified_income                   10000 non-null  object \n",
            " 6   debt_to_income                    9976 non-null   float64\n",
            " 7   annual_income_joint               1495 non-null   float64\n",
            " 8   verification_income_joint         1455 non-null   object \n",
            " 9   debt_to_income_joint              1495 non-null   float64\n",
            " 10  delinq_2y                         10000 non-null  int64  \n",
            " 11  months_since_last_delinq          4342 non-null   float64\n",
            " 12  earliest_credit_line              10000 non-null  int64  \n",
            " 13  inquiries_last_12m                10000 non-null  int64  \n",
            " 14  total_credit_lines                10000 non-null  int64  \n",
            " 15  open_credit_lines                 10000 non-null  int64  \n",
            " 16  total_credit_limit                10000 non-null  int64  \n",
            " 17  total_credit_utilized             10000 non-null  int64  \n",
            " 18  num_collections_last_12m          10000 non-null  int64  \n",
            " 19  num_historical_failed_to_pay      10000 non-null  int64  \n",
            " 20  months_since_90d_late             2285 non-null   float64\n",
            " 21  current_accounts_delinq           10000 non-null  int64  \n",
            " 22  total_collection_amount_ever      10000 non-null  int64  \n",
            " 23  current_installment_accounts      10000 non-null  int64  \n",
            " 24  accounts_opened_24m               10000 non-null  int64  \n",
            " 25  months_since_last_credit_inquiry  8729 non-null   float64\n",
            " 26  num_satisfactory_accounts         10000 non-null  int64  \n",
            " 27  num_accounts_120d_past_due        9682 non-null   float64\n",
            " 28  num_accounts_30d_past_due         10000 non-null  int64  \n",
            " 29  num_active_debit_accounts         10000 non-null  int64  \n",
            " 30  total_debit_limit                 10000 non-null  int64  \n",
            " 31  num_total_cc_accounts             10000 non-null  int64  \n",
            " 32  num_open_cc_accounts              10000 non-null  int64  \n",
            " 33  num_cc_carrying_balance           10000 non-null  int64  \n",
            " 34  num_mort_accounts                 10000 non-null  int64  \n",
            " 35  account_never_delinq_percent      10000 non-null  float64\n",
            " 36  tax_liens                         10000 non-null  int64  \n",
            " 37  public_record_bankrupt            10000 non-null  int64  \n",
            " 38  loan_purpose                      10000 non-null  object \n",
            " 39  application_type                  10000 non-null  object \n",
            " 40  loan_amount                       10000 non-null  int64  \n",
            " 41  term                              10000 non-null  int64  \n",
            " 42  interest_rate                     10000 non-null  float64\n",
            " 43  installment                       10000 non-null  float64\n",
            " 44  grade                             10000 non-null  object \n",
            " 45  sub_grade                         10000 non-null  object \n",
            " 46  issue_month                       10000 non-null  object \n",
            " 47  loan_status                       10000 non-null  object \n",
            " 48  initial_listing_status            10000 non-null  object \n",
            " 49  disbursement_method               10000 non-null  object \n",
            " 50  balance                           10000 non-null  float64\n",
            " 51  paid_total                        10000 non-null  float64\n",
            " 52  paid_principal                    10000 non-null  float64\n",
            " 53  paid_interest                     10000 non-null  float64\n",
            " 54  paid_late_fees                    10000 non-null  float64\n",
            "dtypes: float64(17), int64(25), object(13)\n",
            "memory usage: 4.2+ MB\n"
          ]
        }
      ],
      "source": [
        "# Quick look in the columns - empty values - datatypes\n",
        "df.info()"
      ]
    },
    {
      "cell_type": "markdown",
      "metadata": {
        "id": "uHuT-wdo-Qy5"
      },
      "source": [
        "## **Analysis of Categorical and Numerical Variables**"
      ]
    },
    {
      "cell_type": "markdown",
      "metadata": {
        "id": "PD8ZtSE8-Zw_"
      },
      "source": [
        "#### **A. Categorical Variables**"
      ]
    },
    {
      "cell_type": "markdown",
      "metadata": {
        "id": "o0by1Agfjxbj"
      },
      "source": [
        "We have 13 **categorical** variables: \n",
        "* `emp_title`: job title of the applicant. (manager, owner, teacher etc)\n",
        "* `state`: two-letter state code. (CA, TX, NY etc)\n",
        "* `homeownership`: the ownership status of the applicant's residence. (MORTGAGE, RENT, OWN)\n",
        "* `verified_income`: type of verification of the applicant's income. (Source Verified, Not Verified, Verified)\n",
        "* `verification_income_joint`: type of verification of the joint income (Source Verified, Not Verified, Verified)\n",
        "* `loan_purpose`: category for the purpose of the loan. (debt consolidation, credit card, home improvement etc)\n",
        "* `application_type`: type of application (individual, joint)\n",
        "* `grade`: grade associated with the loan. The grade reflects the creditworthiness and the risk associated with the loan. In grading system \"A-D\", \"A\" referes to the highest quality and \"D\" to the lowest. (A, B, C, D, E, F, G)\n",
        "* `sub_grade`: detailed grade associated with the loan (A1, A2, B1, B2, etc)\n",
        "* `issue_month`: month the loan was issued (Jan-2018, Feb-2018, Mar-2018)\n",
        "* `loan_status`: status of the loan (Current, Fully Paid, In Grace Period, Late (31-120 days), Late (16-30 days))\n",
        "* `initial_listing_status`: initial listing status of the loan (whole, fractional)\n",
        "* `disbursement_method`: dispersement method of the loan. (Cash, DirectPay)"
      ]
    },
    {
      "cell_type": "code",
      "execution_count": 184,
      "metadata": {
        "colab": {
          "base_uri": "https://localhost:8080/",
          "height": 239
        },
        "id": "f-vQsA57ib0Q",
        "outputId": "7b213b16-a7f0-4438-9aa1-3f155ed34957"
      },
      "outputs": [
        {
          "output_type": "execute_result",
          "data": {
            "text/plain": [
              "       emp_title  state homeownership  verified_income  \\\n",
              "count       9167  10000         10000            10000   \n",
              "unique      4741     50             3                3   \n",
              "top      manager     CA      MORTGAGE  Source Verified   \n",
              "freq         218   1330          4789             4116   \n",
              "\n",
              "       verification_income_joint        loan_purpose application_type  grade  \\\n",
              "count                       1455               10000            10000  10000   \n",
              "unique                         3                  12                2      7   \n",
              "top                 Not Verified  debt_consolidation       individual      B   \n",
              "freq                         611                5144             8505   3037   \n",
              "\n",
              "       sub_grade issue_month loan_status initial_listing_status  \\\n",
              "count      10000       10000       10000                  10000   \n",
              "unique        32           3           6                      2   \n",
              "top           B1    Mar-2018     Current                  whole   \n",
              "freq         647        3617        9375                   8206   \n",
              "\n",
              "       disbursement_method  \n",
              "count                10000  \n",
              "unique                   2  \n",
              "top                   Cash  \n",
              "freq                  9284  "
            ],
            "text/html": [
              "\n",
              "  <div id=\"df-1facfe19-c89f-46ee-8b95-e0b5caae0187\">\n",
              "    <div class=\"colab-df-container\">\n",
              "      <div>\n",
              "<style scoped>\n",
              "    .dataframe tbody tr th:only-of-type {\n",
              "        vertical-align: middle;\n",
              "    }\n",
              "\n",
              "    .dataframe tbody tr th {\n",
              "        vertical-align: top;\n",
              "    }\n",
              "\n",
              "    .dataframe thead th {\n",
              "        text-align: right;\n",
              "    }\n",
              "</style>\n",
              "<table border=\"1\" class=\"dataframe\">\n",
              "  <thead>\n",
              "    <tr style=\"text-align: right;\">\n",
              "      <th></th>\n",
              "      <th>emp_title</th>\n",
              "      <th>state</th>\n",
              "      <th>homeownership</th>\n",
              "      <th>verified_income</th>\n",
              "      <th>verification_income_joint</th>\n",
              "      <th>loan_purpose</th>\n",
              "      <th>application_type</th>\n",
              "      <th>grade</th>\n",
              "      <th>sub_grade</th>\n",
              "      <th>issue_month</th>\n",
              "      <th>loan_status</th>\n",
              "      <th>initial_listing_status</th>\n",
              "      <th>disbursement_method</th>\n",
              "    </tr>\n",
              "  </thead>\n",
              "  <tbody>\n",
              "    <tr>\n",
              "      <th>count</th>\n",
              "      <td>9167</td>\n",
              "      <td>10000</td>\n",
              "      <td>10000</td>\n",
              "      <td>10000</td>\n",
              "      <td>1455</td>\n",
              "      <td>10000</td>\n",
              "      <td>10000</td>\n",
              "      <td>10000</td>\n",
              "      <td>10000</td>\n",
              "      <td>10000</td>\n",
              "      <td>10000</td>\n",
              "      <td>10000</td>\n",
              "      <td>10000</td>\n",
              "    </tr>\n",
              "    <tr>\n",
              "      <th>unique</th>\n",
              "      <td>4741</td>\n",
              "      <td>50</td>\n",
              "      <td>3</td>\n",
              "      <td>3</td>\n",
              "      <td>3</td>\n",
              "      <td>12</td>\n",
              "      <td>2</td>\n",
              "      <td>7</td>\n",
              "      <td>32</td>\n",
              "      <td>3</td>\n",
              "      <td>6</td>\n",
              "      <td>2</td>\n",
              "      <td>2</td>\n",
              "    </tr>\n",
              "    <tr>\n",
              "      <th>top</th>\n",
              "      <td>manager</td>\n",
              "      <td>CA</td>\n",
              "      <td>MORTGAGE</td>\n",
              "      <td>Source Verified</td>\n",
              "      <td>Not Verified</td>\n",
              "      <td>debt_consolidation</td>\n",
              "      <td>individual</td>\n",
              "      <td>B</td>\n",
              "      <td>B1</td>\n",
              "      <td>Mar-2018</td>\n",
              "      <td>Current</td>\n",
              "      <td>whole</td>\n",
              "      <td>Cash</td>\n",
              "    </tr>\n",
              "    <tr>\n",
              "      <th>freq</th>\n",
              "      <td>218</td>\n",
              "      <td>1330</td>\n",
              "      <td>4789</td>\n",
              "      <td>4116</td>\n",
              "      <td>611</td>\n",
              "      <td>5144</td>\n",
              "      <td>8505</td>\n",
              "      <td>3037</td>\n",
              "      <td>647</td>\n",
              "      <td>3617</td>\n",
              "      <td>9375</td>\n",
              "      <td>8206</td>\n",
              "      <td>9284</td>\n",
              "    </tr>\n",
              "  </tbody>\n",
              "</table>\n",
              "</div>\n",
              "      <button class=\"colab-df-convert\" onclick=\"convertToInteractive('df-1facfe19-c89f-46ee-8b95-e0b5caae0187')\"\n",
              "              title=\"Convert this dataframe to an interactive table.\"\n",
              "              style=\"display:none;\">\n",
              "        \n",
              "  <svg xmlns=\"http://www.w3.org/2000/svg\" height=\"24px\"viewBox=\"0 0 24 24\"\n",
              "       width=\"24px\">\n",
              "    <path d=\"M0 0h24v24H0V0z\" fill=\"none\"/>\n",
              "    <path d=\"M18.56 5.44l.94 2.06.94-2.06 2.06-.94-2.06-.94-.94-2.06-.94 2.06-2.06.94zm-11 1L8.5 8.5l.94-2.06 2.06-.94-2.06-.94L8.5 2.5l-.94 2.06-2.06.94zm10 10l.94 2.06.94-2.06 2.06-.94-2.06-.94-.94-2.06-.94 2.06-2.06.94z\"/><path d=\"M17.41 7.96l-1.37-1.37c-.4-.4-.92-.59-1.43-.59-.52 0-1.04.2-1.43.59L10.3 9.45l-7.72 7.72c-.78.78-.78 2.05 0 2.83L4 21.41c.39.39.9.59 1.41.59.51 0 1.02-.2 1.41-.59l7.78-7.78 2.81-2.81c.8-.78.8-2.07 0-2.86zM5.41 20L4 18.59l7.72-7.72 1.47 1.35L5.41 20z\"/>\n",
              "  </svg>\n",
              "      </button>\n",
              "      \n",
              "  <style>\n",
              "    .colab-df-container {\n",
              "      display:flex;\n",
              "      flex-wrap:wrap;\n",
              "      gap: 12px;\n",
              "    }\n",
              "\n",
              "    .colab-df-convert {\n",
              "      background-color: #E8F0FE;\n",
              "      border: none;\n",
              "      border-radius: 50%;\n",
              "      cursor: pointer;\n",
              "      display: none;\n",
              "      fill: #1967D2;\n",
              "      height: 32px;\n",
              "      padding: 0 0 0 0;\n",
              "      width: 32px;\n",
              "    }\n",
              "\n",
              "    .colab-df-convert:hover {\n",
              "      background-color: #E2EBFA;\n",
              "      box-shadow: 0px 1px 2px rgba(60, 64, 67, 0.3), 0px 1px 3px 1px rgba(60, 64, 67, 0.15);\n",
              "      fill: #174EA6;\n",
              "    }\n",
              "\n",
              "    [theme=dark] .colab-df-convert {\n",
              "      background-color: #3B4455;\n",
              "      fill: #D2E3FC;\n",
              "    }\n",
              "\n",
              "    [theme=dark] .colab-df-convert:hover {\n",
              "      background-color: #434B5C;\n",
              "      box-shadow: 0px 1px 3px 1px rgba(0, 0, 0, 0.15);\n",
              "      filter: drop-shadow(0px 1px 2px rgba(0, 0, 0, 0.3));\n",
              "      fill: #FFFFFF;\n",
              "    }\n",
              "  </style>\n",
              "\n",
              "      <script>\n",
              "        const buttonEl =\n",
              "          document.querySelector('#df-1facfe19-c89f-46ee-8b95-e0b5caae0187 button.colab-df-convert');\n",
              "        buttonEl.style.display =\n",
              "          google.colab.kernel.accessAllowed ? 'block' : 'none';\n",
              "\n",
              "        async function convertToInteractive(key) {\n",
              "          const element = document.querySelector('#df-1facfe19-c89f-46ee-8b95-e0b5caae0187');\n",
              "          const dataTable =\n",
              "            await google.colab.kernel.invokeFunction('convertToInteractive',\n",
              "                                                     [key], {});\n",
              "          if (!dataTable) return;\n",
              "\n",
              "          const docLinkHtml = 'Like what you see? Visit the ' +\n",
              "            '<a target=\"_blank\" href=https://colab.research.google.com/notebooks/data_table.ipynb>data table notebook</a>'\n",
              "            + ' to learn more about interactive tables.';\n",
              "          element.innerHTML = '';\n",
              "          dataTable['output_type'] = 'display_data';\n",
              "          await google.colab.output.renderOutput(dataTable, element);\n",
              "          const docLink = document.createElement('div');\n",
              "          docLink.innerHTML = docLinkHtml;\n",
              "          element.appendChild(docLink);\n",
              "        }\n",
              "      </script>\n",
              "    </div>\n",
              "  </div>\n",
              "  "
            ]
          },
          "metadata": {},
          "execution_count": 184
        }
      ],
      "source": [
        "# Categorical values\n",
        "df.describe(include='object')"
      ]
    },
    {
      "cell_type": "markdown",
      "metadata": {
        "id": "jfNSQbBC-hiq"
      },
      "source": [
        "#### **B. Numerical Variables**"
      ]
    },
    {
      "cell_type": "markdown",
      "metadata": {
        "id": "fpdrZX8BkWCv"
      },
      "source": [
        "We have 42 **numerical** variables: \n",
        "* `emp_length`: Number of years in the job, rounded down. \n",
        "* `annual_income`: The annual income of the applicant.\n",
        "* `debt_to_income`: Debt-to-income ratio.  \n",
        "* `annual_income_joint`: if this is a joint application, then the annual income of the two parties applying.\n",
        "* `debt_to_income_joint`: Debt-to-income ratio for the two parties.\n",
        "* `delinq_2y`: Delinquencies on lines of credit in the last 2 years. \n",
        "* `months_since_last_delinq`: Months since the last delinquency.\n",
        "* `earliest_credit_line`: Year of the applicant's earliest line of credit. \n",
        "* `inquiries_last_12m`: Inquiries into the applicant's credit during the last 12 months. \n",
        "* `total_credit_lines`: Total number of credit lines in this applicant's credit history. \n",
        "* `open_credit_lines`: Number of currently open lines of credit. \n",
        "* `total_credit_limit`: Total available credit, e.g. if only credit cards, then the total of all the credit limits. This excludes a mortgage.\n",
        "* `total_credit_utilized`: Total credit balance, excluding a mortgage.\n",
        "* `num_collections_last_12m`: Number of collections in the last 12 months. This excludes medical collections. \n",
        "* `num_historical_failed_to_pay`: The number of derogatory public records, which roughly means the number of times the applicant failed to pay.\n",
        "* `months_since_90d_late`: Months since the last time the applicant was 90 days late on a payment.\n",
        "* `current_accounts_delinq`: Number of accounts where the applicant is currently delinquent. \n",
        "* `total_collection_amount_ever`: The total amount that the applicant has had against them in collections. \n",
        "* `current_installment_accounts`: Number of installment accounts, which are (roughly) accounts with a fixed payment amount and period. A typical example might be a 36-month car loan. \n",
        "* `accounts_opened_24m`: Number of new lines of credit opened in the last 24 months\n",
        "* `months_since_last_credit_inquiry`:  Number of months since the last credit inquiry on this applicant. \n",
        "* `num_satisfactory_accounts`: Number of satisfactory accounts. \n",
        "* `num_accounts_120d_past_due`: Number of current accounts that are 120 days past due. \n",
        "* `num_accounts_30d_past_due`: Number of current accounts that are 30 days past due. \n",
        "* `num_active_debit_accounts`: Number of currently active bank cards. \n",
        "* `total_debit_limit`: Total of all bank card limits.\n",
        "* `num_total_cc_accounts`: Total number of credit card accounts in the applicant's history. \n",
        "* `num_open_cc_accounts`: Total number of currently open credit card accounts.\n",
        "* `num_cc_carrying_balance`: Number of credit cards that are carrying a balance.\n",
        "* `num_mort_accounts`: Number of mortgage accounts.\n",
        "* `account_never_delinq_percent`: Percent of all lines of credit where the applicant was never delinquent.\n",
        "* `tax_liens`: a numeric vector \n",
        "* `public_record_bankrupt`: Number of bankruptcies listed in the public record for this applicant. \n",
        "* `loan_amount`: The amount of the loan the applicant received. \n",
        "* `term`: The number of months of the loan the applicant received.\n",
        "* `interest_rate`: Interest rate of the loan the applicant received.\n",
        "* `installment`: Monthly payment for the loan the applicant received. \n",
        "* `balance`: Current balance on the loan. \n",
        "* `paid_total`: Total that has been paid on the loan by the applicant.\n",
        "* `paid_principal`: The difference between the original loan amount and the current balance on the loan.\n",
        "* `paid_interest`: The amount of interest paid so far by the applicant.\n",
        "* `paid_late_fees`: Late fees paid by the applicant. \n"
      ]
    },
    {
      "cell_type": "code",
      "execution_count": 185,
      "metadata": {
        "colab": {
          "base_uri": "https://localhost:8080/",
          "height": 364
        },
        "id": "OBuKHPqr9gsL",
        "outputId": "97f7ec8b-9a02-45d4-ba4f-ae9b0d66e845"
      },
      "outputs": [
        {
          "output_type": "execute_result",
          "data": {
            "text/plain": [
              "        emp_length  annual_income  debt_to_income  annual_income_joint  \\\n",
              "count  9183.000000   1.000000e+04     9976.000000         1.495000e+03   \n",
              "mean      5.930306   7.922215e+04       19.308192         1.279146e+05   \n",
              "std       3.703734   6.473429e+04       15.004851         7.016838e+04   \n",
              "min       0.000000   0.000000e+00        0.000000         1.920000e+04   \n",
              "25%       2.000000   4.500000e+04       11.057500         8.683350e+04   \n",
              "50%       6.000000   6.500000e+04       17.570000         1.130000e+05   \n",
              "75%      10.000000   9.500000e+04       25.002500         1.515455e+05   \n",
              "max      10.000000   2.300000e+06      469.090000         1.100000e+06   \n",
              "\n",
              "       debt_to_income_joint    delinq_2y  months_since_last_delinq  \\\n",
              "count           1495.000000  10000.00000               4342.000000   \n",
              "mean              19.979304      0.21600                 36.760709   \n",
              "std                8.054781      0.68366                 21.634939   \n",
              "min                0.320000      0.00000                  1.000000   \n",
              "25%               14.160000      0.00000                 19.000000   \n",
              "50%               19.720000      0.00000                 34.000000   \n",
              "75%               25.500000      0.00000                 53.000000   \n",
              "max               39.980000     13.00000                118.000000   \n",
              "\n",
              "       earliest_credit_line  inquiries_last_12m  total_credit_lines  \\\n",
              "count           10000.00000         10000.00000        10000.000000   \n",
              "mean             2001.29000             1.95820           22.679600   \n",
              "std                 7.79551             2.38013           11.885439   \n",
              "min              1963.00000             0.00000            2.000000   \n",
              "25%              1997.00000             0.00000           14.000000   \n",
              "50%              2003.00000             1.00000           21.000000   \n",
              "75%              2006.00000             3.00000           29.000000   \n",
              "max              2015.00000            29.00000           87.000000   \n",
              "\n",
              "       open_credit_lines  total_credit_limit  total_credit_utilized  \\\n",
              "count        10000.00000        1.000000e+04           10000.000000   \n",
              "mean            11.40440        1.836062e+05           51049.063100   \n",
              "std              5.86828        1.876327e+05           53636.731172   \n",
              "min              0.00000        0.000000e+00               0.000000   \n",
              "25%              7.00000        5.159375e+04           19185.500000   \n",
              "50%             10.00000        1.146670e+05           36927.000000   \n",
              "75%             14.00000        2.675500e+05           65421.000000   \n",
              "max             51.00000        3.386034e+06          942456.000000   \n",
              "\n",
              "       num_collections_last_12m  num_historical_failed_to_pay  \\\n",
              "count              10000.000000                  10000.000000   \n",
              "mean                   0.013800                      0.167100   \n",
              "std                    0.126535                      0.687768   \n",
              "min                    0.000000                      0.000000   \n",
              "25%                    0.000000                      0.000000   \n",
              "50%                    0.000000                      0.000000   \n",
              "75%                    0.000000                      0.000000   \n",
              "max                    3.000000                     52.000000   \n",
              "\n",
              "       months_since_90d_late  current_accounts_delinq  \\\n",
              "count            2285.000000               10000.0000   \n",
              "mean               46.112473                   0.0001   \n",
              "std                21.748021                   0.0100   \n",
              "min                 2.000000                   0.0000   \n",
              "25%                29.000000                   0.0000   \n",
              "50%                47.000000                   0.0000   \n",
              "75%                63.000000                   0.0000   \n",
              "max               128.000000                   1.0000   \n",
              "\n",
              "       total_collection_amount_ever  current_installment_accounts  \\\n",
              "count                  10000.000000                  10000.000000   \n",
              "mean                     184.334000                      2.663600   \n",
              "std                     2206.389859                      2.935387   \n",
              "min                        0.000000                      0.000000   \n",
              "25%                        0.000000                      1.000000   \n",
              "50%                        0.000000                      2.000000   \n",
              "75%                        0.000000                      3.000000   \n",
              "max                   199308.000000                     35.000000   \n",
              "\n",
              "       accounts_opened_24m  months_since_last_credit_inquiry  \\\n",
              "count         10000.000000                       8729.000000   \n",
              "mean              4.376100                          7.340703   \n",
              "std               3.158583                          5.981590   \n",
              "min               0.000000                          0.000000   \n",
              "25%               2.000000                          2.000000   \n",
              "50%               4.000000                          6.000000   \n",
              "75%               6.000000                         11.000000   \n",
              "max              29.000000                         24.000000   \n",
              "\n",
              "       num_satisfactory_accounts  num_accounts_120d_past_due  \\\n",
              "count               10000.000000                      9682.0   \n",
              "mean                   11.379600                         0.0   \n",
              "std                     5.859705                         0.0   \n",
              "min                     0.000000                         0.0   \n",
              "25%                     7.000000                         0.0   \n",
              "50%                    10.000000                         0.0   \n",
              "75%                    14.000000                         0.0   \n",
              "max                    51.000000                         0.0   \n",
              "\n",
              "       num_accounts_30d_past_due  num_active_debit_accounts  \\\n",
              "count                 10000.0000               10000.000000   \n",
              "mean                      0.0001                   3.595300   \n",
              "std                       0.0100                   2.434689   \n",
              "min                       0.0000                   0.000000   \n",
              "25%                       0.0000                   2.000000   \n",
              "50%                       0.0000                   3.000000   \n",
              "75%                       0.0000                   5.000000   \n",
              "max                       1.0000                  32.000000   \n",
              "\n",
              "       total_debit_limit  num_total_cc_accounts  num_open_cc_accounts  \\\n",
              "count       10000.000000           10000.000000          10000.000000   \n",
              "mean        27357.410300              13.030000              8.095000   \n",
              "std         26570.164081               7.874713              4.906606   \n",
              "min             0.000000               2.000000              0.000000   \n",
              "25%         10000.000000               7.000000              5.000000   \n",
              "50%         19500.000000              11.000000              7.000000   \n",
              "75%         36100.000000              17.000000             10.000000   \n",
              "max        386700.000000              66.000000             46.000000   \n",
              "\n",
              "       num_cc_carrying_balance  num_mort_accounts  \\\n",
              "count             10000.000000       10000.000000   \n",
              "mean                  5.230500           1.383100   \n",
              "std                   3.327623           1.717274   \n",
              "min                   0.000000           0.000000   \n",
              "25%                   3.000000           0.000000   \n",
              "50%                   5.000000           1.000000   \n",
              "75%                   7.000000           2.000000   \n",
              "max                  43.000000          14.000000   \n",
              "\n",
              "       account_never_delinq_percent     tax_liens  public_record_bankrupt  \\\n",
              "count                  10000.000000  10000.000000            10000.000000   \n",
              "mean                      94.648990      0.043300                0.123800   \n",
              "std                        9.155059      0.593852                0.337172   \n",
              "min                       14.300000      0.000000                0.000000   \n",
              "25%                       92.600000      0.000000                0.000000   \n",
              "50%                      100.000000      0.000000                0.000000   \n",
              "75%                      100.000000      0.000000                0.000000   \n",
              "max                      100.000000     52.000000                3.000000   \n",
              "\n",
              "        loan_amount          term  interest_rate   installment       balance  \\\n",
              "count  10000.000000  10000.000000   10000.000000  10000.000000  10000.000000   \n",
              "mean   16361.922500     43.272000      12.427524    476.205323  14458.916610   \n",
              "std    10301.956759     11.029877       5.001105    294.851627   9964.561865   \n",
              "min     1000.000000     36.000000       5.310000     30.750000      0.000000   \n",
              "25%     8000.000000     36.000000       9.430000    256.040000   6679.065000   \n",
              "50%    14500.000000     36.000000      11.980000    398.420000  12379.495000   \n",
              "75%    24000.000000     60.000000      15.050000    644.690000  20690.182500   \n",
              "max    40000.000000     60.000000      30.940000   1566.590000  40000.000000   \n",
              "\n",
              "         paid_total  paid_principal  paid_interest  paid_late_fees  \n",
              "count  10000.000000    10000.000000   10000.000000    10000.000000  \n",
              "mean    2494.234773     1894.448466     599.666781        0.119516  \n",
              "std     3958.230365     3884.407175     517.328062        1.813468  \n",
              "min        0.000000        0.000000       0.000000        0.000000  \n",
              "25%      928.700000      587.100000     221.757500        0.000000  \n",
              "50%     1563.300000      984.990000     446.140000        0.000000  \n",
              "75%     2616.005000     1694.555000     825.420000        0.000000  \n",
              "max    41630.443684    40000.000000    4216.440000       52.980000  "
            ],
            "text/html": [
              "\n",
              "  <div id=\"df-859a515b-6b29-47dd-86da-7b822ab81ab5\">\n",
              "    <div class=\"colab-df-container\">\n",
              "      <div>\n",
              "<style scoped>\n",
              "    .dataframe tbody tr th:only-of-type {\n",
              "        vertical-align: middle;\n",
              "    }\n",
              "\n",
              "    .dataframe tbody tr th {\n",
              "        vertical-align: top;\n",
              "    }\n",
              "\n",
              "    .dataframe thead th {\n",
              "        text-align: right;\n",
              "    }\n",
              "</style>\n",
              "<table border=\"1\" class=\"dataframe\">\n",
              "  <thead>\n",
              "    <tr style=\"text-align: right;\">\n",
              "      <th></th>\n",
              "      <th>emp_length</th>\n",
              "      <th>annual_income</th>\n",
              "      <th>debt_to_income</th>\n",
              "      <th>annual_income_joint</th>\n",
              "      <th>debt_to_income_joint</th>\n",
              "      <th>delinq_2y</th>\n",
              "      <th>months_since_last_delinq</th>\n",
              "      <th>earliest_credit_line</th>\n",
              "      <th>inquiries_last_12m</th>\n",
              "      <th>total_credit_lines</th>\n",
              "      <th>open_credit_lines</th>\n",
              "      <th>total_credit_limit</th>\n",
              "      <th>total_credit_utilized</th>\n",
              "      <th>num_collections_last_12m</th>\n",
              "      <th>num_historical_failed_to_pay</th>\n",
              "      <th>months_since_90d_late</th>\n",
              "      <th>current_accounts_delinq</th>\n",
              "      <th>total_collection_amount_ever</th>\n",
              "      <th>current_installment_accounts</th>\n",
              "      <th>accounts_opened_24m</th>\n",
              "      <th>months_since_last_credit_inquiry</th>\n",
              "      <th>num_satisfactory_accounts</th>\n",
              "      <th>num_accounts_120d_past_due</th>\n",
              "      <th>num_accounts_30d_past_due</th>\n",
              "      <th>num_active_debit_accounts</th>\n",
              "      <th>total_debit_limit</th>\n",
              "      <th>num_total_cc_accounts</th>\n",
              "      <th>num_open_cc_accounts</th>\n",
              "      <th>num_cc_carrying_balance</th>\n",
              "      <th>num_mort_accounts</th>\n",
              "      <th>account_never_delinq_percent</th>\n",
              "      <th>tax_liens</th>\n",
              "      <th>public_record_bankrupt</th>\n",
              "      <th>loan_amount</th>\n",
              "      <th>term</th>\n",
              "      <th>interest_rate</th>\n",
              "      <th>installment</th>\n",
              "      <th>balance</th>\n",
              "      <th>paid_total</th>\n",
              "      <th>paid_principal</th>\n",
              "      <th>paid_interest</th>\n",
              "      <th>paid_late_fees</th>\n",
              "    </tr>\n",
              "  </thead>\n",
              "  <tbody>\n",
              "    <tr>\n",
              "      <th>count</th>\n",
              "      <td>9183.000000</td>\n",
              "      <td>1.000000e+04</td>\n",
              "      <td>9976.000000</td>\n",
              "      <td>1.495000e+03</td>\n",
              "      <td>1495.000000</td>\n",
              "      <td>10000.00000</td>\n",
              "      <td>4342.000000</td>\n",
              "      <td>10000.00000</td>\n",
              "      <td>10000.00000</td>\n",
              "      <td>10000.000000</td>\n",
              "      <td>10000.00000</td>\n",
              "      <td>1.000000e+04</td>\n",
              "      <td>10000.000000</td>\n",
              "      <td>10000.000000</td>\n",
              "      <td>10000.000000</td>\n",
              "      <td>2285.000000</td>\n",
              "      <td>10000.0000</td>\n",
              "      <td>10000.000000</td>\n",
              "      <td>10000.000000</td>\n",
              "      <td>10000.000000</td>\n",
              "      <td>8729.000000</td>\n",
              "      <td>10000.000000</td>\n",
              "      <td>9682.0</td>\n",
              "      <td>10000.0000</td>\n",
              "      <td>10000.000000</td>\n",
              "      <td>10000.000000</td>\n",
              "      <td>10000.000000</td>\n",
              "      <td>10000.000000</td>\n",
              "      <td>10000.000000</td>\n",
              "      <td>10000.000000</td>\n",
              "      <td>10000.000000</td>\n",
              "      <td>10000.000000</td>\n",
              "      <td>10000.000000</td>\n",
              "      <td>10000.000000</td>\n",
              "      <td>10000.000000</td>\n",
              "      <td>10000.000000</td>\n",
              "      <td>10000.000000</td>\n",
              "      <td>10000.000000</td>\n",
              "      <td>10000.000000</td>\n",
              "      <td>10000.000000</td>\n",
              "      <td>10000.000000</td>\n",
              "      <td>10000.000000</td>\n",
              "    </tr>\n",
              "    <tr>\n",
              "      <th>mean</th>\n",
              "      <td>5.930306</td>\n",
              "      <td>7.922215e+04</td>\n",
              "      <td>19.308192</td>\n",
              "      <td>1.279146e+05</td>\n",
              "      <td>19.979304</td>\n",
              "      <td>0.21600</td>\n",
              "      <td>36.760709</td>\n",
              "      <td>2001.29000</td>\n",
              "      <td>1.95820</td>\n",
              "      <td>22.679600</td>\n",
              "      <td>11.40440</td>\n",
              "      <td>1.836062e+05</td>\n",
              "      <td>51049.063100</td>\n",
              "      <td>0.013800</td>\n",
              "      <td>0.167100</td>\n",
              "      <td>46.112473</td>\n",
              "      <td>0.0001</td>\n",
              "      <td>184.334000</td>\n",
              "      <td>2.663600</td>\n",
              "      <td>4.376100</td>\n",
              "      <td>7.340703</td>\n",
              "      <td>11.379600</td>\n",
              "      <td>0.0</td>\n",
              "      <td>0.0001</td>\n",
              "      <td>3.595300</td>\n",
              "      <td>27357.410300</td>\n",
              "      <td>13.030000</td>\n",
              "      <td>8.095000</td>\n",
              "      <td>5.230500</td>\n",
              "      <td>1.383100</td>\n",
              "      <td>94.648990</td>\n",
              "      <td>0.043300</td>\n",
              "      <td>0.123800</td>\n",
              "      <td>16361.922500</td>\n",
              "      <td>43.272000</td>\n",
              "      <td>12.427524</td>\n",
              "      <td>476.205323</td>\n",
              "      <td>14458.916610</td>\n",
              "      <td>2494.234773</td>\n",
              "      <td>1894.448466</td>\n",
              "      <td>599.666781</td>\n",
              "      <td>0.119516</td>\n",
              "    </tr>\n",
              "    <tr>\n",
              "      <th>std</th>\n",
              "      <td>3.703734</td>\n",
              "      <td>6.473429e+04</td>\n",
              "      <td>15.004851</td>\n",
              "      <td>7.016838e+04</td>\n",
              "      <td>8.054781</td>\n",
              "      <td>0.68366</td>\n",
              "      <td>21.634939</td>\n",
              "      <td>7.79551</td>\n",
              "      <td>2.38013</td>\n",
              "      <td>11.885439</td>\n",
              "      <td>5.86828</td>\n",
              "      <td>1.876327e+05</td>\n",
              "      <td>53636.731172</td>\n",
              "      <td>0.126535</td>\n",
              "      <td>0.687768</td>\n",
              "      <td>21.748021</td>\n",
              "      <td>0.0100</td>\n",
              "      <td>2206.389859</td>\n",
              "      <td>2.935387</td>\n",
              "      <td>3.158583</td>\n",
              "      <td>5.981590</td>\n",
              "      <td>5.859705</td>\n",
              "      <td>0.0</td>\n",
              "      <td>0.0100</td>\n",
              "      <td>2.434689</td>\n",
              "      <td>26570.164081</td>\n",
              "      <td>7.874713</td>\n",
              "      <td>4.906606</td>\n",
              "      <td>3.327623</td>\n",
              "      <td>1.717274</td>\n",
              "      <td>9.155059</td>\n",
              "      <td>0.593852</td>\n",
              "      <td>0.337172</td>\n",
              "      <td>10301.956759</td>\n",
              "      <td>11.029877</td>\n",
              "      <td>5.001105</td>\n",
              "      <td>294.851627</td>\n",
              "      <td>9964.561865</td>\n",
              "      <td>3958.230365</td>\n",
              "      <td>3884.407175</td>\n",
              "      <td>517.328062</td>\n",
              "      <td>1.813468</td>\n",
              "    </tr>\n",
              "    <tr>\n",
              "      <th>min</th>\n",
              "      <td>0.000000</td>\n",
              "      <td>0.000000e+00</td>\n",
              "      <td>0.000000</td>\n",
              "      <td>1.920000e+04</td>\n",
              "      <td>0.320000</td>\n",
              "      <td>0.00000</td>\n",
              "      <td>1.000000</td>\n",
              "      <td>1963.00000</td>\n",
              "      <td>0.00000</td>\n",
              "      <td>2.000000</td>\n",
              "      <td>0.00000</td>\n",
              "      <td>0.000000e+00</td>\n",
              "      <td>0.000000</td>\n",
              "      <td>0.000000</td>\n",
              "      <td>0.000000</td>\n",
              "      <td>2.000000</td>\n",
              "      <td>0.0000</td>\n",
              "      <td>0.000000</td>\n",
              "      <td>0.000000</td>\n",
              "      <td>0.000000</td>\n",
              "      <td>0.000000</td>\n",
              "      <td>0.000000</td>\n",
              "      <td>0.0</td>\n",
              "      <td>0.0000</td>\n",
              "      <td>0.000000</td>\n",
              "      <td>0.000000</td>\n",
              "      <td>2.000000</td>\n",
              "      <td>0.000000</td>\n",
              "      <td>0.000000</td>\n",
              "      <td>0.000000</td>\n",
              "      <td>14.300000</td>\n",
              "      <td>0.000000</td>\n",
              "      <td>0.000000</td>\n",
              "      <td>1000.000000</td>\n",
              "      <td>36.000000</td>\n",
              "      <td>5.310000</td>\n",
              "      <td>30.750000</td>\n",
              "      <td>0.000000</td>\n",
              "      <td>0.000000</td>\n",
              "      <td>0.000000</td>\n",
              "      <td>0.000000</td>\n",
              "      <td>0.000000</td>\n",
              "    </tr>\n",
              "    <tr>\n",
              "      <th>25%</th>\n",
              "      <td>2.000000</td>\n",
              "      <td>4.500000e+04</td>\n",
              "      <td>11.057500</td>\n",
              "      <td>8.683350e+04</td>\n",
              "      <td>14.160000</td>\n",
              "      <td>0.00000</td>\n",
              "      <td>19.000000</td>\n",
              "      <td>1997.00000</td>\n",
              "      <td>0.00000</td>\n",
              "      <td>14.000000</td>\n",
              "      <td>7.00000</td>\n",
              "      <td>5.159375e+04</td>\n",
              "      <td>19185.500000</td>\n",
              "      <td>0.000000</td>\n",
              "      <td>0.000000</td>\n",
              "      <td>29.000000</td>\n",
              "      <td>0.0000</td>\n",
              "      <td>0.000000</td>\n",
              "      <td>1.000000</td>\n",
              "      <td>2.000000</td>\n",
              "      <td>2.000000</td>\n",
              "      <td>7.000000</td>\n",
              "      <td>0.0</td>\n",
              "      <td>0.0000</td>\n",
              "      <td>2.000000</td>\n",
              "      <td>10000.000000</td>\n",
              "      <td>7.000000</td>\n",
              "      <td>5.000000</td>\n",
              "      <td>3.000000</td>\n",
              "      <td>0.000000</td>\n",
              "      <td>92.600000</td>\n",
              "      <td>0.000000</td>\n",
              "      <td>0.000000</td>\n",
              "      <td>8000.000000</td>\n",
              "      <td>36.000000</td>\n",
              "      <td>9.430000</td>\n",
              "      <td>256.040000</td>\n",
              "      <td>6679.065000</td>\n",
              "      <td>928.700000</td>\n",
              "      <td>587.100000</td>\n",
              "      <td>221.757500</td>\n",
              "      <td>0.000000</td>\n",
              "    </tr>\n",
              "    <tr>\n",
              "      <th>50%</th>\n",
              "      <td>6.000000</td>\n",
              "      <td>6.500000e+04</td>\n",
              "      <td>17.570000</td>\n",
              "      <td>1.130000e+05</td>\n",
              "      <td>19.720000</td>\n",
              "      <td>0.00000</td>\n",
              "      <td>34.000000</td>\n",
              "      <td>2003.00000</td>\n",
              "      <td>1.00000</td>\n",
              "      <td>21.000000</td>\n",
              "      <td>10.00000</td>\n",
              "      <td>1.146670e+05</td>\n",
              "      <td>36927.000000</td>\n",
              "      <td>0.000000</td>\n",
              "      <td>0.000000</td>\n",
              "      <td>47.000000</td>\n",
              "      <td>0.0000</td>\n",
              "      <td>0.000000</td>\n",
              "      <td>2.000000</td>\n",
              "      <td>4.000000</td>\n",
              "      <td>6.000000</td>\n",
              "      <td>10.000000</td>\n",
              "      <td>0.0</td>\n",
              "      <td>0.0000</td>\n",
              "      <td>3.000000</td>\n",
              "      <td>19500.000000</td>\n",
              "      <td>11.000000</td>\n",
              "      <td>7.000000</td>\n",
              "      <td>5.000000</td>\n",
              "      <td>1.000000</td>\n",
              "      <td>100.000000</td>\n",
              "      <td>0.000000</td>\n",
              "      <td>0.000000</td>\n",
              "      <td>14500.000000</td>\n",
              "      <td>36.000000</td>\n",
              "      <td>11.980000</td>\n",
              "      <td>398.420000</td>\n",
              "      <td>12379.495000</td>\n",
              "      <td>1563.300000</td>\n",
              "      <td>984.990000</td>\n",
              "      <td>446.140000</td>\n",
              "      <td>0.000000</td>\n",
              "    </tr>\n",
              "    <tr>\n",
              "      <th>75%</th>\n",
              "      <td>10.000000</td>\n",
              "      <td>9.500000e+04</td>\n",
              "      <td>25.002500</td>\n",
              "      <td>1.515455e+05</td>\n",
              "      <td>25.500000</td>\n",
              "      <td>0.00000</td>\n",
              "      <td>53.000000</td>\n",
              "      <td>2006.00000</td>\n",
              "      <td>3.00000</td>\n",
              "      <td>29.000000</td>\n",
              "      <td>14.00000</td>\n",
              "      <td>2.675500e+05</td>\n",
              "      <td>65421.000000</td>\n",
              "      <td>0.000000</td>\n",
              "      <td>0.000000</td>\n",
              "      <td>63.000000</td>\n",
              "      <td>0.0000</td>\n",
              "      <td>0.000000</td>\n",
              "      <td>3.000000</td>\n",
              "      <td>6.000000</td>\n",
              "      <td>11.000000</td>\n",
              "      <td>14.000000</td>\n",
              "      <td>0.0</td>\n",
              "      <td>0.0000</td>\n",
              "      <td>5.000000</td>\n",
              "      <td>36100.000000</td>\n",
              "      <td>17.000000</td>\n",
              "      <td>10.000000</td>\n",
              "      <td>7.000000</td>\n",
              "      <td>2.000000</td>\n",
              "      <td>100.000000</td>\n",
              "      <td>0.000000</td>\n",
              "      <td>0.000000</td>\n",
              "      <td>24000.000000</td>\n",
              "      <td>60.000000</td>\n",
              "      <td>15.050000</td>\n",
              "      <td>644.690000</td>\n",
              "      <td>20690.182500</td>\n",
              "      <td>2616.005000</td>\n",
              "      <td>1694.555000</td>\n",
              "      <td>825.420000</td>\n",
              "      <td>0.000000</td>\n",
              "    </tr>\n",
              "    <tr>\n",
              "      <th>max</th>\n",
              "      <td>10.000000</td>\n",
              "      <td>2.300000e+06</td>\n",
              "      <td>469.090000</td>\n",
              "      <td>1.100000e+06</td>\n",
              "      <td>39.980000</td>\n",
              "      <td>13.00000</td>\n",
              "      <td>118.000000</td>\n",
              "      <td>2015.00000</td>\n",
              "      <td>29.00000</td>\n",
              "      <td>87.000000</td>\n",
              "      <td>51.00000</td>\n",
              "      <td>3.386034e+06</td>\n",
              "      <td>942456.000000</td>\n",
              "      <td>3.000000</td>\n",
              "      <td>52.000000</td>\n",
              "      <td>128.000000</td>\n",
              "      <td>1.0000</td>\n",
              "      <td>199308.000000</td>\n",
              "      <td>35.000000</td>\n",
              "      <td>29.000000</td>\n",
              "      <td>24.000000</td>\n",
              "      <td>51.000000</td>\n",
              "      <td>0.0</td>\n",
              "      <td>1.0000</td>\n",
              "      <td>32.000000</td>\n",
              "      <td>386700.000000</td>\n",
              "      <td>66.000000</td>\n",
              "      <td>46.000000</td>\n",
              "      <td>43.000000</td>\n",
              "      <td>14.000000</td>\n",
              "      <td>100.000000</td>\n",
              "      <td>52.000000</td>\n",
              "      <td>3.000000</td>\n",
              "      <td>40000.000000</td>\n",
              "      <td>60.000000</td>\n",
              "      <td>30.940000</td>\n",
              "      <td>1566.590000</td>\n",
              "      <td>40000.000000</td>\n",
              "      <td>41630.443684</td>\n",
              "      <td>40000.000000</td>\n",
              "      <td>4216.440000</td>\n",
              "      <td>52.980000</td>\n",
              "    </tr>\n",
              "  </tbody>\n",
              "</table>\n",
              "</div>\n",
              "      <button class=\"colab-df-convert\" onclick=\"convertToInteractive('df-859a515b-6b29-47dd-86da-7b822ab81ab5')\"\n",
              "              title=\"Convert this dataframe to an interactive table.\"\n",
              "              style=\"display:none;\">\n",
              "        \n",
              "  <svg xmlns=\"http://www.w3.org/2000/svg\" height=\"24px\"viewBox=\"0 0 24 24\"\n",
              "       width=\"24px\">\n",
              "    <path d=\"M0 0h24v24H0V0z\" fill=\"none\"/>\n",
              "    <path d=\"M18.56 5.44l.94 2.06.94-2.06 2.06-.94-2.06-.94-.94-2.06-.94 2.06-2.06.94zm-11 1L8.5 8.5l.94-2.06 2.06-.94-2.06-.94L8.5 2.5l-.94 2.06-2.06.94zm10 10l.94 2.06.94-2.06 2.06-.94-2.06-.94-.94-2.06-.94 2.06-2.06.94z\"/><path d=\"M17.41 7.96l-1.37-1.37c-.4-.4-.92-.59-1.43-.59-.52 0-1.04.2-1.43.59L10.3 9.45l-7.72 7.72c-.78.78-.78 2.05 0 2.83L4 21.41c.39.39.9.59 1.41.59.51 0 1.02-.2 1.41-.59l7.78-7.78 2.81-2.81c.8-.78.8-2.07 0-2.86zM5.41 20L4 18.59l7.72-7.72 1.47 1.35L5.41 20z\"/>\n",
              "  </svg>\n",
              "      </button>\n",
              "      \n",
              "  <style>\n",
              "    .colab-df-container {\n",
              "      display:flex;\n",
              "      flex-wrap:wrap;\n",
              "      gap: 12px;\n",
              "    }\n",
              "\n",
              "    .colab-df-convert {\n",
              "      background-color: #E8F0FE;\n",
              "      border: none;\n",
              "      border-radius: 50%;\n",
              "      cursor: pointer;\n",
              "      display: none;\n",
              "      fill: #1967D2;\n",
              "      height: 32px;\n",
              "      padding: 0 0 0 0;\n",
              "      width: 32px;\n",
              "    }\n",
              "\n",
              "    .colab-df-convert:hover {\n",
              "      background-color: #E2EBFA;\n",
              "      box-shadow: 0px 1px 2px rgba(60, 64, 67, 0.3), 0px 1px 3px 1px rgba(60, 64, 67, 0.15);\n",
              "      fill: #174EA6;\n",
              "    }\n",
              "\n",
              "    [theme=dark] .colab-df-convert {\n",
              "      background-color: #3B4455;\n",
              "      fill: #D2E3FC;\n",
              "    }\n",
              "\n",
              "    [theme=dark] .colab-df-convert:hover {\n",
              "      background-color: #434B5C;\n",
              "      box-shadow: 0px 1px 3px 1px rgba(0, 0, 0, 0.15);\n",
              "      filter: drop-shadow(0px 1px 2px rgba(0, 0, 0, 0.3));\n",
              "      fill: #FFFFFF;\n",
              "    }\n",
              "  </style>\n",
              "\n",
              "      <script>\n",
              "        const buttonEl =\n",
              "          document.querySelector('#df-859a515b-6b29-47dd-86da-7b822ab81ab5 button.colab-df-convert');\n",
              "        buttonEl.style.display =\n",
              "          google.colab.kernel.accessAllowed ? 'block' : 'none';\n",
              "\n",
              "        async function convertToInteractive(key) {\n",
              "          const element = document.querySelector('#df-859a515b-6b29-47dd-86da-7b822ab81ab5');\n",
              "          const dataTable =\n",
              "            await google.colab.kernel.invokeFunction('convertToInteractive',\n",
              "                                                     [key], {});\n",
              "          if (!dataTable) return;\n",
              "\n",
              "          const docLinkHtml = 'Like what you see? Visit the ' +\n",
              "            '<a target=\"_blank\" href=https://colab.research.google.com/notebooks/data_table.ipynb>data table notebook</a>'\n",
              "            + ' to learn more about interactive tables.';\n",
              "          element.innerHTML = '';\n",
              "          dataTable['output_type'] = 'display_data';\n",
              "          await google.colab.output.renderOutput(dataTable, element);\n",
              "          const docLink = document.createElement('div');\n",
              "          docLink.innerHTML = docLinkHtml;\n",
              "          element.appendChild(docLink);\n",
              "        }\n",
              "      </script>\n",
              "    </div>\n",
              "  </div>\n",
              "  "
            ]
          },
          "metadata": {},
          "execution_count": 185
        }
      ],
      "source": [
        "# Numerical values\n",
        "df.describe()"
      ]
    },
    {
      "cell_type": "markdown",
      "metadata": {
        "id": "sNy6VHdK_6Vm"
      },
      "source": [
        "## **Null Values Handling**"
      ]
    },
    {
      "cell_type": "code",
      "execution_count": 186,
      "metadata": {
        "colab": {
          "base_uri": "https://localhost:8080/"
        },
        "id": "32liEV5WAR5A",
        "outputId": "5570adb9-6548-46cb-f07e-15b3308d8416"
      },
      "outputs": [
        {
          "output_type": "execute_result",
          "data": {
            "text/plain": [
              "True"
            ]
          },
          "metadata": {},
          "execution_count": 186
        }
      ],
      "source": [
        "# Check if there are any empty cells in the dataset\n",
        "df.isnull().values.any()"
      ]
    },
    {
      "cell_type": "code",
      "execution_count": 187,
      "metadata": {
        "id": "1SedaifTtq8b"
      },
      "outputs": [],
      "source": [
        "def plot_null_values(df):\n",
        "  if df.isnull().sum().sum() != 0:\n",
        "    na_df = (df.isnull().sum() / len(df)) * 100\n",
        "    na_df = na_df.drop(na_df[na_df == 0].index).sort_values(ascending=False)\n",
        "    missing_data = pd.DataFrame({'Missing Ratio %' :na_df})\n",
        "    missing_data.plot(kind = \"barh\")\n",
        "    plt.show()\n",
        "  else:\n",
        "    print('No NAs found')\n",
        "  return"
      ]
    },
    {
      "cell_type": "code",
      "execution_count": 188,
      "metadata": {
        "colab": {
          "base_uri": "https://localhost:8080/",
          "height": 265
        },
        "id": "9ocLIw5HugBd",
        "outputId": "8ec1b86c-0ca3-4107-e46d-20b472c70f6d"
      },
      "outputs": [
        {
          "output_type": "display_data",
          "data": {
            "text/plain": [
              "<Figure size 432x288 with 1 Axes>"
            ],
            "image/png": "[encoded data removed]"
          },
          "metadata": {
            "needs_background": "light"
          }
        }
      ],
      "source": [
        "plot_null_values(df)"
      ]
    },
    {
      "cell_type": "markdown",
      "metadata": {
        "id": "gjxn_lTvu-8z"
      },
      "source": [
        "Null values add bias into the analysis if they are not handled properly and also can affect the performance of a machine learning model. Many machine learning algorithms cannot handle null values and will fail or produce inaccurate results. Removing null values can help ensure that the machine learning model is trained on a clean, consistent dataset. "
      ]
    },
    {
      "cell_type": "code",
      "source": [
        "for column in df.columns:\n",
        "  if df[column].isna().sum() != 0 :\n",
        "    missing = df[column].isna().sum()\n",
        "    portion = (missing / df.shape[0]) * 100\n",
        "    print(f\"'{column}': number of missing values '{missing}' ==> '{portion:.3f}%'\")"
      ],
      "metadata": {
        "colab": {
          "base_uri": "https://localhost:8080/"
        },
        "id": "uNBrVdpj2cgT",
        "outputId": "207c3139-a9b6-4a43-da6a-c8df3cf761b9"
      },
      "execution_count": 189,
      "outputs": [
        {
          "output_type": "stream",
          "name": "stdout",
          "text": [
            "'emp_title': number of missing values '833' ==> '8.330%'\n",
            "'emp_length': number of missing values '817' ==> '8.170%'\n",
            "'debt_to_income': number of missing values '24' ==> '0.240%'\n",
            "'annual_income_joint': number of missing values '8505' ==> '85.050%'\n",
            "'verification_income_joint': number of missing values '8545' ==> '85.450%'\n",
            "'debt_to_income_joint': number of missing values '8505' ==> '85.050%'\n",
            "'months_since_last_delinq': number of missing values '5658' ==> '56.580%'\n",
            "'months_since_90d_late': number of missing values '7715' ==> '77.150%'\n",
            "'months_since_last_credit_inquiry': number of missing values '1271' ==> '12.710%'\n",
            "'num_accounts_120d_past_due': number of missing values '318' ==> '3.180%'\n"
          ]
        }
      ]
    },
    {
      "cell_type": "markdown",
      "source": [
        "* `emp_title` : "
      ],
      "metadata": {
        "id": "GjTyOqfA3jMt"
      }
    },
    {
      "cell_type": "code",
      "source": [
        "df.emp_title.nunique()"
      ],
      "metadata": {
        "colab": {
          "base_uri": "https://localhost:8080/"
        },
        "id": "EQztbtiX20xS",
        "outputId": "d9163018-2b2d-4454-eb6e-136781eded44"
      },
      "execution_count": 190,
      "outputs": [
        {
          "output_type": "execute_result",
          "data": {
            "text/plain": [
              "4741"
            ]
          },
          "metadata": {},
          "execution_count": 190
        }
      ]
    },
    {
      "cell_type": "markdown",
      "source": [
        "Realistically there are **too many unique** job titles to try to convert this to a dummy variable feature. We will remove the `emp_title` column."
      ],
      "metadata": {
        "id": "0LhBe4C7256-"
      }
    },
    {
      "cell_type": "code",
      "source": [
        "df.drop(columns=['emp_title'], inplace=True)"
      ],
      "metadata": {
        "id": "W_0Os3_N2_ho"
      },
      "execution_count": 191,
      "outputs": []
    },
    {
      "cell_type": "markdown",
      "source": [
        "* `emp_length` : "
      ],
      "metadata": {
        "id": "VW0mFRnh3olL"
      }
    },
    {
      "cell_type": "code",
      "source": [
        "df.emp_length.unique()"
      ],
      "metadata": {
        "colab": {
          "base_uri": "https://localhost:8080/"
        },
        "id": "JPxuFwxp3rPi",
        "outputId": "1f2725a1-e042-4d07-b4a9-139aa490cb79"
      },
      "execution_count": 192,
      "outputs": [
        {
          "output_type": "execute_result",
          "data": {
            "text/plain": [
              "array([ 3., 10.,  1., nan,  2.,  5.,  7.,  4.,  9.,  0.,  6.,  8.])"
            ]
          },
          "metadata": {},
          "execution_count": 192
        }
      ]
    },
    {
      "cell_type": "code",
      "source": [
        "for year in df.emp_length.unique():\n",
        "    print(f\"{year} years in this position:\")\n",
        "    print(f\"{df[df.emp_length == year].loan_status.value_counts(normalize=True)}\")\n",
        "    print('==========================================')"
      ],
      "metadata": {
        "colab": {
          "base_uri": "https://localhost:8080/"
        },
        "id": "PS_IeBAO3yB7",
        "outputId": "18dfcb0d-8919-49e3-e255-49ca0bc2f8b3"
      },
      "execution_count": 193,
      "outputs": [
        {
          "output_type": "stream",
          "name": "stdout",
          "text": [
            "3.0 years in this position:\n",
            "Current               0.945476\n",
            "Fully Paid            0.040603\n",
            "Late (31-120 days)    0.008121\n",
            "Late (16-30 days)     0.004640\n",
            "In Grace Period       0.001160\n",
            "Name: loan_status, dtype: float64\n",
            "==========================================\n",
            "10.0 years in this position:\n",
            "Current               0.935774\n",
            "Fully Paid            0.047119\n",
            "In Grace Period       0.007803\n",
            "Late (31-120 days)    0.005402\n",
            "Late (16-30 days)     0.003601\n",
            "Charged Off           0.000300\n",
            "Name: loan_status, dtype: float64\n",
            "==========================================\n",
            "1.0 years in this position:\n",
            "Current               0.921168\n",
            "Fully Paid            0.058394\n",
            "Late (31-120 days)    0.008759\n",
            "In Grace Period       0.007299\n",
            "Late (16-30 days)     0.002920\n",
            "Charged Off           0.001460\n",
            "Name: loan_status, dtype: float64\n",
            "==========================================\n",
            "nan years in this position:\n",
            "Series([], Name: loan_status, dtype: float64)\n",
            "==========================================\n",
            "2.0 years in this position:\n",
            "Current               0.938987\n",
            "Fully Paid            0.035160\n",
            "In Grace Period       0.012410\n",
            "Late (16-30 days)     0.007239\n",
            "Late (31-120 days)    0.006205\n",
            "Name: loan_status, dtype: float64\n",
            "==========================================\n",
            "5.0 years in this position:\n",
            "Current               0.951938\n",
            "Fully Paid            0.032558\n",
            "Late (31-120 days)    0.006202\n",
            "In Grace Period       0.006202\n",
            "Charged Off           0.001550\n",
            "Late (16-30 days)     0.001550\n",
            "Name: loan_status, dtype: float64\n",
            "==========================================\n",
            "7.0 years in this position:\n",
            "Current               0.921196\n",
            "Fully Paid            0.057065\n",
            "Late (31-120 days)    0.008152\n",
            "In Grace Period       0.008152\n",
            "Charged Off           0.002717\n",
            "Late (16-30 days)     0.002717\n",
            "Name: loan_status, dtype: float64\n",
            "==========================================\n",
            "4.0 years in this position:\n",
            "Current               0.936170\n",
            "Fully Paid            0.050736\n",
            "In Grace Period       0.006547\n",
            "Late (16-30 days)     0.003273\n",
            "Late (31-120 days)    0.001637\n",
            "Charged Off           0.001637\n",
            "Name: loan_status, dtype: float64\n",
            "==========================================\n",
            "9.0 years in this position:\n",
            "Current               0.932692\n",
            "Fully Paid            0.044872\n",
            "Late (31-120 days)    0.009615\n",
            "In Grace Period       0.006410\n",
            "Charged Off           0.003205\n",
            "Late (16-30 days)     0.003205\n",
            "Name: loan_status, dtype: float64\n",
            "==========================================\n",
            "0.0 years in this position:\n",
            "Current               0.928986\n",
            "Fully Paid            0.053623\n",
            "Late (31-120 days)    0.007246\n",
            "Late (16-30 days)     0.007246\n",
            "In Grace Period       0.002899\n",
            "Name: loan_status, dtype: float64\n",
            "==========================================\n",
            "6.0 years in this position:\n",
            "Current               0.950495\n",
            "Fully Paid            0.044554\n",
            "Late (16-30 days)     0.002475\n",
            "Late (31-120 days)    0.002475\n",
            "Name: loan_status, dtype: float64\n",
            "==========================================\n",
            "8.0 years in this position:\n",
            "Current               0.931596\n",
            "Fully Paid            0.039088\n",
            "Late (31-120 days)    0.016287\n",
            "In Grace Period       0.013029\n",
            "Name: loan_status, dtype: float64\n",
            "==========================================\n"
          ]
        }
      ]
    },
    {
      "cell_type": "markdown",
      "source": [
        "Rates are extremely similar across all employment lengths. So we are going to drop the `emp_length` column."
      ],
      "metadata": {
        "id": "RmWr1bhi4G8V"
      }
    },
    {
      "cell_type": "code",
      "source": [
        "df.drop(columns=['emp_length'], inplace=True)"
      ],
      "metadata": {
        "id": "eIts82fP4JV_"
      },
      "execution_count": 194,
      "outputs": []
    },
    {
      "cell_type": "markdown",
      "source": [
        "* `debt_to_income` :"
      ],
      "metadata": {
        "id": "fhwQyhhg4TnB"
      }
    },
    {
      "cell_type": "code",
      "source": [
        "df.debt_to_income.value_counts().head()"
      ],
      "metadata": {
        "colab": {
          "base_uri": "https://localhost:8080/"
        },
        "id": "eVxPg-Mi4Yd7",
        "outputId": "8f73e88e-5aa4-4d55-d377-fcdc56ab30b0"
      },
      "execution_count": 195,
      "outputs": [
        {
          "output_type": "execute_result",
          "data": {
            "text/plain": [
              "0.00     28\n",
              "16.11    14\n",
              "13.20    12\n",
              "19.42    12\n",
              "20.66    12\n",
              "Name: debt_to_income, dtype: int64"
            ]
          },
          "metadata": {},
          "execution_count": 195
        }
      ]
    },
    {
      "cell_type": "markdown",
      "source": [
        "The null value ration of `debt_to_income` is very small, so we replace the null values with the mean value of this column."
      ],
      "metadata": {
        "id": "MiU1sDtY4yMY"
      }
    },
    {
      "cell_type": "code",
      "source": [
        "df['debt_to_income'].fillna(df['debt_to_income'].mean(), inplace=True)"
      ],
      "metadata": {
        "id": "RgFMiT5u43YJ"
      },
      "execution_count": 196,
      "outputs": []
    },
    {
      "cell_type": "markdown",
      "source": [
        "* `annual_income_joint` , `debt_to_income_joint`, `verification_income_joint`"
      ],
      "metadata": {
        "id": "fwpY3xEf5BU8"
      }
    },
    {
      "cell_type": "markdown",
      "source": [
        "The fact that there are too many null values refer to no joint. We are going to drop these columns. "
      ],
      "metadata": {
        "id": "E2d80aXK5RLX"
      }
    },
    {
      "cell_type": "code",
      "source": [
        "df.drop(columns=['annual_income_joint', 'debt_to_income_joint', 'verification_income_joint'], inplace=True)"
      ],
      "metadata": {
        "id": "t3udNESF5iOf"
      },
      "execution_count": 197,
      "outputs": []
    },
    {
      "cell_type": "markdown",
      "source": [
        "* `months_since_last_delinq` : "
      ],
      "metadata": {
        "id": "P9tCVF-b5s9v"
      }
    },
    {
      "cell_type": "code",
      "source": [
        "df.months_since_last_delinq.value_counts().head()"
      ],
      "metadata": {
        "colab": {
          "base_uri": "https://localhost:8080/"
        },
        "id": "6P1c8zu66G_-",
        "outputId": "96244fc4-c7e8-4a4f-b9c7-459d9d92e642"
      },
      "execution_count": 198,
      "outputs": [
        {
          "output_type": "execute_result",
          "data": {
            "text/plain": [
              "25.0    87\n",
              "9.0     86\n",
              "24.0    85\n",
              "36.0    83\n",
              "12.0    83\n",
              "Name: months_since_last_delinq, dtype: int64"
            ]
          },
          "metadata": {},
          "execution_count": 198
        }
      ]
    },
    {
      "cell_type": "markdown",
      "source": [
        "The null value ratio of `months_since_last_delinq` is somehow large. The null values refer to the fact the there was never an delinquency. So we could set a very big number or a number bigger than the maximum value of this column, so as to not confuse the model by setting the zero value. "
      ],
      "metadata": {
        "id": "gJy8rn__BWGj"
      }
    },
    {
      "cell_type": "code",
      "source": [
        "df['months_since_last_delinq'].fillna(df['months_since_last_delinq'].max() + 24, inplace=True)"
      ],
      "metadata": {
        "id": "Fa_LX5brBfNm"
      },
      "execution_count": 199,
      "outputs": []
    },
    {
      "cell_type": "markdown",
      "source": [
        "* `months_since_90d_late` :"
      ],
      "metadata": {
        "id": "5_gdeGDn559e"
      }
    },
    {
      "cell_type": "code",
      "source": [
        "df.months_since_90d_late.value_counts().head(10)"
      ],
      "metadata": {
        "colab": {
          "base_uri": "https://localhost:8080/"
        },
        "id": "5BT6sDIE87p2",
        "outputId": "530428b5-dda4-458f-e716-dd83402aa9f6"
      },
      "execution_count": 200,
      "outputs": [
        {
          "output_type": "execute_result",
          "data": {
            "text/plain": [
              "34.0    48\n",
              "45.0    45\n",
              "60.0    44\n",
              "72.0    43\n",
              "67.0    43\n",
              "49.0    42\n",
              "50.0    41\n",
              "48.0    41\n",
              "37.0    39\n",
              "33.0    38\n",
              "Name: months_since_90d_late, dtype: int64"
            ]
          },
          "metadata": {},
          "execution_count": 200
        }
      ]
    },
    {
      "cell_type": "markdown",
      "source": [
        "There are too many null values, so we are going to drop the `months_since_90d_late` column."
      ],
      "metadata": {
        "id": "usTX8jdN9tCn"
      }
    },
    {
      "cell_type": "code",
      "source": [
        "df.drop(columns=['months_since_90d_late'], inplace=True)"
      ],
      "metadata": {
        "id": "6cz3Egnz97iC"
      },
      "execution_count": 201,
      "outputs": []
    },
    {
      "cell_type": "markdown",
      "source": [
        "* `months_since_last_credit_inquiry` :"
      ],
      "metadata": {
        "id": "lNuu7wLR5-JP"
      }
    },
    {
      "cell_type": "code",
      "source": [
        "df.months_since_last_credit_inquiry.value_counts().head(10)"
      ],
      "metadata": {
        "colab": {
          "base_uri": "https://localhost:8080/"
        },
        "id": "jN80ZraA88Au",
        "outputId": "1302f094-a0df-46ff-eb26-c60b26d8b3d3"
      },
      "execution_count": 202,
      "outputs": [
        {
          "output_type": "execute_result",
          "data": {
            "text/plain": [
              "1.0    796\n",
              "2.0    740\n",
              "0.0    693\n",
              "3.0    663\n",
              "4.0    651\n",
              "5.0    576\n",
              "6.0    554\n",
              "7.0    510\n",
              "8.0    473\n",
              "9.0    385\n",
              "Name: months_since_last_credit_inquiry, dtype: int64"
            ]
          },
          "metadata": {},
          "execution_count": 202
        }
      ]
    },
    {
      "cell_type": "markdown",
      "source": [
        "The null value ratio of `months_since_last_credit_inquiry` is **not large**. It wouldn't be a good idea to drop the column. The null values refer to the fact the there was never an inquiry. So we could set a very big number or a number bigger than the maximum value of this column, so as to not confuse the model by setting the zero value. "
      ],
      "metadata": {
        "id": "DaCDWcFoAqcJ"
      }
    },
    {
      "cell_type": "code",
      "source": [
        "df['months_since_last_credit_inquiry'].fillna(df['months_since_last_credit_inquiry'].max() + 24, inplace=True)"
      ],
      "metadata": {
        "id": "fTxarAdFBA0L"
      },
      "execution_count": 203,
      "outputs": []
    },
    {
      "cell_type": "markdown",
      "source": [
        "* `num_accounts_120d_past_due` : "
      ],
      "metadata": {
        "id": "lr0XnoMg6DWg"
      }
    },
    {
      "cell_type": "code",
      "source": [
        "df.num_accounts_120d_past_due.value_counts().head()"
      ],
      "metadata": {
        "colab": {
          "base_uri": "https://localhost:8080/"
        },
        "id": "SyT3jSje88bC",
        "outputId": "db0b6b1b-231c-45bf-9f17-175034e83778"
      },
      "execution_count": 204,
      "outputs": [
        {
          "output_type": "execute_result",
          "data": {
            "text/plain": [
              "0.0    9682\n",
              "Name: num_accounts_120d_past_due, dtype: int64"
            ]
          },
          "metadata": {},
          "execution_count": 204
        }
      ]
    },
    {
      "cell_type": "markdown",
      "source": [
        "All values are zero values, so we will drop the `num_accounts_120d_past_due` column."
      ],
      "metadata": {
        "id": "s1K6oVA89EIh"
      }
    },
    {
      "cell_type": "code",
      "source": [
        "df.drop(columns=['num_accounts_120d_past_due'], inplace=True)"
      ],
      "metadata": {
        "id": "szZLI-119Plx"
      },
      "execution_count": 205,
      "outputs": []
    },
    {
      "cell_type": "markdown",
      "metadata": {
        "id": "cK-NBAAuNwWR"
      },
      "source": [
        "Let's check for null values again"
      ]
    },
    {
      "cell_type": "code",
      "execution_count": 176,
      "metadata": {
        "colab": {
          "base_uri": "https://localhost:8080/"
        },
        "id": "vVTY8ScANz3P",
        "outputId": "6c3b18f8-50ee-4f10-d8ab-93a9cefc4c86"
      },
      "outputs": [
        {
          "output_type": "execute_result",
          "data": {
            "text/plain": [
              "False"
            ]
          },
          "metadata": {},
          "execution_count": 176
        }
      ],
      "source": [
        "df.isnull().values.any()"
      ]
    },
    {
      "cell_type": "markdown",
      "source": [
        "## **Visualizations**\n",
        "\n",
        "The Visualizations can give us an understanding for which variables are important. "
      ],
      "metadata": {
        "id": "ddB4YaXUvjvp"
      }
    },
    {
      "cell_type": "markdown",
      "source": [
        "* `Histogram of the distribution of loan amounts`\n",
        "\n",
        "This visualization shows the frequency of different loan amounts. The histogram uses a set of bins to group the loan amounts into intervals, and the height of each bar represents the frequency of loans with loan amounts within that interval. We can see that the majority of loans have loan amounts between \\$ 5,000 and \\$ 25,000, with a smaller number of loans having loan amounts below \\$ 5,000 or above \\$ 25,000.\n"
      ],
      "metadata": {
        "id": "sG-KKGKFxBhO"
      }
    },
    {
      "cell_type": "code",
      "source": [
        "plt.figure(figsize = [12, 5])\n",
        "df['loan_amount'].plot(kind='hist', bins=20)\n",
        "plt.title('Distribution of Loan Amounts')\n",
        "plt.xlabel('Loan Amount')\n",
        "plt.ylabel('Frequency')\n",
        "plt.show()"
      ],
      "metadata": {
        "colab": {
          "base_uri": "https://localhost:8080/",
          "height": 350
        },
        "id": "AAgr6TYuw3UD",
        "outputId": "2fb56184-1607-40a5-edd2-c888238460f7"
      },
      "execution_count": 225,
      "outputs": [
        {
          "output_type": "display_data",
          "data": {
            "text/plain": [
              "<Figure size 864x360 with 1 Axes>"
            ],
            "image/png": "[encoded data removed]"
          },
          "metadata": {
            "needs_background": "light"
          }
        }
      ]
    },
    {
      "cell_type": "markdown",
      "source": [
        "* `Histogram of the distribution of interest rate`\n",
        "\n",
        "This visualization shows the frequency of different values of the interest rate. The histogram uses a set of bins to group the interest rates into intervals, and the height of each bar represents the frequency of loans with interest rates within that interval. We can see that the majority of loans have interest rates between 5% and 15%, with a small number of loans having interest rates above 15%. The shape of the distribution suggests that the interest rates are skewed to the left, with a longer tail of higher interest rates. This may indicate that a relatively small number of loans have significantly higher interest rates compared to the rest of the loans in the dataset."
      ],
      "metadata": {
        "id": "AbQ920gGxQsV"
      }
    },
    {
      "cell_type": "code",
      "execution_count": 224,
      "metadata": {
        "colab": {
          "base_uri": "https://localhost:8080/",
          "height": 350
        },
        "id": "a9ESBn4_xZiG",
        "outputId": "aef2140e-8f96-4ca7-a1d8-d1342665c988"
      },
      "outputs": [
        {
          "output_type": "display_data",
          "data": {
            "text/plain": [
              "<Figure size 864x360 with 1 Axes>"
            ],
            "image/png": "[encoded data removed]"
          },
          "metadata": {
            "needs_background": "light"
          }
        }
      ],
      "source": [
        "plt.figure(figsize = [12, 5])\n",
        "df['interest_rate'].plot(kind='hist', bins=20)\n",
        "plt.title('Interest Rate Distribution (%)')\n",
        "plt.xlabel('Interest Rate Percentage (%)')\n",
        "plt.ylabel('Count')\n",
        "plt.show()"
      ]
    },
    {
      "cell_type": "markdown",
      "metadata": {
        "id": "wjpEhf6T1wbL"
      },
      "source": [
        "* `Boxplot of the distribution of interest rate by loan status`\n",
        "\n",
        "The boxplot shows the distribution of interest rates for loans in different loan statuses. The boxplot uses the median, first and third quartiles, and minimum and maximum values to summarize the distribution of interest rates for each loan status. We can see that the distribution of interest rates is generally higher for loans that are in the grace period or late compared to loans that are current, fully paid, or have been charged off. This suggests that borrowers with loans in the grace period or late may be more likely to pay higher interest rates compared to borrowers with loans in other statuses. "
      ]
    },
    {
      "cell_type": "code",
      "execution_count": 226,
      "metadata": {
        "colab": {
          "base_uri": "https://localhost:8080/",
          "height": 391
        },
        "id": "xs9jbd8C2L4x",
        "outputId": "445e459f-b14c-48f2-9423-526000731196"
      },
      "outputs": [
        {
          "output_type": "execute_result",
          "data": {
            "text/plain": [
              "(array([0, 1, 2, 3, 4, 5]), <a list of 6 Text major ticklabel objects>)"
            ]
          },
          "metadata": {},
          "execution_count": 226
        },
        {
          "output_type": "display_data",
          "data": {
            "text/plain": [
              "<Figure size 864x360 with 1 Axes>"
            ],
            "image/png": "[encoded data removed]"
          },
          "metadata": {
            "needs_background": "light"
          }
        }
      ],
      "source": [
        "plt.figure(figsize = [12, 5])\n",
        "sns.boxplot(data=df,y='interest_rate',x='loan_status')\n",
        "plt.title('Interest Rate & Loan Status')\n",
        "plt.ylabel('Interest Rate')\n",
        "plt.xlabel('Loan Status')\n",
        "plt.xticks(rotation=15)"
      ]
    },
    {
      "cell_type": "markdown",
      "metadata": {
        "id": "uIPUtT9Y2zkd"
      },
      "source": [
        "* `Violit plot for the relationship between interest rate and loan purpose`\n",
        "\n",
        "The violin plot shows the relationship between interest rates and loan purposes. The plot uses a kernel density estimate to show the distribution of interest rates for each loan purpose. We can see that the distribution of interest rates is generally higher for loans with the 'small business' and'renewable energy' purposes compared to other loan purposes. We can also see that the distribution of interest rates for loans with the 'home improvement', 'major purchase', and 'other' purposes is relatively wide, indicating that there is a higher degree of variation in the interest rates for these loan purposes. This suggests that there may be other factors that are influencing the interest rates of loans with these purposes, such as the borrower's creditworthiness or the loan terms."
      ]
    },
    {
      "cell_type": "code",
      "execution_count": 80,
      "metadata": {
        "colab": {
          "base_uri": "https://localhost:8080/",
          "height": 388
        },
        "id": "GGJgOrbH3LIQ",
        "outputId": "32384a88-4a63-4405-ef50-5a7f59a10d7d"
      },
      "outputs": [
        {
          "output_type": "execute_result",
          "data": {
            "text/plain": [
              "Text(0, 0.5, 'Interest Rate')"
            ]
          },
          "metadata": {},
          "execution_count": 80
        },
        {
          "output_type": "display_data",
          "data": {
            "text/plain": [
              "<Figure size 1296x360 with 1 Axes>"
            ],
            "image/png": "[encoded data removed]"
          },
          "metadata": {
            "needs_background": "light"
          }
        }
      ],
      "source": [
        "plt.figure(figsize = [18, 5])\n",
        "sns.violinplot(data=df,x='loan_purpose', y='interest_rate')\n",
        "plt.title('Interest Rate for different Loan Purposes')\n",
        "plt.xlabel('Loan Purpose ')\n",
        "plt.ylabel('Interest Rate')"
      ]
    },
    {
      "cell_type": "markdown",
      "source": [
        "* `Pie Chart of the proportion of loans by loan status`.\n",
        "\n",
        "The pie chart shows the proportion of loans by loan status. We can see that the majority of loans are Current loans, followed by Fully Paid loans, and then in Grace Period loans. The pie chart reveals that only a small percentage of loans have been charged off, which suggests that the overall performance of the loans in the dataset is relatively strong. It also shows that the proportion of current loans is relatively high, which may indicate that borrowers are making timely payments on their loans."
      ],
      "metadata": {
        "id": "oqPKTdINvpnf"
      }
    },
    {
      "cell_type": "code",
      "source": [
        "plt.figure(figsize = [18, 10])\n",
        "df['loan_status'].value_counts().plot(kind='pie', autopct='%1.1f%%')\n",
        "plt.title('Proportion of Loans by Loan Status')\n",
        "plt.legend(title='Loan Status')\n",
        "plt.show()"
      ],
      "metadata": {
        "colab": {
          "base_uri": "https://localhost:8080/",
          "height": 591
        },
        "id": "WxTw8E89vXn1",
        "outputId": "e4ac71ee-c75d-4327-9beb-8502fdeadb66"
      },
      "execution_count": 227,
      "outputs": [
        {
          "output_type": "display_data",
          "data": {
            "text/plain": [
              "<Figure size 1296x720 with 1 Axes>"
            ],
            "image/png": "[encoded data removed]"
          },
          "metadata": {}
        }
      ]
    },
    {
      "cell_type": "markdown",
      "metadata": {
        "id": "ajWczacB4JFs"
      },
      "source": [
        "* `Countplot of Homeownership Values`\n",
        "\n",
        "The countplot shows the frequency of loans by homeownership status for the loans. We can see that the majority of borrowers are mortgagees, followed by renters and finally homeowners. The countplot reveals that a relatively small percentage of borrowers are homeowners, which may suggest that homeownership is an important factor for borrowers in this dataset. It also shows that the proportion of renters is relatively high, which may indicate that there is a significant number of borrowers who do not own their own homes."
      ]
    },
    {
      "cell_type": "code",
      "execution_count": 230,
      "metadata": {
        "colab": {
          "base_uri": "https://localhost:8080/",
          "height": 235
        },
        "id": "NhjZruwq4dYy",
        "outputId": "b8428698-9da6-4785-d403-463397daac52"
      },
      "outputs": [
        {
          "output_type": "display_data",
          "data": {
            "text/plain": [
              "<Figure size 1440x504 with 1 Axes>"
            ],
            "image/png": "[encoded data removed]"
          },
          "metadata": {
            "needs_background": "light"
          }
        }
      ],
      "source": [
        "plt.figure(figsize=(20, 7))\n",
        "homeownership = df.homeownership.unique().tolist()\n",
        "plt.subplot(2, 2, 1)\n",
        "sns.countplot(y='homeownership', data=df)\n",
        "plt.grid(False)\n",
        "plt.ylabel(\"Homeownership\")\n",
        "plt.xlabel(\"Count\")\n",
        "plt.show()"
      ]
    },
    {
      "cell_type": "markdown",
      "metadata": {
        "id": "5jS2XXU86rOT"
      },
      "source": [
        "* `Scatterplot for the relationship between loan amount and loan purposes.`\n",
        "\n",
        "The scatterplot shows the relationship between loan amounts and loan purposes. We can see that there are clusters of loans with different loan purposes, and that the loan amounts tend to vary based on the loan purpose. For example, loans with the 'home improvement' and 'major purchase' purposes tend to have higher loan amounts compared to loans with other purposes. We can also see that there is a lot of overlap in the loan amounts for different loan purposes, which suggests that the loan amount may not be the only factor influencing the loan purpose. Other factors, such as the borrower's creditworthiness or the loan terms, may also be important in determining the loan purpose."
      ]
    },
    {
      "cell_type": "code",
      "execution_count": 82,
      "metadata": {
        "colab": {
          "base_uri": "https://localhost:8080/",
          "height": 319
        },
        "id": "GdzHu34P69k0",
        "outputId": "0157e887-7055-42dc-9f5f-960abaa81ecb"
      },
      "outputs": [
        {
          "output_type": "display_data",
          "data": {
            "text/plain": [
              "<Figure size 1080x360 with 1 Axes>"
            ],
            "image/png": "[encoded data removed]"
          },
          "metadata": {
            "needs_background": "light"
          }
        }
      ],
      "source": [
        "plt.figure(figsize = [15, 5])\n",
        "plt.scatter(data = df, x = 'loan_amount', y = 'loan_purpose',  alpha =  0.1)\n",
        "plt.title('Scatter plot for Loan Amount by Purpose')\n",
        "plt.xlabel('Loan Amount')\n",
        "plt.ylabel('Loan Purpose')\n",
        "plt.show()"
      ]
    },
    {
      "cell_type": "markdown",
      "metadata": {
        "id": "L1wMpvXjOZo1"
      },
      "source": [
        "# **Part B: Model Training and Predictions**"
      ]
    },
    {
      "cell_type": "markdown",
      "metadata": {
        "id": "n-WbG7knOh_O"
      },
      "source": [
        "Machine Learning algorithms cannot handle categorical values directly, as they expect input data to be numeric. Therefore, we have to encode the categorical values in the dataset as numeric before applying a Machine Learning algorithm. In this way, we can include the categorical data in the models and make use of the information contained in the categorical values to make predictions or classify data. \\\\\n",
        "\n",
        "We will use Ordinal Encoding. It is important to note that this encoder does not create a new column for each category. This means that it does not create new features for each category."
      ]
    },
    {
      "cell_type": "code",
      "source": [
        "df.info()"
      ],
      "metadata": {
        "colab": {
          "base_uri": "https://localhost:8080/"
        },
        "id": "qgk7X3rPLT9S",
        "outputId": "94d21998-1e50-4677-d6ec-b53d18e949b2"
      },
      "execution_count": 83,
      "outputs": [
        {
          "output_type": "stream",
          "name": "stdout",
          "text": [
            "<class 'pandas.core.frame.DataFrame'>\n",
            "RangeIndex: 10000 entries, 0 to 9999\n",
            "Data columns (total 48 columns):\n",
            " #   Column                            Non-Null Count  Dtype  \n",
            "---  ------                            --------------  -----  \n",
            " 0   state                             10000 non-null  object \n",
            " 1   homeownership                     10000 non-null  object \n",
            " 2   annual_income                     10000 non-null  float64\n",
            " 3   verified_income                   10000 non-null  object \n",
            " 4   debt_to_income                    10000 non-null  float64\n",
            " 5   delinq_2y                         10000 non-null  int64  \n",
            " 6   months_since_last_delinq          10000 non-null  float64\n",
            " 7   earliest_credit_line              10000 non-null  int64  \n",
            " 8   inquiries_last_12m                10000 non-null  int64  \n",
            " 9   total_credit_lines                10000 non-null  int64  \n",
            " 10  open_credit_lines                 10000 non-null  int64  \n",
            " 11  total_credit_limit                10000 non-null  int64  \n",
            " 12  total_credit_utilized             10000 non-null  int64  \n",
            " 13  num_collections_last_12m          10000 non-null  int64  \n",
            " 14  num_historical_failed_to_pay      10000 non-null  int64  \n",
            " 15  current_accounts_delinq           10000 non-null  int64  \n",
            " 16  total_collection_amount_ever      10000 non-null  int64  \n",
            " 17  current_installment_accounts      10000 non-null  int64  \n",
            " 18  accounts_opened_24m               10000 non-null  int64  \n",
            " 19  months_since_last_credit_inquiry  10000 non-null  float64\n",
            " 20  num_satisfactory_accounts         10000 non-null  int64  \n",
            " 21  num_accounts_30d_past_due         10000 non-null  int64  \n",
            " 22  num_active_debit_accounts         10000 non-null  int64  \n",
            " 23  total_debit_limit                 10000 non-null  int64  \n",
            " 24  num_total_cc_accounts             10000 non-null  int64  \n",
            " 25  num_open_cc_accounts              10000 non-null  int64  \n",
            " 26  num_cc_carrying_balance           10000 non-null  int64  \n",
            " 27  num_mort_accounts                 10000 non-null  int64  \n",
            " 28  account_never_delinq_percent      10000 non-null  float64\n",
            " 29  tax_liens                         10000 non-null  int64  \n",
            " 30  public_record_bankrupt            10000 non-null  int64  \n",
            " 31  loan_purpose                      10000 non-null  object \n",
            " 32  application_type                  10000 non-null  object \n",
            " 33  loan_amount                       10000 non-null  int64  \n",
            " 34  term                              10000 non-null  int64  \n",
            " 35  interest_rate                     10000 non-null  float64\n",
            " 36  installment                       10000 non-null  float64\n",
            " 37  grade                             10000 non-null  object \n",
            " 38  sub_grade                         10000 non-null  object \n",
            " 39  issue_month                       10000 non-null  object \n",
            " 40  loan_status                       10000 non-null  object \n",
            " 41  initial_listing_status            10000 non-null  object \n",
            " 42  disbursement_method               10000 non-null  object \n",
            " 43  balance                           10000 non-null  float64\n",
            " 44  paid_total                        10000 non-null  float64\n",
            " 45  paid_principal                    10000 non-null  float64\n",
            " 46  paid_interest                     10000 non-null  float64\n",
            " 47  paid_late_fees                    10000 non-null  float64\n",
            "dtypes: float64(12), int64(25), object(11)\n",
            "memory usage: 3.7+ MB\n"
          ]
        }
      ]
    },
    {
      "cell_type": "markdown",
      "source": [
        "## Encoding"
      ],
      "metadata": {
        "id": "8W1eRg3EWU5J"
      }
    },
    {
      "cell_type": "code",
      "execution_count": 84,
      "metadata": {
        "colab": {
          "base_uri": "https://localhost:8080/"
        },
        "id": "bZqQhlwVZk7r",
        "outputId": "e38578c2-c23e-49be-9c58-c278bb6896e7"
      },
      "outputs": [
        {
          "output_type": "execute_result",
          "data": {
            "text/plain": [
              "['state',\n",
              " 'homeownership',\n",
              " 'verified_income',\n",
              " 'loan_purpose',\n",
              " 'application_type',\n",
              " 'grade',\n",
              " 'sub_grade',\n",
              " 'issue_month',\n",
              " 'loan_status',\n",
              " 'initial_listing_status',\n",
              " 'disbursement_method']"
            ]
          },
          "metadata": {},
          "execution_count": 84
        }
      ],
      "source": [
        "cat_list = []\n",
        "for col in df.columns:\n",
        "  if df[col].dtypes == 'object':\n",
        "    cat_list.append(col)\n",
        "cat_list"
      ]
    },
    {
      "cell_type": "markdown",
      "source": [
        "* `issue_month` : We wouldn't know before whether or not a loan would be issued when using our model, so in theory we wouldn't have an issue_month. This would cause **Data Leakage**. So we are going to drop this column."
      ],
      "metadata": {
        "id": "xUUhUCg3CLZ5"
      }
    },
    {
      "cell_type": "code",
      "source": [
        "df.drop(columns=['issue_month'], inplace=True)"
      ],
      "metadata": {
        "id": "ddhh6BvuDlnY"
      },
      "execution_count": 85,
      "outputs": []
    },
    {
      "cell_type": "markdown",
      "source": [
        "* `grade` and `sub_grade`:\n",
        "\n",
        "`grade` is just a sub-feature of `sub_grade`. So we are goinig to drop its column."
      ],
      "metadata": {
        "id": "F91qT4DYCKl3"
      }
    },
    {
      "cell_type": "code",
      "source": [
        "df.drop(columns=['grade'], inplace=True)"
      ],
      "metadata": {
        "id": "7hvjZ4lECb0n"
      },
      "execution_count": 86,
      "outputs": []
    },
    {
      "cell_type": "markdown",
      "source": [
        "* For the rest categorical variable, we will apply an encoding method."
      ],
      "metadata": {
        "id": "Zxn-XwdfCw4g"
      }
    },
    {
      "cell_type": "code",
      "execution_count": 87,
      "metadata": {
        "id": "N_Qzu7gqSfYE"
      },
      "outputs": [],
      "source": [
        "cat_list_enc = ['state', 'homeownership', 'verified_income', 'loan_purpose',\n",
        "                'application_type', 'loan_status', 'initial_listing_status',\n",
        "                'disbursement_method', 'sub_grade']\n",
        "encoder = OrdinalEncoder()\n",
        "df[cat_list_enc] = df[cat_list_enc].astype(str)\n",
        "encoder.fit(df[cat_list_enc])\n",
        "df[cat_list_enc] = encoder.transform(df[cat_list_enc])"
      ]
    },
    {
      "cell_type": "markdown",
      "source": [
        "#### Check for duplicates columns and features\n"
      ],
      "metadata": {
        "id": "0xIxx89sECy_"
      }
    },
    {
      "cell_type": "code",
      "source": [
        "print(f\"Dataset size: {df.shape}\")\n",
        "\n",
        "# Remove Duplicate Features\n",
        "df = df.T.drop_duplicates()\n",
        "df = df.T\n",
        "\n",
        "# Remove Duplicate Rows\n",
        "df.drop_duplicates(inplace=True)\n",
        "\n",
        "print(f\"Dataset size: {df.shape}\")"
      ],
      "metadata": {
        "colab": {
          "base_uri": "https://localhost:8080/"
        },
        "id": "74_L6VI3EHwX",
        "outputId": "e60b72e7-4cd2-4324-d421-625dc4194eca"
      },
      "execution_count": 88,
      "outputs": [
        {
          "output_type": "stream",
          "name": "stdout",
          "text": [
            "Dataset size: (10000, 46)\n",
            "Dataset size: (10000, 45)\n"
          ]
        }
      ]
    },
    {
      "cell_type": "code",
      "source": [
        "df.info()"
      ],
      "metadata": {
        "colab": {
          "base_uri": "https://localhost:8080/"
        },
        "id": "m8aeQ_RMH-Hy",
        "outputId": "72431215-3d33-4d58-9ea9-328e27ea42aa"
      },
      "execution_count": 89,
      "outputs": [
        {
          "output_type": "stream",
          "name": "stdout",
          "text": [
            "<class 'pandas.core.frame.DataFrame'>\n",
            "Int64Index: 10000 entries, 0 to 9999\n",
            "Data columns (total 45 columns):\n",
            " #   Column                            Non-Null Count  Dtype  \n",
            "---  ------                            --------------  -----  \n",
            " 0   state                             10000 non-null  float64\n",
            " 1   homeownership                     10000 non-null  float64\n",
            " 2   annual_income                     10000 non-null  float64\n",
            " 3   verified_income                   10000 non-null  float64\n",
            " 4   debt_to_income                    10000 non-null  float64\n",
            " 5   delinq_2y                         10000 non-null  float64\n",
            " 6   months_since_last_delinq          10000 non-null  float64\n",
            " 7   earliest_credit_line              10000 non-null  float64\n",
            " 8   inquiries_last_12m                10000 non-null  float64\n",
            " 9   total_credit_lines                10000 non-null  float64\n",
            " 10  open_credit_lines                 10000 non-null  float64\n",
            " 11  total_credit_limit                10000 non-null  float64\n",
            " 12  total_credit_utilized             10000 non-null  float64\n",
            " 13  num_collections_last_12m          10000 non-null  float64\n",
            " 14  num_historical_failed_to_pay      10000 non-null  float64\n",
            " 15  current_accounts_delinq           10000 non-null  float64\n",
            " 16  total_collection_amount_ever      10000 non-null  float64\n",
            " 17  current_installment_accounts      10000 non-null  float64\n",
            " 18  accounts_opened_24m               10000 non-null  float64\n",
            " 19  months_since_last_credit_inquiry  10000 non-null  float64\n",
            " 20  num_satisfactory_accounts         10000 non-null  float64\n",
            " 21  num_active_debit_accounts         10000 non-null  float64\n",
            " 22  total_debit_limit                 10000 non-null  float64\n",
            " 23  num_total_cc_accounts             10000 non-null  float64\n",
            " 24  num_open_cc_accounts              10000 non-null  float64\n",
            " 25  num_cc_carrying_balance           10000 non-null  float64\n",
            " 26  num_mort_accounts                 10000 non-null  float64\n",
            " 27  account_never_delinq_percent      10000 non-null  float64\n",
            " 28  tax_liens                         10000 non-null  float64\n",
            " 29  public_record_bankrupt            10000 non-null  float64\n",
            " 30  loan_purpose                      10000 non-null  float64\n",
            " 31  application_type                  10000 non-null  float64\n",
            " 32  loan_amount                       10000 non-null  float64\n",
            " 33  term                              10000 non-null  float64\n",
            " 34  interest_rate                     10000 non-null  float64\n",
            " 35  installment                       10000 non-null  float64\n",
            " 36  sub_grade                         10000 non-null  float64\n",
            " 37  loan_status                       10000 non-null  float64\n",
            " 38  initial_listing_status            10000 non-null  float64\n",
            " 39  disbursement_method               10000 non-null  float64\n",
            " 40  balance                           10000 non-null  float64\n",
            " 41  paid_total                        10000 non-null  float64\n",
            " 42  paid_principal                    10000 non-null  float64\n",
            " 43  paid_interest                     10000 non-null  float64\n",
            " 44  paid_late_fees                    10000 non-null  float64\n",
            "dtypes: float64(45)\n",
            "memory usage: 3.5 MB\n"
          ]
        }
      ]
    },
    {
      "cell_type": "markdown",
      "source": [
        "## Correlation with the Target Value"
      ],
      "metadata": {
        "id": "OxCSdH1IWXSw"
      }
    },
    {
      "cell_type": "markdown",
      "metadata": {
        "id": "YgYbut_tUjGZ"
      },
      "source": [
        "After encoding the categorical values, we will check the correlation between the variables and the target value of the dataset. It is an important step in the data exploration and preprocessing process. "
      ]
    },
    {
      "cell_type": "code",
      "execution_count": 90,
      "metadata": {
        "colab": {
          "base_uri": "https://localhost:8080/"
        },
        "id": "taau-vRoWSkJ",
        "outputId": "6da820ef-f06a-4c58-ff7d-d6e9cbfd7dcf"
      },
      "outputs": [
        {
          "output_type": "execute_result",
          "data": {
            "text/plain": [
              "interest_rate                       1.000000\n",
              "sub_grade                           0.992921\n",
              "paid_interest                       0.514508\n",
              "term                                0.358664\n",
              "total_debit_limit                   0.254225\n",
              "verified_income                     0.242954\n",
              "disbursement_method                 0.168792\n",
              "debt_to_income                      0.141393\n",
              "months_since_last_delinq            0.139666\n",
              "num_mort_accounts                   0.138351\n",
              "inquiries_last_12m                  0.131193\n",
              "total_credit_limit                  0.130497\n",
              "account_never_delinq_percent        0.124702\n",
              "months_since_last_credit_inquiry    0.123457\n",
              "accounts_opened_24m                 0.120657\n",
              "loan_status                         0.109067\n",
              "earliest_credit_line                0.103635\n",
              "initial_listing_status              0.100040\n",
              "annual_income                       0.099584\n",
              "installment                         0.098811\n",
              "delinq_2y                           0.090456\n",
              "num_cc_carrying_balance             0.081741\n",
              "homeownership                       0.079634\n",
              "num_total_cc_accounts               0.071238\n",
              "balance                             0.067570\n",
              "paid_total                          0.065339\n",
              "loan_amount                         0.064527\n",
              "application_type                    0.061201\n",
              "public_record_bankrupt              0.047477\n",
              "current_installment_accounts        0.047131\n",
              "total_credit_lines                  0.044435\n",
              "num_historical_failed_to_pay        0.037563\n",
              "total_credit_utilized               0.031527\n",
              "num_collections_last_12m            0.029901\n",
              "num_open_cc_accounts                0.028891\n",
              "num_active_debit_accounts           0.026800\n",
              "paid_late_fees                      0.023110\n",
              "loan_purpose                        0.019974\n",
              "tax_liens                           0.016547\n",
              "total_collection_amount_ever        0.013532\n",
              "num_satisfactory_accounts           0.013330\n",
              "open_credit_lines                   0.012773\n",
              "current_accounts_delinq             0.007184\n",
              "state                               0.002507\n",
              "paid_principal                      0.001953\n",
              "Name: interest_rate, dtype: float64"
            ]
          },
          "metadata": {},
          "execution_count": 90
        }
      ],
      "source": [
        "df.corr().abs()['interest_rate'].sort_values(ascending=False)"
      ]
    },
    {
      "cell_type": "markdown",
      "metadata": {
        "id": "Jlg10n6vbfFx"
      },
      "source": [
        "In general, having variables that are high correlated with the target variable can be useful for building a predictive model, as they can provide strong signals about the target variable. However, it is important to consider the potential drawbacks of using such variables, as they can also introduce problems such as multicollinearity and overfitting.\n",
        "\n",
        "Multicollinearity refers to the situation where two or more independent variables are highly correlated with each other. This can cause problems in regression models, as it can make it difficult to accurately estimate the coefficients of the independent variables.\n",
        "\n",
        "Overfitting refers to the situation where a model performs well on the training data, but poorly on unseen data. This can happen when a model is too complex or has too many parameters, and it can lead to poor generalization performance.\n",
        "\n",
        "We can see that `sub_grade` has **99% correlation** with the target variable `interest_rate`. Drop this column. "
      ]
    },
    {
      "cell_type": "code",
      "source": [
        "df.drop(columns=['sub_grade'], inplace=True)"
      ],
      "metadata": {
        "id": "WQCgSCzI-OV9"
      },
      "execution_count": 91,
      "outputs": []
    },
    {
      "cell_type": "markdown",
      "source": [
        "So for the training, we have **44** features."
      ],
      "metadata": {
        "id": "XEGChlgp-bIq"
      }
    },
    {
      "cell_type": "code",
      "source": [
        "df.shape"
      ],
      "metadata": {
        "colab": {
          "base_uri": "https://localhost:8080/"
        },
        "id": "cjZpFFpc-ZoG",
        "outputId": "33cf2027-4e49-4fb3-eef6-0281b97878f3"
      },
      "execution_count": 92,
      "outputs": [
        {
          "output_type": "execute_result",
          "data": {
            "text/plain": [
              "(10000, 44)"
            ]
          },
          "metadata": {},
          "execution_count": 92
        }
      ]
    },
    {
      "cell_type": "markdown",
      "source": [
        "## Baseline Training"
      ],
      "metadata": {
        "id": "g0fUapfWCK5z"
      }
    },
    {
      "cell_type": "code",
      "source": [
        "def training(MODEL, X, y, SCALER):\n",
        "  \n",
        "  X_train, X_test, y_train, y_test = train_test_split(X, y, test_size=0.2, random_state=42)\n",
        "  \n",
        "  if SCALER == 'True':\n",
        "    scaler = StandardScaler()\n",
        "    scaler.fit(X_train)\n",
        "    X_train = scaler.transform(X_train)\n",
        "    X_test = scaler.transform(X_test)\n",
        "\n",
        "  model = MODEL\n",
        "  start_time = datetime.datetime.now()\n",
        "  model.fit(X_train, y_train)\n",
        "  end_time = datetime.datetime.now()\n",
        "  elapsed_time = end_time - start_time\n",
        "  print('Training time:', str(elapsed_time))\n",
        "  predict = model.predict(X_test)\n",
        "  print(\"\\nMean Absolute Error    :\", round(mean_absolute_error(y_test, predict), 3))\n",
        "  print(\"Mean Squared Error     :\", round(mean_squared_error(y_test, predict), 3))\n",
        "  print(\"(R^2) Score            :\", round(r2_score(y_test, predict) * 100, 3), '%.')\n",
        "\n",
        "  print('Train Score            :', round(model.score(X_train, y_train) * 100,3), '%.')\n",
        "  print('Test Score             :', round(model.score(X_test, y_test) * 100, 3), '%.')\n",
        "\n",
        "  start_time = datetime.datetime.now()\n",
        "  print(\"Cross Val Score        :\", round(cross_val_score(model, X, y, cv=3).mean() * 100,3), '%, deviation:', np.std(cross_val_score(model, X, y, cv=5)))\n",
        "  end_time = datetime.datetime.now()\n",
        "  elapsed_time = end_time - start_time\n",
        "  print('\\nCross Validation time:', str(elapsed_time))\n",
        "\n",
        "  errors = abs(predict - y_test)\n",
        "  mape = 100 * (errors / y_test)\n",
        "  accuracy = 100 - np.mean(mape)\n",
        "  print('Accuracy               :', round(accuracy,3), '%.') \n",
        "  \n",
        "  return "
      ],
      "metadata": {
        "id": "Qs--3i5Wy9z0"
      },
      "execution_count": 97,
      "outputs": []
    },
    {
      "cell_type": "code",
      "source": [
        "eval_df = df.copy()\n",
        "y = eval_df['interest_rate']\n",
        "eval_df.drop(columns=['interest_rate'], inplace=True)\n",
        "X = eval_df\n",
        "\n",
        "baseline_models = [LinearRegression(), Lasso(), RandomForestRegressor(), DecisionTreeRegressor(), SVR()]\n",
        "for model in baseline_models: \n",
        "  print('Model: ', str(model))\n",
        "  training(model, X, y, SCALER=False)\n",
        "  print('\\n################################\\n')"
      ],
      "metadata": {
        "colab": {
          "base_uri": "https://localhost:8080/"
        },
        "id": "H1lsYWipzjLm",
        "outputId": "60f64680-e405-4412-c7a3-2fab0838a04b"
      },
      "execution_count": 98,
      "outputs": [
        {
          "output_type": "stream",
          "name": "stdout",
          "text": [
            "Model:  LinearRegression()\n",
            "Training time: 0:00:00.013319\n",
            "\n",
            "Mean Absolute Error    : 2.134\n",
            "Mean Squared Error     : 7.426\n",
            "(R^2) Score            : 71.99 %.\n",
            "Train Score            : 69.39 %.\n",
            "Test Score             : 71.99 %.\n",
            "Cross Val Score        : 69.484 %, deviation: 0.01558325312882801\n",
            "\n",
            "Cross Validation time: 0:00:00.236176\n",
            "Accuracy               : 80.769 %.\n",
            "\n",
            "################################\n",
            "\n",
            "Model:  Lasso()\n",
            "Training time: 0:00:00.406930\n",
            "\n",
            "Mean Absolute Error    : 2.3\n",
            "Mean Squared Error     : 8.587\n",
            "(R^2) Score            : 67.61 %.\n",
            "Train Score            : 64.445 %.\n",
            "Test Score             : 67.61 %.\n",
            "Cross Val Score        : 64.855 %, deviation: 0.02126001326258621\n",
            "\n",
            "Cross Validation time: 0:00:02.918784\n",
            "Accuracy               : 78.919 %.\n",
            "\n",
            "################################\n",
            "\n",
            "Model:  RandomForestRegressor()\n",
            "Training time: 0:00:12.054457\n",
            "\n",
            "Mean Absolute Error    : 0.705\n",
            "Mean Squared Error     : 1.911\n",
            "(R^2) Score            : 92.792 %.\n",
            "Train Score            : 98.85 %.\n",
            "Test Score             : 92.792 %.\n",
            "Cross Val Score        : 91.917 %, deviation: 0.01089618173878741\n",
            "\n",
            "Cross Validation time: 0:01:30.497948\n",
            "Accuracy               : 93.911 %.\n",
            "\n",
            "################################\n",
            "\n",
            "Model:  DecisionTreeRegressor()\n",
            "Training time: 0:00:00.205303\n",
            "\n",
            "Mean Absolute Error    : 1.095\n",
            "Mean Squared Error     : 4.799\n",
            "(R^2) Score            : 81.901 %.\n",
            "Train Score            : 100.0 %.\n",
            "Test Score             : 81.901 %.\n",
            "Cross Val Score        : 82.016 %, deviation: 0.020494298174896286\n",
            "\n",
            "Cross Validation time: 0:00:01.516673\n",
            "Accuracy               : 90.824 %.\n",
            "\n",
            "################################\n",
            "\n",
            "Model:  SVR()\n",
            "Training time: 0:00:05.594366\n",
            "\n",
            "Mean Absolute Error    : 3.623\n",
            "Mean Squared Error     : 22.496\n",
            "(R^2) Score            : 15.149 %.\n",
            "Train Score            : 12.945 %.\n",
            "Test Score             : 15.149 %.\n",
            "Cross Val Score        : 12.813 %, deviation: 0.0075904280267815065\n",
            "\n",
            "Cross Validation time: 0:01:01.348962\n",
            "Accuracy               : 68.719 %.\n",
            "\n",
            "################################\n",
            "\n"
          ]
        }
      ]
    },
    {
      "cell_type": "markdown",
      "source": [
        "| Regressor         | Accuracy | MAE |\n",
        "|-------------------|----------|-----|\n",
        "| Linear Regression | 80.769 % | 2.134 |\n",
        "| Lasso Regression  | 78.919 % | 2.3 |\n",
        "| Random Forest Regression | 93.911 % | 0.705 | \n",
        "| Decision Tree Regression | 90.824 % | 1.095 |\n",
        "| Support Vector Machine Regressor | 68.719 % | 3.623 |\n",
        "\n",
        "\n"
      ],
      "metadata": {
        "id": "tSdHsMTtel__"
      }
    },
    {
      "cell_type": "markdown",
      "source": [
        "Results: "
      ],
      "metadata": {
        "id": "STbsWwymAFTh"
      }
    },
    {
      "cell_type": "code",
      "source": [
        "regressors = ['Linear', 'Lasso', 'RandomForest', 'DecisionTree', 'SupportVectorMachine']\n",
        "accuracy = [80.769, 78.919, 93.906, 90.724, 68.719]\n",
        "\n",
        "fig = plt.figure(figsize = (10, 4))  \n",
        "X_axis = np.arange(len(regressors))\n",
        "plt.bar(X_axis, accuracy, 0.5)\n",
        "plt.xticks(X_axis, regressors)\n",
        "plt.xlabel(\"Regressors\")\n",
        "plt.ylabel(\"Accuracy (%)\")\n",
        "plt.legend()\n",
        "plt.show()"
      ],
      "metadata": {
        "colab": {
          "base_uri": "https://localhost:8080/",
          "height": 296
        },
        "id": "LcWoI626AWBy",
        "outputId": "c85f3657-8170-408d-926b-d9f1ecc06f95"
      },
      "execution_count": 99,
      "outputs": [
        {
          "output_type": "stream",
          "name": "stderr",
          "text": [
            "WARNING:matplotlib.legend:No handles with labels found to put in legend.\n"
          ]
        },
        {
          "output_type": "display_data",
          "data": {
            "text/plain": [
              "<Figure size 720x288 with 1 Axes>"
            ],
            "image/png": "[encoded data removed]"
          },
          "metadata": {
            "needs_background": "light"
          }
        }
      ]
    },
    {
      "cell_type": "code",
      "source": [
        "regressors = ['Linear', 'Lasso', 'RandomForest', 'DecisionTree', 'SupportVectorMachine']\n",
        "mae = [2.134, 2.3, 0.705, 1.091, 3.623 ]\n",
        "\n",
        "fig = plt.figure(figsize = (10, 4))  \n",
        "X_axis = np.arange(len(regressors))\n",
        "plt.bar(X_axis, mae, 0.5)\n",
        "plt.xticks(X_axis, regressors)\n",
        "plt.xlabel(\"Regressors\")\n",
        "plt.ylabel(\"MAE\")\n",
        "plt.legend()\n",
        "plt.show()"
      ],
      "metadata": {
        "colab": {
          "base_uri": "https://localhost:8080/",
          "height": 296
        },
        "id": "84IVb5eVBMlL",
        "outputId": "a7f6495b-1b67-4ef7-ae3d-4c7565aa9021"
      },
      "execution_count": 100,
      "outputs": [
        {
          "output_type": "stream",
          "name": "stderr",
          "text": [
            "WARNING:matplotlib.legend:No handles with labels found to put in legend.\n"
          ]
        },
        {
          "output_type": "display_data",
          "data": {
            "text/plain": [
              "<Figure size 720x288 with 1 Axes>"
            ],
            "image/png": "[encoded data removed]"
          },
          "metadata": {
            "needs_background": "light"
          }
        }
      ]
    },
    {
      "cell_type": "markdown",
      "source": [
        "## Hyperparameter Tuning"
      ],
      "metadata": {
        "id": "V1ypKqwooC1m"
      }
    },
    {
      "cell_type": "markdown",
      "source": [
        "* Check for Scalling Method : "
      ],
      "metadata": {
        "id": "kG0WrC5XtKWL"
      }
    },
    {
      "cell_type": "code",
      "source": [
        "eval_df = df.copy()\n",
        "y = eval_df['interest_rate']\n",
        "eval_df.drop(columns=['interest_rate'], inplace=True)\n",
        "X = eval_df\n",
        "\n",
        "baseline_models = [LinearRegression(), Lasso(), RandomForestRegressor(), DecisionTreeRegressor(), SVR()]\n",
        "for model in baseline_models: \n",
        "  print('Model: ', str(model))\n",
        "  training(model, X, y, SCALER=True)\n",
        "  print('\\n################################\\n')"
      ],
      "metadata": {
        "colab": {
          "base_uri": "https://localhost:8080/"
        },
        "id": "tGrMfvKOpuxW",
        "outputId": "439fd0d0-ffd7-4f1b-dd7a-59ca1ddf3a97"
      },
      "execution_count": 101,
      "outputs": [
        {
          "output_type": "stream",
          "name": "stdout",
          "text": [
            "Model:  LinearRegression()\n",
            "Training time: 0:00:00.025602\n",
            "\n",
            "Mean Absolute Error    : 2.134\n",
            "Mean Squared Error     : 7.426\n",
            "(R^2) Score            : 71.99 %.\n",
            "Train Score            : 69.39 %.\n",
            "Test Score             : 71.99 %.\n",
            "Cross Val Score        : 69.484 %, deviation: 0.01558325312882801\n",
            "\n",
            "Cross Validation time: 0:00:00.414637\n",
            "Accuracy               : 80.769 %.\n",
            "\n",
            "################################\n",
            "\n",
            "Model:  Lasso()\n",
            "Training time: 0:00:00.398501\n",
            "\n",
            "Mean Absolute Error    : 2.3\n",
            "Mean Squared Error     : 8.587\n",
            "(R^2) Score            : 67.61 %.\n",
            "Train Score            : 64.445 %.\n",
            "Test Score             : 67.61 %.\n",
            "Cross Val Score        : 64.855 %, deviation: 0.02126001326258621\n",
            "\n",
            "Cross Validation time: 0:00:02.842609\n",
            "Accuracy               : 78.919 %.\n",
            "\n",
            "################################\n",
            "\n",
            "Model:  RandomForestRegressor()\n",
            "Training time: 0:00:13.054389\n",
            "\n",
            "Mean Absolute Error    : 0.709\n",
            "Mean Squared Error     : 1.898\n",
            "(R^2) Score            : 92.842 %.\n",
            "Train Score            : 98.887 %.\n",
            "Test Score             : 92.842 %.\n",
            "Cross Val Score        : 91.992 %, deviation: 0.010961946800623784\n",
            "\n",
            "Cross Validation time: 0:01:32.025425\n",
            "Accuracy               : 93.848 %.\n",
            "\n",
            "################################\n",
            "\n",
            "Model:  DecisionTreeRegressor()\n",
            "Training time: 0:00:00.195964\n",
            "\n",
            "Mean Absolute Error    : 1.066\n",
            "Mean Squared Error     : 4.587\n",
            "(R^2) Score            : 82.698 %.\n",
            "Train Score            : 100.0 %.\n",
            "Test Score             : 82.698 %.\n",
            "Cross Val Score        : 81.524 %, deviation: 0.02263004197953473\n",
            "\n",
            "Cross Validation time: 0:00:01.539433\n",
            "Accuracy               : 91.026 %.\n",
            "\n",
            "################################\n",
            "\n",
            "Model:  SVR()\n",
            "Training time: 0:00:05.510986\n",
            "\n",
            "Mean Absolute Error    : 3.623\n",
            "Mean Squared Error     : 22.496\n",
            "(R^2) Score            : 15.149 %.\n",
            "Train Score            : 12.945 %.\n",
            "Test Score             : 15.149 %.\n",
            "Cross Val Score        : 12.813 %, deviation: 0.0075904280267815065\n",
            "\n",
            "Cross Validation time: 0:00:54.585730\n",
            "Accuracy               : 68.719 %.\n",
            "\n",
            "################################\n",
            "\n"
          ]
        }
      ]
    },
    {
      "cell_type": "markdown",
      "source": [
        "After Scalling we have: \n",
        "\n",
        "| Regressor | Accuracy | MAE | \n",
        "|-----------|----------|-----| \n",
        "| Linear Regression | 80.769 % | 2.134 |\n",
        "| Lasso Regression  | 78.919 % | 2.3 |\n",
        "| Random Forest Regression | 93.848 % | 0.709 |\n",
        "| Decision Tree Regression | 91.026 % | 1.066 |\n",
        "| Support Vector Machine Regressor | 68.719 % | 3.623 |"
      ],
      "metadata": {
        "id": "tPpIOIpX3PM9"
      }
    },
    {
      "cell_type": "markdown",
      "source": [
        "Results: "
      ],
      "metadata": {
        "id": "m-vOPpWwC6zC"
      }
    },
    {
      "cell_type": "code",
      "source": [
        "regressors = ['Linear', 'Lasso', 'RandomForest', 'DecisionTree', 'SupportVectorMachine']\n",
        "accuracy_before = [80.769, 78.919, 93.906, 90.724, 68.719]\n",
        "accuracy_after = [80.769, 78.919, 93.745, 90.778, 68.719]\n",
        "\n",
        "fig = plt.figure(figsize = (10, 4))  \n",
        "X_axis = np.arange(len(regressors))\n",
        "\n",
        "plt.bar(X_axis, accuracy_before, 0.3, label = \"Accuracy before Scaling\")\n",
        "plt.bar(X_axis + 0.3, accuracy_after, 0.3, label = \"Accuracy after Scaling\")\n",
        "\n",
        "plt.xticks(X_axis, regressors)\n",
        "plt.xlabel(\"Regressors\")\n",
        "plt.ylabel(\"Accuracy (%)\")\n",
        "plt.legend()\n",
        "plt.show()"
      ],
      "metadata": {
        "colab": {
          "base_uri": "https://localhost:8080/",
          "height": 279
        },
        "id": "pKfBIbLEC_1K",
        "outputId": "2395db01-f0f5-45b6-81dc-b8b47698f702"
      },
      "execution_count": 102,
      "outputs": [
        {
          "output_type": "display_data",
          "data": {
            "text/plain": [
              "<Figure size 720x288 with 1 Axes>"
            ],
            "image/png": "[encoded data removed]"
          },
          "metadata": {
            "needs_background": "light"
          }
        }
      ]
    },
    {
      "cell_type": "markdown",
      "source": [
        "Accuracies are the same, so it is no need to use Scaling."
      ],
      "metadata": {
        "id": "q1sNeSYVEi1y"
      }
    },
    {
      "cell_type": "markdown",
      "source": [
        "* Tuning hyperparameters of `LinearRegression()`"
      ],
      "metadata": {
        "id": "bK3NU8T2wXmy"
      }
    },
    {
      "cell_type": "code",
      "source": [
        "n_components = [5, 10, 15, 20, 25, 30, 35, 38, 40, 42, 43]\n",
        "\n",
        "eval_df = df.copy()\n",
        "y = eval_df['interest_rate']\n",
        "eval_df.drop(columns=['interest_rate'], inplace=True)\n",
        "X = eval_df\n",
        "\n",
        "accuracy_calc = 0 \n",
        "error_calc = 100\n",
        "for component in n_components:\n",
        "  print('N_COMPONENTS = ', component)\n",
        "  \n",
        "  pca = PCA(n_components=component)\n",
        "  X_train, X_test, y_train, y_test = train_test_split(X, y, test_size=0.2, random_state=42)\n",
        "  X_train = pca.fit_transform(X_train)\n",
        "  X_test = pca.transform(X_test)\n",
        "  \n",
        "  model = LinearRegression()\n",
        "  model.fit(X_train, y_train)\n",
        "  predict = model.predict(X_test)\n",
        "  \n",
        "  mae = mean_absolute_error(y_test, predict)\n",
        "  print(\"Mean Absolute Error    :\", round(mean_absolute_error(y_test, predict), 3))\n",
        "  print(\"Mean Squared Error     :\", round(mean_squared_error(y_test, predict), 3))\n",
        "  print(\"(R^2) Score            :\", round(r2_score(y_test, predict) * 100, 3), '%.')\n",
        "\n",
        "  print('Train Score            :', round(model.score(X_train, y_train) * 100,3), '%.')\n",
        "  print('Test Score             :', round(model.score(X_test, y_test) * 100, 3), '%.')\n",
        "  print(\"Cross Val Score        :\", round(cross_val_score(model, X, y, cv=3).mean() * 100,3), '%, deviation:', np.std(cross_val_score(model, X, y, cv=3)))\n",
        "  errors = abs(predict - y_test)\n",
        "  mape = 100 * (errors / y_test)\n",
        "  accuracy = 100 - np.mean(mape)\n",
        "  print('Accuracy               :', round(accuracy,3), '%.') \n",
        "  print('##########################################')\n",
        "\n",
        "  if accuracy > accuracy_calc and mae < error_calc: \n",
        "    accuracy_calc = accuracy\n",
        "    mae = error_calc\n",
        "    count = component\n",
        "\n",
        "print('Higher Accuracy & Smaller Error ---> n_components=', count)"
      ],
      "metadata": {
        "colab": {
          "base_uri": "https://localhost:8080/"
        },
        "id": "vtvS2qC4D_ax",
        "outputId": "03de4c4e-1fee-4ceb-9b3f-f9a92a77a825"
      },
      "execution_count": 103,
      "outputs": [
        {
          "output_type": "stream",
          "name": "stdout",
          "text": [
            "N_COMPONENTS =  5\n",
            "Mean Absolute Error    : 3.792\n",
            "Mean Squared Error     : 23.092\n",
            "(R^2) Score            : 12.902 %.\n",
            "Train Score            : 10.536 %.\n",
            "Test Score             : 12.902 %.\n",
            "Cross Val Score        : 69.484 %, deviation: 0.01558325312882801\n",
            "Accuracy               : 64.699 %.\n",
            "##########################################\n",
            "N_COMPONENTS =  10\n",
            "Mean Absolute Error    : 2.753\n",
            "Mean Squared Error     : 12.458\n",
            "(R^2) Score            : 53.011 %.\n",
            "Train Score            : 49.563 %.\n",
            "Test Score             : 53.011 %.\n",
            "Cross Val Score        : 69.484 %, deviation: 0.01558325312882801\n",
            "Accuracy               : 74.757 %.\n",
            "##########################################\n",
            "N_COMPONENTS =  15\n",
            "Mean Absolute Error    : 2.714\n",
            "Mean Squared Error     : 12.178\n",
            "(R^2) Score            : 54.069 %.\n",
            "Train Score            : 51.055 %.\n",
            "Test Score             : 54.069 %.\n",
            "Cross Val Score        : 69.484 %, deviation: 0.01558325312882801\n",
            "Accuracy               : 75.337 %.\n",
            "##########################################\n",
            "N_COMPONENTS =  20\n",
            "Mean Absolute Error    : 2.273\n",
            "Mean Squared Error     : 8.443\n",
            "(R^2) Score            : 68.156 %.\n",
            "Train Score            : 65.176 %.\n",
            "Test Score             : 68.156 %.\n",
            "Cross Val Score        : 69.484 %, deviation: 0.01558325312882801\n",
            "Accuracy               : 79.243 %.\n",
            "##########################################\n",
            "N_COMPONENTS =  25\n",
            "Mean Absolute Error    : 2.26\n",
            "Mean Squared Error     : 8.334\n",
            "(R^2) Score            : 68.564 %.\n",
            "Train Score            : 65.991 %.\n",
            "Test Score             : 68.564 %.\n",
            "Cross Val Score        : 69.484 %, deviation: 0.01558325312882801\n",
            "Accuracy               : 79.414 %.\n",
            "##########################################\n",
            "N_COMPONENTS =  30\n",
            "Mean Absolute Error    : 2.248\n",
            "Mean Squared Error     : 8.273\n",
            "(R^2) Score            : 68.796 %.\n",
            "Train Score            : 66.473 %.\n",
            "Test Score             : 68.796 %.\n",
            "Cross Val Score        : 69.484 %, deviation: 0.01558325312882801\n",
            "Accuracy               : 79.559 %.\n",
            "##########################################\n",
            "N_COMPONENTS =  35\n",
            "Mean Absolute Error    : 2.149\n",
            "Mean Squared Error     : 7.565\n",
            "(R^2) Score            : 71.465 %.\n",
            "Train Score            : 68.955 %.\n",
            "Test Score             : 71.465 %.\n",
            "Cross Val Score        : 69.484 %, deviation: 0.01558325312882801\n",
            "Accuracy               : 80.543 %.\n",
            "##########################################\n",
            "N_COMPONENTS =  38\n",
            "Mean Absolute Error    : 2.134\n",
            "Mean Squared Error     : 7.427\n",
            "(R^2) Score            : 71.987 %.\n",
            "Train Score            : 69.373 %.\n",
            "Test Score             : 71.987 %.\n",
            "Cross Val Score        : 69.484 %, deviation: 0.01558325312882801\n",
            "Accuracy               : 80.77 %.\n",
            "##########################################\n",
            "N_COMPONENTS =  40\n",
            "Mean Absolute Error    : 2.133\n",
            "Mean Squared Error     : 7.416\n",
            "(R^2) Score            : 72.027 %.\n",
            "Train Score            : 69.381 %.\n",
            "Test Score             : 72.027 %.\n",
            "Cross Val Score        : 69.484 %, deviation: 0.01558325312882801\n",
            "Accuracy               : 80.783 %.\n",
            "##########################################\n",
            "N_COMPONENTS =  42\n",
            "Mean Absolute Error    : 2.134\n",
            "Mean Squared Error     : 7.426\n",
            "(R^2) Score            : 71.99 %.\n",
            "Train Score            : 69.39 %.\n",
            "Test Score             : 71.99 %.\n",
            "Cross Val Score        : 69.484 %, deviation: 0.01558325312882801\n",
            "Accuracy               : 80.769 %.\n",
            "##########################################\n",
            "N_COMPONENTS =  43\n",
            "Mean Absolute Error    : 2.134\n",
            "Mean Squared Error     : 7.426\n",
            "(R^2) Score            : 71.99 %.\n",
            "Train Score            : 69.39 %.\n",
            "Test Score             : 71.99 %.\n",
            "Cross Val Score        : 69.484 %, deviation: 0.01558325312882801\n",
            "Accuracy               : 80.769 %.\n",
            "##########################################\n",
            "Higher Accuracy & Smaller Error ---> n_components= 40\n"
          ]
        }
      ]
    },
    {
      "cell_type": "markdown",
      "source": [
        "We will use `PCA(n_components=40)`"
      ],
      "metadata": {
        "id": "zgmDbK-oEeXR"
      }
    },
    {
      "cell_type": "code",
      "source": [
        "eval_df = df.copy()\n",
        "y = eval_df['interest_rate']\n",
        "eval_df.drop(columns=['interest_rate'], inplace=True)\n",
        "X = eval_df\n",
        "\n",
        "X_train, X_test, y_train, y_test = train_test_split(X, y, test_size=0.2, random_state=42)\n",
        "\n",
        "pca = PCA(n_components=40)\n",
        "X_train = pca.fit_transform(X_train)\n",
        "X_test = pca.transform(X_test)\n",
        "\n",
        "param_grid = {'fit_intercept': [True, False]}\n",
        "model = LinearRegression()\n",
        "grid_search = GridSearchCV(model, param_grid, cv=3, n_jobs=-1, verbose=4)\n",
        "grid_search.fit(X_train, y_train)\n",
        "best_params = grid_search.best_params_\n",
        "print(best_params)"
      ],
      "metadata": {
        "colab": {
          "base_uri": "https://localhost:8080/"
        },
        "id": "TKmJ5XDSwfZO",
        "outputId": "cc295e72-ab9c-44ae-91ba-c4cca0c3e14b"
      },
      "execution_count": 104,
      "outputs": [
        {
          "output_type": "stream",
          "name": "stdout",
          "text": [
            "Fitting 3 folds for each of 2 candidates, totalling 6 fits\n",
            "{'fit_intercept': True}\n"
          ]
        }
      ]
    },
    {
      "cell_type": "markdown",
      "source": [
        "`fit_intercept = True` is the default value, so we keep this model as it is. "
      ],
      "metadata": {
        "id": "RGTYM4l4w_fP"
      }
    },
    {
      "cell_type": "code",
      "source": [
        "model = LinearRegression()\n",
        "start_time = datetime.datetime.now()\n",
        "model.fit(X_train, y_train)\n",
        "end_time = datetime.datetime.now()\n",
        "elapsed_time = end_time - start_time\n",
        "print('Training time:', str(elapsed_time))\n",
        "predict = model.predict(X_test)\n",
        "print(\"Mean Absolute Error    :\", round(mean_absolute_error(y_test, predict), 3))\n",
        "print(\"Mean Squared Error     :\", round(mean_squared_error(y_test, predict), 3))\n",
        "print(\"(R^2) Score            :\", round(r2_score(y_test, predict) * 100, 3), '%.')\n",
        "\n",
        "print('Train Score            :', round(model.score(X_train, y_train) * 100,3), '%.')\n",
        "print('Test Score             :', round(model.score(X_test, y_test) * 100, 3), '%.')\n",
        "start_time = datetime.datetime.now()\n",
        "print(\"Cross Val Score        :\", round(cross_val_score(model, X, y, cv=3).mean() * 100,3), '%, deviation:', np.std(cross_val_score(model, X, y, cv=5)))\n",
        "end_time = datetime.datetime.now()\n",
        "elapsed_time = end_time - start_time\n",
        "print('\\nCross Validation time:', str(elapsed_time))\n",
        "errors = abs(predict - y_test)\n",
        "mape = 100 * (errors / y_test)\n",
        "accuracy = 100 - np.mean(mape)\n",
        "print('Accuracy               :', round(accuracy,3), '%.') "
      ],
      "metadata": {
        "colab": {
          "base_uri": "https://localhost:8080/"
        },
        "id": "-DsdlRlOEyYH",
        "outputId": "4b24eb53-76f0-4619-8152-b23eacb75817"
      },
      "execution_count": 106,
      "outputs": [
        {
          "output_type": "stream",
          "name": "stdout",
          "text": [
            "Training time: 0:00:00.018822\n",
            "Mean Absolute Error    : 2.133\n",
            "Mean Squared Error     : 7.416\n",
            "(R^2) Score            : 72.027 %.\n",
            "Train Score            : 69.381 %.\n",
            "Test Score             : 72.027 %.\n",
            "Cross Val Score        : 69.484 %, deviation: 0.01558325312882801\n",
            "\n",
            "Cross Validation time: 0:00:00.436975\n",
            "Accuracy               : 80.783 %.\n"
          ]
        }
      ]
    },
    {
      "cell_type": "markdown",
      "source": [
        "`Accuray before: 80.769 %` \\\\\n",
        "\n",
        "`Accuracy now: 80.783 %`"
      ],
      "metadata": {
        "id": "yn8shqP-FBB4"
      }
    },
    {
      "cell_type": "markdown",
      "source": [
        "* Tuning hyperparameters of `Lasso()`"
      ],
      "metadata": {
        "id": "aQOlbtchxRac"
      }
    },
    {
      "cell_type": "code",
      "source": [
        "n_components = [5, 10, 15, 20, 25, 30, 35, 38, 40, 42, 43]\n",
        "\n",
        "eval_df = df.copy()\n",
        "y = eval_df['interest_rate']\n",
        "eval_df.drop(columns=['interest_rate'], inplace=True)\n",
        "X = eval_df\n",
        "\n",
        "accuracy_calc = 0 \n",
        "error_calc = 100\n",
        "for component in n_components:\n",
        "  print('N_COMPONENTS = ', component)\n",
        "  \n",
        "  pca = PCA(n_components=component)\n",
        "  X_train, X_test, y_train, y_test = train_test_split(X, y, test_size=0.2, random_state=42)\n",
        "  X_train = pca.fit_transform(X_train)\n",
        "  X_test = pca.transform(X_test)\n",
        "  \n",
        "  model = Lasso()\n",
        "  model.fit(X_train, y_train)\n",
        "  predict = model.predict(X_test)\n",
        "  \n",
        "  mae = mean_absolute_error(y_test, predict)\n",
        "  print(\"Mean Absolute Error    :\", round(mean_absolute_error(y_test, predict), 3))\n",
        "  print(\"Mean Squared Error     :\", round(mean_squared_error(y_test, predict), 3))\n",
        "  print(\"(R^2) Score            :\", round(r2_score(y_test, predict) * 100, 3), '%.')\n",
        "\n",
        "  print('Train Score            :', round(model.score(X_train, y_train) * 100,3), '%.')\n",
        "  print('Test Score             :', round(model.score(X_test, y_test) * 100, 3), '%.')\n",
        "  print(\"Cross Val Score        :\", round(cross_val_score(model, X, y, cv=3).mean() * 100,3), '%, deviation:', np.std(cross_val_score(model, X, y, cv=3)))\n",
        "  errors = abs(predict - y_test)\n",
        "  mape = 100 * (errors / y_test)\n",
        "  accuracy = 100 - np.mean(mape)\n",
        "  print('Accuracy               :', round(accuracy,3), '%.') \n",
        "  print('##########################################')\n",
        "  if accuracy > accuracy_calc and mae < error_calc: \n",
        "    accuracy_calc = accuracy\n",
        "    mae = error_calc\n",
        "    count = component\n",
        "  \n",
        "print('Higher Accuracy & Smaller Error ---> n_components=', count)\n"
      ],
      "metadata": {
        "colab": {
          "base_uri": "https://localhost:8080/"
        },
        "id": "z_mPTKFEFa1M",
        "outputId": "174f5763-69e4-46ee-d527-ea27df9ef772"
      },
      "execution_count": 107,
      "outputs": [
        {
          "output_type": "stream",
          "name": "stdout",
          "text": [
            "N_COMPONENTS =  5\n",
            "Mean Absolute Error    : 3.792\n",
            "Mean Squared Error     : 23.092\n",
            "(R^2) Score            : 12.902 %.\n",
            "Train Score            : 10.536 %.\n",
            "Test Score             : 12.902 %.\n",
            "Cross Val Score        : 64.855 %, deviation: 0.02126001326258621\n",
            "Accuracy               : 64.699 %.\n",
            "##########################################\n",
            "N_COMPONENTS =  10\n",
            "Mean Absolute Error    : 2.753\n",
            "Mean Squared Error     : 12.459\n",
            "(R^2) Score            : 53.008 %.\n",
            "Train Score            : 49.562 %.\n",
            "Test Score             : 53.008 %.\n",
            "Cross Val Score        : 64.855 %, deviation: 0.02126001326258621\n",
            "Accuracy               : 74.759 %.\n",
            "##########################################\n",
            "N_COMPONENTS =  15\n",
            "Mean Absolute Error    : 2.719\n",
            "Mean Squared Error     : 12.199\n",
            "(R^2) Score            : 53.987 %.\n",
            "Train Score            : 50.977 %.\n",
            "Test Score             : 53.987 %.\n",
            "Cross Val Score        : 64.855 %, deviation: 0.02126001326258621\n",
            "Accuracy               : 75.252 %.\n",
            "##########################################\n",
            "N_COMPONENTS =  20\n",
            "Mean Absolute Error    : 2.297\n",
            "Mean Squared Error     : 8.61\n",
            "(R^2) Score            : 67.524 %.\n",
            "Train Score            : 64.648 %.\n",
            "Test Score             : 67.524 %.\n",
            "Cross Val Score        : 64.855 %, deviation: 0.02126001326258621\n",
            "Accuracy               : 78.931 %.\n",
            "##########################################\n",
            "N_COMPONENTS =  25\n",
            "Mean Absolute Error    : 2.297\n",
            "Mean Squared Error     : 8.61\n",
            "(R^2) Score            : 67.524 %.\n",
            "Train Score            : 64.648 %.\n",
            "Test Score             : 67.524 %.\n",
            "Cross Val Score        : 64.855 %, deviation: 0.02126001326258621\n",
            "Accuracy               : 78.931 %.\n",
            "##########################################\n",
            "N_COMPONENTS =  30\n",
            "Mean Absolute Error    : 2.297\n",
            "Mean Squared Error     : 8.61\n",
            "(R^2) Score            : 67.524 %.\n",
            "Train Score            : 64.648 %.\n",
            "Test Score             : 67.524 %.\n",
            "Cross Val Score        : 64.855 %, deviation: 0.02126001326258621\n",
            "Accuracy               : 78.931 %.\n",
            "##########################################\n",
            "N_COMPONENTS =  35\n",
            "Mean Absolute Error    : 2.297\n",
            "Mean Squared Error     : 8.61\n",
            "(R^2) Score            : 67.524 %.\n",
            "Train Score            : 64.648 %.\n",
            "Test Score             : 67.524 %.\n",
            "Cross Val Score        : 64.855 %, deviation: 0.02126001326258621\n",
            "Accuracy               : 78.931 %.\n",
            "##########################################\n",
            "N_COMPONENTS =  38\n",
            "Mean Absolute Error    : 2.297\n",
            "Mean Squared Error     : 8.61\n",
            "(R^2) Score            : 67.524 %.\n",
            "Train Score            : 64.648 %.\n",
            "Test Score             : 67.524 %.\n",
            "Cross Val Score        : 64.855 %, deviation: 0.02126001326258621\n",
            "Accuracy               : 78.931 %.\n",
            "##########################################\n",
            "N_COMPONENTS =  40\n",
            "Mean Absolute Error    : 2.297\n",
            "Mean Squared Error     : 8.61\n",
            "(R^2) Score            : 67.524 %.\n",
            "Train Score            : 64.648 %.\n",
            "Test Score             : 67.524 %.\n",
            "Cross Val Score        : 64.855 %, deviation: 0.02126001326258621\n",
            "Accuracy               : 78.931 %.\n",
            "##########################################\n",
            "N_COMPONENTS =  42\n",
            "Mean Absolute Error    : 2.297\n",
            "Mean Squared Error     : 8.61\n",
            "(R^2) Score            : 67.524 %.\n",
            "Train Score            : 64.648 %.\n",
            "Test Score             : 67.524 %.\n",
            "Cross Val Score        : 64.855 %, deviation: 0.02126001326258621\n",
            "Accuracy               : 78.931 %.\n",
            "##########################################\n",
            "N_COMPONENTS =  43\n",
            "Mean Absolute Error    : 2.297\n",
            "Mean Squared Error     : 8.61\n",
            "(R^2) Score            : 67.524 %.\n",
            "Train Score            : 64.648 %.\n",
            "Test Score             : 67.524 %.\n",
            "Cross Val Score        : 64.855 %, deviation: 0.02126001326258621\n",
            "Accuracy               : 78.931 %.\n",
            "##########################################\n",
            "Higher Accuracy & Smaller Error ---> n_components= 35\n"
          ]
        }
      ]
    },
    {
      "cell_type": "markdown",
      "source": [
        "We will use `PCA(n_components=35)`"
      ],
      "metadata": {
        "id": "y8IRYWEmHbE3"
      }
    },
    {
      "cell_type": "code",
      "execution_count": 108,
      "metadata": {
        "colab": {
          "base_uri": "https://localhost:8080/"
        },
        "id": "tdeTnVfeyUvZ",
        "outputId": "62a3fd3e-13d6-4eb5-cec9-e89660a80040"
      },
      "outputs": [
        {
          "output_type": "stream",
          "name": "stdout",
          "text": [
            "Fitting 3 folds for each of 288 candidates, totalling 864 fits\n",
            "{'alpha': 0.01, 'fit_intercept': True, 'max_iter': 100, 'normalize': False, 'tol': 1e-08}\n"
          ]
        }
      ],
      "source": [
        "eval_df = df.copy()\n",
        "y = eval_df['interest_rate']\n",
        "eval_df.drop(columns=['interest_rate'], inplace=True)\n",
        "X = eval_df\n",
        "\n",
        "X_train, X_test, y_train, y_test = train_test_split(X, y, test_size=0.2, random_state=42)\n",
        "\n",
        "pca = PCA(n_components=35)\n",
        "X_train = pca.fit_transform(X_train)\n",
        "X_test = pca.transform(X_test)\n",
        "\n",
        "param_grid = {'alpha': [0.01, 0.1, 0.5, 1, 5, 10],\n",
        "              'fit_intercept': [True, False],\n",
        "              'max_iter': [2, 5, 10, 100],\n",
        "              'tol': [1e-4, 1e-6, 1e-8],\n",
        "              'normalize': [True, False]}\n",
        "\n",
        "model = Lasso()\n",
        "grid_search = GridSearchCV(model, param_grid, cv=3, n_jobs=-1, verbose=3)\n",
        "grid_search.fit(X_train, y_train)\n",
        "best_params = grid_search.best_params_\n",
        "print(best_params)"
      ]
    },
    {
      "cell_type": "markdown",
      "source": [
        "`alpha = 0.01`, `fit_intercept = True`, `max_iter = 100`, `normalize = False`, `tol = 1e-08`"
      ],
      "metadata": {
        "id": "z6KZq4_kIemU"
      }
    },
    {
      "cell_type": "code",
      "source": [
        "model = Lasso(alpha=0.01, fit_intercept=True, max_iter=100, normalize=False, tol=1e-08)\n",
        "start_time = datetime.datetime.now()\n",
        "model.fit(X_train, y_train)\n",
        "end_time = datetime.datetime.now()\n",
        "elapsed_time = end_time - start_time\n",
        "print('Training time:', str(elapsed_time))\n",
        "predict = model.predict(X_test)\n",
        "print(\"Mean Absolute Error    :\", round(mean_absolute_error(y_test, predict), 3))\n",
        "print(\"Mean Squared Error     :\", round(mean_squared_error(y_test, predict), 3))\n",
        "print(\"(R^2) Score            :\", round(r2_score(y_test, predict) * 100, 3), '%.')\n",
        "\n",
        "print('Train Score            :', round(model.score(X_train, y_train) * 100,3), '%.')\n",
        "print('Test Score             :', round(model.score(X_test, y_test) * 100, 3), '%.')\n",
        "start_time = datetime.datetime.now()\n",
        "print(\"Cross Val Score        :\", round(cross_val_score(model, X, y, cv=3).mean() * 100,3), '%, deviation:', np.std(cross_val_score(model, X, y, cv=3)))\n",
        "end_time = datetime.datetime.now()\n",
        "elapsed_time = end_time - start_time\n",
        "print('\\nCross Validation time:', str(elapsed_time))\n",
        "errors = abs(predict - y_test)\n",
        "mape = 100 * (errors / y_test)\n",
        "accuracy = 100 - np.mean(mape)\n",
        "print('Accuracy               :', round(accuracy,3), '%.') "
      ],
      "metadata": {
        "colab": {
          "base_uri": "https://localhost:8080/"
        },
        "id": "uY5CjblUIy1m",
        "outputId": "48dfde17-cc49-44fd-d9b4-40be8adeb480"
      },
      "execution_count": 109,
      "outputs": [
        {
          "output_type": "stream",
          "name": "stdout",
          "text": [
            "Training time: 0:00:00.005540\n",
            "Mean Absolute Error    : 2.15\n",
            "Mean Squared Error     : 7.568\n",
            "(R^2) Score            : 71.456 %.\n",
            "Train Score            : 68.943 %.\n",
            "Test Score             : 71.456 %.\n",
            "Cross Val Score        : 69.309 %, deviation: 0.010150332848360682\n",
            "\n",
            "Cross Validation time: 0:00:00.337345\n",
            "Accuracy               : 80.518 %.\n"
          ]
        }
      ]
    },
    {
      "cell_type": "markdown",
      "source": [
        "`Accuray before: 78.919 %` \\\\\n",
        "\n",
        "`Accuracy now: 80.518 %`"
      ],
      "metadata": {
        "id": "lV0Z_gszI-Pj"
      }
    },
    {
      "cell_type": "markdown",
      "source": [
        "* Tuning hyperparameters of `RandomForestRegressor()`"
      ],
      "metadata": {
        "id": "wrSIuFESJNys"
      }
    },
    {
      "cell_type": "code",
      "source": [
        "n_components = [5, 10, 15, 20, 25, 30, 35, 38, 40, 42, 43]\n",
        "\n",
        "eval_df = df.copy()\n",
        "y = eval_df['interest_rate']\n",
        "eval_df.drop(columns=['interest_rate'], inplace=True)\n",
        "X = eval_df\n",
        "\n",
        "accuracy_calc = 0 \n",
        "error_calc = 100\n",
        "for component in n_components:\n",
        "  print('N_COMPONENTS = ', component)\n",
        "  \n",
        "  pca = PCA(n_components=component)\n",
        "  X_train, X_test, y_train, y_test = train_test_split(X, y, test_size=0.2, random_state=42)\n",
        "  X_train = pca.fit_transform(X_train)\n",
        "  X_test = pca.transform(X_test)\n",
        "  \n",
        "  model = RandomForestRegressor()\n",
        "  model.fit(X_train, y_train)\n",
        "  predict = model.predict(X_test)\n",
        "  \n",
        "  mae = mean_absolute_error(y_test, predict)\n",
        "  print(\"Mean Absolute Error    :\", round(mean_absolute_error(y_test, predict), 3))\n",
        "  print(\"Mean Squared Error     :\", round(mean_squared_error(y_test, predict), 3))\n",
        "  print(\"(R^2) Score            :\", round(r2_score(y_test, predict) * 100, 3), '%.')\n",
        "\n",
        "  print('Train Score            :', round(model.score(X_train, y_train) * 100,3), '%.')\n",
        "  print('Test Score             :', round(model.score(X_test, y_test) * 100, 3), '%.')\n",
        "  print(\"Cross Val Score        :\", round(cross_val_score(model, X, y, cv=3).mean() * 100,3), '%, deviation:', np.std(cross_val_score(model, X, y, cv=3)))\n",
        "  errors = abs(predict - y_test)\n",
        "  mape = 100 * (errors / y_test)\n",
        "  accuracy = 100 - np.mean(mape)\n",
        "  print('Accuracy               :', round(accuracy,3), '%.') \n",
        "  print('##########################################')\n",
        "  if accuracy > accuracy_calc and mae < error_calc: \n",
        "    accuracy_calc = accuracy\n",
        "    mae = error_calc\n",
        "    count = component\n",
        "  \n",
        "print('Higher Accuracy & Smaller Error ---> n_components=', count)\n"
      ],
      "metadata": {
        "colab": {
          "base_uri": "https://localhost:8080/"
        },
        "id": "M8VXq7sZJSGE",
        "outputId": "401fa7a8-e39b-4381-b919-ee1ddaa61779"
      },
      "execution_count": 119,
      "outputs": [
        {
          "output_type": "stream",
          "name": "stdout",
          "text": [
            "N_COMPONENTS =  5\n",
            "Mean Absolute Error    : 3.705\n",
            "Mean Squared Error     : 22.475\n",
            "(R^2) Score            : 15.229 %.\n",
            "Train Score            : 87.718 %.\n",
            "Test Score             : 15.229 %.\n",
            "Cross Val Score        : 91.965 %, deviation: 0.008930726581727296\n",
            "Accuracy               : 65.996 %.\n",
            "##########################################\n",
            "N_COMPONENTS =  10\n",
            "Mean Absolute Error    : 1.151\n",
            "Mean Squared Error     : 3.189\n",
            "(R^2) Score            : 87.97 %.\n",
            "Train Score            : 98.116 %.\n",
            "Test Score             : 87.97 %.\n",
            "Cross Val Score        : 91.916 %, deviation: 0.008206491485102883\n",
            "Accuracy               : 89.723 %.\n",
            "##########################################\n",
            "N_COMPONENTS =  15\n",
            "Mean Absolute Error    : 1.227\n",
            "Mean Squared Error     : 3.475\n",
            "(R^2) Score            : 86.895 %.\n",
            "Train Score            : 97.982 %.\n",
            "Test Score             : 86.895 %.\n",
            "Cross Val Score        : 91.981 %, deviation: 0.008311862718674068\n",
            "Accuracy               : 88.991 %.\n",
            "##########################################\n",
            "N_COMPONENTS =  20\n",
            "Mean Absolute Error    : 1.299\n",
            "Mean Squared Error     : 3.581\n",
            "(R^2) Score            : 86.493 %.\n",
            "Train Score            : 98.104 %.\n",
            "Test Score             : 86.493 %.\n",
            "Cross Val Score        : 91.928 %, deviation: 0.008000417089445155\n",
            "Accuracy               : 88.214 %.\n",
            "##########################################\n",
            "N_COMPONENTS =  25\n",
            "Mean Absolute Error    : 1.337\n",
            "Mean Squared Error     : 3.737\n",
            "(R^2) Score            : 85.906 %.\n",
            "Train Score            : 98.065 %.\n",
            "Test Score             : 85.906 %.\n",
            "Cross Val Score        : 91.978 %, deviation: 0.007750607824357056\n",
            "Accuracy               : 87.857 %.\n",
            "##########################################\n",
            "N_COMPONENTS =  30\n",
            "Mean Absolute Error    : 1.36\n",
            "Mean Squared Error     : 3.814\n",
            "(R^2) Score            : 85.613 %.\n",
            "Train Score            : 97.998 %.\n",
            "Test Score             : 85.613 %.\n",
            "Cross Val Score        : 91.945 %, deviation: 0.007493663874685024\n",
            "Accuracy               : 87.61 %.\n",
            "##########################################\n",
            "N_COMPONENTS =  35\n",
            "Mean Absolute Error    : 1.35\n",
            "Mean Squared Error     : 3.772\n",
            "(R^2) Score            : 85.774 %.\n",
            "Train Score            : 97.986 %.\n",
            "Test Score             : 85.774 %.\n",
            "Cross Val Score        : 91.884 %, deviation: 0.00850010236986112\n",
            "Accuracy               : 87.776 %.\n",
            "##########################################\n",
            "N_COMPONENTS =  38\n",
            "Mean Absolute Error    : 1.371\n",
            "Mean Squared Error     : 3.858\n",
            "(R^2) Score            : 85.45 %.\n",
            "Train Score            : 97.952 %.\n",
            "Test Score             : 85.45 %.\n",
            "Cross Val Score        : 92.047 %, deviation: 0.008294769731437064\n",
            "Accuracy               : 87.546 %.\n",
            "##########################################\n",
            "N_COMPONENTS =  40\n",
            "Mean Absolute Error    : 1.378\n",
            "Mean Squared Error     : 3.873\n",
            "(R^2) Score            : 85.393 %.\n",
            "Train Score            : 97.98 %.\n",
            "Test Score             : 85.393 %.\n",
            "Cross Val Score        : 91.909 %, deviation: 0.008379252701291251\n",
            "Accuracy               : 87.519 %.\n",
            "##########################################\n",
            "N_COMPONENTS =  42\n",
            "Mean Absolute Error    : 1.384\n",
            "Mean Squared Error     : 3.895\n",
            "(R^2) Score            : 85.307 %.\n",
            "Train Score            : 97.958 %.\n",
            "Test Score             : 85.307 %.\n",
            "Cross Val Score        : 91.906 %, deviation: 0.008699320479037511\n",
            "Accuracy               : 87.461 %.\n",
            "##########################################\n",
            "N_COMPONENTS =  43\n",
            "Mean Absolute Error    : 1.383\n",
            "Mean Squared Error     : 3.852\n",
            "(R^2) Score            : 85.47 %.\n",
            "Train Score            : 97.974 %.\n",
            "Test Score             : 85.47 %.\n",
            "Cross Val Score        : 92.042 %, deviation: 0.008138366300643627\n",
            "Accuracy               : 87.484 %.\n",
            "##########################################\n",
            "Higher Accuracy & Smaller Error ---> n_components= 10\n"
          ]
        }
      ]
    },
    {
      "cell_type": "markdown",
      "source": [
        "We will use `PCA(n_components=10)`"
      ],
      "metadata": {
        "id": "a9I-ABA-OHwp"
      }
    },
    {
      "cell_type": "code",
      "source": [
        "eval_df = df.copy()\n",
        "y = eval_df['interest_rate']\n",
        "eval_df.drop(columns=['interest_rate'], inplace=True)\n",
        "X = eval_df\n",
        "\n",
        "X_train, X_test, y_train, y_test = train_test_split(X, y, test_size=0.2, random_state=42)\n",
        "\n",
        "pca = PCA(n_components=10)\n",
        "X_train = pca.fit_transform(X_train)\n",
        "X_test = pca.transform(X_test)\n",
        "\n",
        "param_grid = {\n",
        "    'n_estimators': [20, 50, 80, 100], \n",
        "    'max_depth': [5, 10, 15, 20, 25], \n",
        "    'min_samples_split': [1, 2, 5], \n",
        "    'min_samples_leaf': [1, 2, 5],\n",
        "    'bootstrap': [True, False]\n",
        "}\n",
        "\n",
        "model = RandomForestRegressor()\n",
        "grid_search = GridSearchCV(model, param_grid, cv=3, n_jobs=-1, verbose=3)\n",
        "\n",
        "grid_search.fit(X_train, y_train)\n",
        "best_params = grid_search.best_params_\n",
        "print(best_params)"
      ],
      "metadata": {
        "colab": {
          "base_uri": "https://localhost:8080/"
        },
        "id": "SW_1PXuOOOc5",
        "outputId": "b411e14f-d841-471b-8bc0-519751c14d5d"
      },
      "execution_count": 127,
      "outputs": [
        {
          "output_type": "stream",
          "name": "stdout",
          "text": [
            "Fitting 3 folds for each of 32 candidates, totalling 96 fits\n",
            "{'bootstrap': True, 'max_depth': 20, 'min_samples_leaf': 2, 'min_samples_split': 5, 'n_estimators': 100}\n"
          ]
        }
      ]
    },
    {
      "cell_type": "markdown",
      "source": [
        "When trying to perform `GridSearchCV()` with the different hyperparameters, the training process took a lot of time to search all the possible combinations. For this reason, I chose to perform `GridSearchCV()` for every parameter separately and then combine the best from each one. "
      ],
      "metadata": {
        "id": "Z43aJ5TXNKN9"
      }
    },
    {
      "cell_type": "markdown",
      "source": [
        "`bootstrap=True`, `max_depth=20`, `min_samples_leaf=2`, `min_samples_split=5`, `n_estimators=100`"
      ],
      "metadata": {
        "id": "PTvC-EyZMtag"
      }
    },
    {
      "cell_type": "code",
      "source": [
        "model = RandomForestRegressor(bootstrap=True, max_depth=20, min_samples_leaf=2, min_samples_split=5, n_estimators=100)\n",
        "start_time = datetime.datetime.now()\n",
        "model.fit(X_train, y_train)\n",
        "end_time = datetime.datetime.now()\n",
        "elapsed_time = end_time - start_time\n",
        "print('Training time:', str(elapsed_time))\n",
        "predict = model.predict(X_test)\n",
        "print(\"Mean Absolute Error    :\", round(mean_absolute_error(y_test, predict), 3))\n",
        "print(\"Mean Squared Error     :\", round(mean_squared_error(y_test, predict), 3))\n",
        "print(\"(R^2) Score            :\", round(r2_score(y_test, predict) * 100, 3), '%.')\n",
        "\n",
        "print('Train Score            :', round(model.score(X_train, y_train) * 100,3), '%.')\n",
        "print('Test Score             :', round(model.score(X_test, y_test) * 100, 3), '%.')\n",
        "start_time = datetime.datetime.now()\n",
        "print(\"Cross Val Score        :\", round(cross_val_score(model, X, y, cv=3).mean() * 100,3), '%, deviation:', np.std(cross_val_score(model, X, y, cv=3)))\n",
        "end_time = datetime.datetime.now()\n",
        "elapsed_time = end_time - start_time\n",
        "print('\\nCross Validation time:', str(elapsed_time))\n",
        "errors = abs(predict - y_test)\n",
        "mape = 100 * (errors / y_test)\n",
        "accuracy = 100 - np.mean(mape)\n",
        "print('Accuracy               :', round(accuracy,3), '%.') "
      ],
      "metadata": {
        "colab": {
          "base_uri": "https://localhost:8080/"
        },
        "id": "TYY4DDHQMtMV",
        "outputId": "9f78e413-3efa-439c-f5b2-8088a226bd8e"
      },
      "execution_count": 130,
      "outputs": [
        {
          "output_type": "stream",
          "name": "stdout",
          "text": [
            "Training time: 0:00:07.317462\n",
            "Mean Absolute Error    : 1.154\n",
            "Mean Squared Error     : 3.249\n",
            "(R^2) Score            : 87.747 %.\n",
            "Train Score            : 96.841 %.\n",
            "Test Score             : 87.747 %.\n",
            "Cross Val Score        : 91.811 %, deviation: 0.008569592522157879\n",
            "\n",
            "Cross Validation time: 0:00:53.950323\n",
            "Accuracy               : 89.692 %.\n"
          ]
        }
      ]
    },
    {
      "cell_type": "markdown",
      "source": [
        "`Accuray before: 93.9119 %` \\\\\n",
        "\n",
        "`Accuracy now: 89.692 %`"
      ],
      "metadata": {
        "id": "cj6Dd6l1Om5p"
      }
    },
    {
      "cell_type": "markdown",
      "source": [
        "* Tuning hyperparameters of `DecisionTreeRegressor()`"
      ],
      "metadata": {
        "id": "vd7NwROl6Hxg"
      }
    },
    {
      "cell_type": "code",
      "source": [
        "n_components = [5, 10, 15, 20, 25, 30, 35, 38, 40, 42, 43]\n",
        "\n",
        "eval_df = df.copy()\n",
        "y = eval_df['interest_rate']\n",
        "eval_df.drop(columns=['interest_rate'], inplace=True)\n",
        "X = eval_df\n",
        "\n",
        "accuracy_calc = 0 \n",
        "error_calc = 100\n",
        "for component in n_components:\n",
        "  print('N_COMPONENTS = ', component)\n",
        "  \n",
        "  pca = PCA(n_components=component)\n",
        "  X_train, X_test, y_train, y_test = train_test_split(X, y, test_size=0.2, random_state=42)\n",
        "  X_train = pca.fit_transform(X_train)\n",
        "  X_test = pca.transform(X_test)\n",
        "  \n",
        "  model = DecisionTreeRegressor()\n",
        "  model.fit(X_train, y_train)\n",
        "  predict = model.predict(X_test)\n",
        "  \n",
        "  mae = mean_absolute_error(y_test, predict)\n",
        "  print(\"Mean Absolute Error    :\", round(mean_absolute_error(y_test, predict), 3))\n",
        "  print(\"Mean Squared Error     :\", round(mean_squared_error(y_test, predict), 3))\n",
        "  print(\"(R^2) Score            :\", round(r2_score(y_test, predict) * 100, 3), '%.')\n",
        "\n",
        "  print('Train Score            :', round(model.score(X_train, y_train) * 100,3), '%.')\n",
        "  print('Test Score             :', round(model.score(X_test, y_test) * 100, 3), '%.')\n",
        "  print(\"Cross Val Score        :\", round(cross_val_score(model, X, y, cv=3).mean() * 100,3), '%, deviation:', np.std(cross_val_score(model, X, y, cv=3)))\n",
        "  errors = abs(predict - y_test)\n",
        "  mape = 100 * (errors / y_test)\n",
        "  accuracy = 100 - np.mean(mape)\n",
        "  print('Accuracy               :', round(accuracy,3), '%.') \n",
        "  print('##########################################')\n",
        "  if accuracy > accuracy_calc and mae < error_calc: \n",
        "    accuracy_calc = accuracy\n",
        "    mae = error_calc\n",
        "    count = component\n",
        "  \n",
        "print('Higher Accuracy & Smaller Error ---> n_components=', count)"
      ],
      "metadata": {
        "colab": {
          "base_uri": "https://localhost:8080/"
        },
        "id": "iwIX8Bhp6Qq9",
        "outputId": "42ddf0cc-2119-4ab3-f706-0237a53b10e3"
      },
      "execution_count": 110,
      "outputs": [
        {
          "output_type": "stream",
          "name": "stdout",
          "text": [
            "N_COMPONENTS =  5\n",
            "Mean Absolute Error    : 4.819\n",
            "Mean Squared Error     : 40.641\n",
            "(R^2) Score            : -53.289 %.\n",
            "Train Score            : 100.0 %.\n",
            "Test Score             : -53.289 %.\n",
            "Cross Val Score        : 81.509 %, deviation: 0.018287414799828806\n",
            "Accuracy               : 57.573 %.\n",
            "##########################################\n",
            "N_COMPONENTS =  10\n",
            "Mean Absolute Error    : 1.725\n",
            "Mean Squared Error     : 7.396\n",
            "(R^2) Score            : 72.105 %.\n",
            "Train Score            : 100.0 %.\n",
            "Test Score             : 72.105 %.\n",
            "Cross Val Score        : 82.001 %, deviation: 0.009096571358339947\n",
            "Accuracy               : 84.97 %.\n",
            "##########################################\n",
            "N_COMPONENTS =  15\n",
            "Mean Absolute Error    : 1.815\n",
            "Mean Squared Error     : 7.687\n",
            "(R^2) Score            : 71.006 %.\n",
            "Train Score            : 100.0 %.\n",
            "Test Score             : 71.006 %.\n",
            "Cross Val Score        : 81.234 %, deviation: 0.005187881030724277\n",
            "Accuracy               : 84.263 %.\n",
            "##########################################\n",
            "N_COMPONENTS =  20\n",
            "Mean Absolute Error    : 1.926\n",
            "Mean Squared Error     : 7.96\n",
            "(R^2) Score            : 69.975 %.\n",
            "Train Score            : 100.0 %.\n",
            "Test Score             : 69.975 %.\n",
            "Cross Val Score        : 81.754 %, deviation: 0.013948363341068427\n",
            "Accuracy               : 82.84 %.\n",
            "##########################################\n",
            "N_COMPONENTS =  25\n",
            "Mean Absolute Error    : 1.952\n",
            "Mean Squared Error     : 8.32\n",
            "(R^2) Score            : 68.617 %.\n",
            "Train Score            : 100.0 %.\n",
            "Test Score             : 68.617 %.\n",
            "Cross Val Score        : 81.569 %, deviation: 0.00980375801003614\n",
            "Accuracy               : 82.553 %.\n",
            "##########################################\n",
            "N_COMPONENTS =  30\n",
            "Mean Absolute Error    : 1.989\n",
            "Mean Squared Error     : 8.505\n",
            "(R^2) Score            : 67.921 %.\n",
            "Train Score            : 100.0 %.\n",
            "Test Score             : 67.921 %.\n",
            "Cross Val Score        : 81.877 %, deviation: 0.008338728778772394\n",
            "Accuracy               : 82.425 %.\n",
            "##########################################\n",
            "N_COMPONENTS =  35\n",
            "Mean Absolute Error    : 1.987\n",
            "Mean Squared Error     : 8.474\n",
            "(R^2) Score            : 68.038 %.\n",
            "Train Score            : 100.0 %.\n",
            "Test Score             : 68.038 %.\n",
            "Cross Val Score        : 81.776 %, deviation: 0.011204107659933812\n",
            "Accuracy               : 82.467 %.\n",
            "##########################################\n",
            "N_COMPONENTS =  38\n",
            "Mean Absolute Error    : 2.0\n",
            "Mean Squared Error     : 8.342\n",
            "(R^2) Score            : 68.536 %.\n",
            "Train Score            : 100.0 %.\n",
            "Test Score             : 68.536 %.\n",
            "Cross Val Score        : 81.802 %, deviation: 0.006816895465087224\n",
            "Accuracy               : 82.291 %.\n",
            "##########################################\n",
            "N_COMPONENTS =  40\n",
            "Mean Absolute Error    : 2.026\n",
            "Mean Squared Error     : 8.687\n",
            "(R^2) Score            : 67.236 %.\n",
            "Train Score            : 100.0 %.\n",
            "Test Score             : 67.236 %.\n",
            "Cross Val Score        : 81.364 %, deviation: 0.0094854953135328\n",
            "Accuracy               : 82.102 %.\n",
            "##########################################\n",
            "N_COMPONENTS =  42\n",
            "Mean Absolute Error    : 1.988\n",
            "Mean Squared Error     : 8.263\n",
            "(R^2) Score            : 68.834 %.\n",
            "Train Score            : 100.0 %.\n",
            "Test Score             : 68.834 %.\n",
            "Cross Val Score        : 81.519 %, deviation: 0.0119030708218325\n",
            "Accuracy               : 82.429 %.\n",
            "##########################################\n",
            "N_COMPONENTS =  43\n",
            "Mean Absolute Error    : 2.05\n",
            "Mean Squared Error     : 8.831\n",
            "(R^2) Score            : 66.69 %.\n",
            "Train Score            : 100.0 %.\n",
            "Test Score             : 66.69 %.\n",
            "Cross Val Score        : 82.373 %, deviation: 0.00820654966476769\n",
            "Accuracy               : 81.996 %.\n",
            "##########################################\n",
            "Higher Accuracy & Smaller Error ---> n_components= 10\n"
          ]
        }
      ]
    },
    {
      "cell_type": "markdown",
      "source": [
        "We will use `PCA(n_components=10)`"
      ],
      "metadata": {
        "id": "zUTQLiXJOzaA"
      }
    },
    {
      "cell_type": "code",
      "source": [
        "eval_df = df.copy()\n",
        "y = eval_df['interest_rate']\n",
        "eval_df.drop(columns=['interest_rate'], inplace=True)\n",
        "X = eval_df\n",
        "\n",
        "X_train, X_test, y_train, y_test = train_test_split(X, y, test_size=0.2, random_state=42)\n",
        "\n",
        "pca = PCA(n_components=10)\n",
        "X_train = pca.fit_transform(X_train)\n",
        "X_test = pca.transform(X_test)\n",
        "\n",
        "param_grid = {\n",
        "    'max_depth': [1, 2, 5, 10, 12],\n",
        "    'max_leaf_nodes': [5, 10, 20, 40],\n",
        "    'min_samples_leaf': [1, 3, 5, 8, 10, 12],\n",
        "    'min_weight_fraction_leaf': [0.01, 0.05, 0.1, 0.2, 0.5],\n",
        "    'splitter':[\"best\", \"random\"],\n",
        "}\n",
        "\n",
        "model = DecisionTreeRegressor()\n",
        "grid_search = GridSearchCV(model, param_grid, cv=3, n_jobs=-1, verbose=3)\n",
        "grid_search.fit(X_train, y_train)\n",
        "best_params = grid_search.best_params_\n",
        "print(best_params)"
      ],
      "metadata": {
        "colab": {
          "base_uri": "https://localhost:8080/"
        },
        "id": "tInildxtA8-k",
        "outputId": "62987dda-9ec6-4c61-97d6-c8e6f9a819bb"
      },
      "execution_count": 117,
      "outputs": [
        {
          "output_type": "stream",
          "name": "stdout",
          "text": [
            "Fitting 3 folds for each of 1200 candidates, totalling 3600 fits\n",
            "{'max_depth': 10, 'max_leaf_nodes': 40, 'min_samples_leaf': 1, 'min_weight_fraction_leaf': 0.01, 'splitter': 'best'}\n"
          ]
        }
      ]
    },
    {
      "cell_type": "markdown",
      "source": [
        "`max_depth=10`, `max_leaf_nodes=40`, `min_samples_leaf=1`, `min_weight_fraction_leaf=0.01`, `splitter='best'`"
      ],
      "metadata": {
        "id": "kK7obohxO4f2"
      }
    },
    {
      "cell_type": "code",
      "source": [
        "model = DecisionTreeRegressor(max_depth=10, max_leaf_nodes=40, min_samples_leaf=1, min_weight_fraction_leaf=0.011, splitter='best')\n",
        "start_time = datetime.datetime.now()\n",
        "model.fit(X_train, y_train)\n",
        "end_time = datetime.datetime.now()\n",
        "elapsed_time = end_time - start_time\n",
        "print('Training time:', str(elapsed_time))\n",
        "predict = model.predict(X_test)\n",
        "print(\"Mean Absolute Error    :\", round(mean_absolute_error(y_test, predict), 3))\n",
        "print(\"Mean Squared Error     :\", round(mean_squared_error(y_test, predict), 3))\n",
        "print(\"(R^2) Score            :\", round(r2_score(y_test, predict) * 100, 3), '%.')\n",
        "\n",
        "print('Train Score            :', round(model.score(X_train, y_train) * 100,3), '%.')\n",
        "print('Test Score             :', round(model.score(X_test, y_test) * 100, 3), '%.')\n",
        "start_time = datetime.datetime.now()\n",
        "print(\"Cross Val Score        :\", round(cross_val_score(model, X, y, cv=3).mean() * 100,3), '%, deviation:', np.std(cross_val_score(model, X, y, cv=3)))\n",
        "end_time = datetime.datetime.now()\n",
        "elapsed_time = end_time - start_time\n",
        "print('\\nCross Validation time:', str(elapsed_time))\n",
        "errors = abs(predict - y_test)\n",
        "mape = 100 * (errors / y_test)\n",
        "accuracy = 100 - np.mean(mape)\n",
        "print('Accuracy               :', round(accuracy,3), '%.') "
      ],
      "metadata": {
        "colab": {
          "base_uri": "https://localhost:8080/"
        },
        "id": "DmR5qhEcC8rj",
        "outputId": "d1eb38ab-5d92-4169-f957-bebe948af070"
      },
      "execution_count": 118,
      "outputs": [
        {
          "output_type": "stream",
          "name": "stdout",
          "text": [
            "Training time: 0:00:00.056359\n",
            "Mean Absolute Error    : 2.16\n",
            "Mean Squared Error     : 8.567\n",
            "(R^2) Score            : 67.687 %.\n",
            "Train Score            : 69.711 %.\n",
            "Test Score             : 67.687 %.\n",
            "Cross Val Score        : 67.621 %, deviation: 0.009345540891748983\n",
            "\n",
            "Cross Validation time: 0:00:00.524211\n",
            "Accuracy               : 80.54 %.\n"
          ]
        }
      ]
    },
    {
      "cell_type": "markdown",
      "source": [
        "`Accuray before: 90.824  %` \\\\\n",
        "\n",
        "`Accuracy now: 80.54 %`"
      ],
      "metadata": {
        "id": "_-9A2Ai-EH6M"
      }
    },
    {
      "cell_type": "markdown",
      "source": [
        "* Tuning hyperparameters of `SVR()`"
      ],
      "metadata": {
        "id": "D8WJK0-56IZD"
      }
    },
    {
      "cell_type": "code",
      "source": [
        "n_components = [5, 10, 15, 20, 25, 30, 35, 38, 40, 42, 43]\n",
        "\n",
        "eval_df = df.copy()\n",
        "y = eval_df['interest_rate']\n",
        "eval_df.drop(columns=['interest_rate'], inplace=True)\n",
        "X = eval_df\n",
        "\n",
        "accuracy_calc = 0 \n",
        "error_calc = 100\n",
        "for component in n_components:\n",
        "  print('N_COMPONENTS = ', component)\n",
        "  \n",
        "  pca = PCA(n_components=component)\n",
        "  X_train, X_test, y_train, y_test = train_test_split(X, y, test_size=0.2, random_state=42)\n",
        "  X_train = pca.fit_transform(X_train)\n",
        "  X_test = pca.transform(X_test)\n",
        "  \n",
        "  model = SVR()\n",
        "  model.fit(X_train, y_train)\n",
        "  predict = model.predict(X_test)\n",
        "  \n",
        "  mae = mean_absolute_error(y_test, predict)\n",
        "  print(\"Mean Absolute Error    :\", round(mean_absolute_error(y_test, predict), 3))\n",
        "  print(\"Mean Squared Error     :\", round(mean_squared_error(y_test, predict), 3))\n",
        "  print(\"(R^2) Score            :\", round(r2_score(y_test, predict) * 100, 3), '%.')\n",
        "\n",
        "  print('Train Score            :', round(model.score(X_train, y_train) * 100,3), '%.')\n",
        "  print('Test Score             :', round(model.score(X_test, y_test) * 100, 3), '%.')\n",
        "  print(\"Cross Val Score        :\", round(cross_val_score(model, X, y, cv=3).mean() * 100,3), '%, deviation:', np.std(cross_val_score(model, X, y, cv=3)))\n",
        "  errors = abs(predict - y_test)\n",
        "  mape = 100 * (errors / y_test)\n",
        "  accuracy = 100 - np.mean(mape)\n",
        "  print('Accuracy               :', round(accuracy,3), '%.') \n",
        "  print('##########################################')\n",
        "  if accuracy > accuracy_calc and mae < error_calc: \n",
        "    accuracy_calc = accuracy\n",
        "    mae = error_calc\n",
        "    count = component\n",
        "  \n",
        "print('Higher Accuracy & Smaller Error ---> n_components=', count)"
      ],
      "metadata": {
        "colab": {
          "base_uri": "https://localhost:8080/"
        },
        "id": "bGGRtXxKPfLX",
        "outputId": "bd4946c6-0474-4b9b-e696-5a97e30875fc"
      },
      "execution_count": 131,
      "outputs": [
        {
          "output_type": "stream",
          "name": "stdout",
          "text": [
            "N_COMPONENTS =  5\n",
            "Mean Absolute Error    : 3.603\n",
            "Mean Squared Error     : 22.288\n",
            "(R^2) Score            : 15.933 %.\n",
            "Train Score            : 13.716 %.\n",
            "Test Score             : 15.933 %.\n",
            "Cross Val Score        : 12.813 %, deviation: 0.009314301076498816\n",
            "Accuracy               : 68.983 %.\n",
            "##########################################\n",
            "N_COMPONENTS =  10\n",
            "Mean Absolute Error    : 3.59\n",
            "Mean Squared Error     : 22.156\n",
            "(R^2) Score            : 16.433 %.\n",
            "Train Score            : 14.257 %.\n",
            "Test Score             : 16.433 %.\n",
            "Cross Val Score        : 12.813 %, deviation: 0.009314301076498816\n",
            "Accuracy               : 69.117 %.\n",
            "##########################################\n",
            "N_COMPONENTS =  15\n",
            "Mean Absolute Error    : 3.59\n",
            "Mean Squared Error     : 22.156\n",
            "(R^2) Score            : 16.433 %.\n",
            "Train Score            : 14.257 %.\n",
            "Test Score             : 16.433 %.\n",
            "Cross Val Score        : 12.813 %, deviation: 0.009314301076498816\n",
            "Accuracy               : 69.117 %.\n",
            "##########################################\n",
            "N_COMPONENTS =  20\n",
            "Mean Absolute Error    : 3.59\n",
            "Mean Squared Error     : 22.156\n",
            "(R^2) Score            : 16.433 %.\n",
            "Train Score            : 14.256 %.\n",
            "Test Score             : 16.433 %.\n",
            "Cross Val Score        : 12.813 %, deviation: 0.009314301076498816\n",
            "Accuracy               : 69.118 %.\n",
            "##########################################\n",
            "N_COMPONENTS =  25\n",
            "Mean Absolute Error    : 3.59\n",
            "Mean Squared Error     : 22.156\n",
            "(R^2) Score            : 16.433 %.\n",
            "Train Score            : 14.256 %.\n",
            "Test Score             : 16.433 %.\n",
            "Cross Val Score        : 12.813 %, deviation: 0.009314301076498816\n",
            "Accuracy               : 69.118 %.\n",
            "##########################################\n",
            "N_COMPONENTS =  30\n",
            "Mean Absolute Error    : 3.59\n",
            "Mean Squared Error     : 22.156\n",
            "(R^2) Score            : 16.433 %.\n",
            "Train Score            : 14.256 %.\n",
            "Test Score             : 16.433 %.\n",
            "Cross Val Score        : 12.813 %, deviation: 0.009314301076498816\n",
            "Accuracy               : 69.118 %.\n",
            "##########################################\n",
            "N_COMPONENTS =  35\n",
            "Mean Absolute Error    : 3.59\n",
            "Mean Squared Error     : 22.156\n",
            "(R^2) Score            : 16.433 %.\n",
            "Train Score            : 14.256 %.\n",
            "Test Score             : 16.433 %.\n",
            "Cross Val Score        : 12.813 %, deviation: 0.009314301076498816\n",
            "Accuracy               : 69.118 %.\n",
            "##########################################\n",
            "N_COMPONENTS =  38\n",
            "Mean Absolute Error    : 3.59\n",
            "Mean Squared Error     : 22.156\n",
            "(R^2) Score            : 16.433 %.\n",
            "Train Score            : 14.256 %.\n",
            "Test Score             : 16.433 %.\n",
            "Cross Val Score        : 12.813 %, deviation: 0.009314301076498816\n",
            "Accuracy               : 69.118 %.\n",
            "##########################################\n",
            "N_COMPONENTS =  40\n",
            "Mean Absolute Error    : 3.59\n",
            "Mean Squared Error     : 22.156\n",
            "(R^2) Score            : 16.433 %.\n",
            "Train Score            : 14.256 %.\n",
            "Test Score             : 16.433 %.\n",
            "Cross Val Score        : 12.813 %, deviation: 0.009314301076498816\n",
            "Accuracy               : 69.118 %.\n",
            "##########################################\n",
            "N_COMPONENTS =  42\n",
            "Mean Absolute Error    : 3.59\n",
            "Mean Squared Error     : 22.156\n",
            "(R^2) Score            : 16.433 %.\n",
            "Train Score            : 14.256 %.\n",
            "Test Score             : 16.433 %.\n",
            "Cross Val Score        : 12.813 %, deviation: 0.009314301076498816\n",
            "Accuracy               : 69.118 %.\n",
            "##########################################\n",
            "N_COMPONENTS =  43\n",
            "Mean Absolute Error    : 3.59\n",
            "Mean Squared Error     : 22.156\n",
            "(R^2) Score            : 16.433 %.\n",
            "Train Score            : 14.256 %.\n",
            "Test Score             : 16.433 %.\n",
            "Cross Val Score        : 12.813 %, deviation: 0.009314301076498816\n",
            "Accuracy               : 69.118 %.\n",
            "##########################################\n",
            "Higher Accuracy & Smaller Error ---> n_components= 38\n"
          ]
        }
      ]
    },
    {
      "cell_type": "markdown",
      "source": [
        "PCA did not help that much, but we will use `PCA(n_components=38)`"
      ],
      "metadata": {
        "id": "fkuv0BHjPqi5"
      }
    },
    {
      "cell_type": "code",
      "source": [
        "eval_df = df.copy()\n",
        "y = eval_df['interest_rate']\n",
        "eval_df.drop(columns=['interest_rate'], inplace=True)\n",
        "X = eval_df\n",
        "\n",
        "X_train, X_test, y_train, y_test = train_test_split(X, y, test_size=0.2, random_state=42)\n",
        "\n",
        "pca = PCA(n_components=38)\n",
        "X_train = pca.fit_transform(X_train)\n",
        "X_test = pca.transform(X_test)\n",
        "\n",
        "param_grid = {\n",
        "    'C': [0.1, 1, 10, 50, 100],\n",
        "    'epsilon': [0.1, 0.3, 0.5, 0.7, 0.9], \n",
        "    'degree': [2,3,4]\n",
        "}\n",
        "\n",
        "model = SVR()\n",
        "grid_search = GridSearchCV(model, param_grid, cv=3, n_jobs=-1, verbose=3)\n",
        "grid_search.fit(X_train, y_train)\n",
        "best_params = grid_search.best_params_\n",
        "print(best_params)"
      ],
      "metadata": {
        "colab": {
          "base_uri": "https://localhost:8080/"
        },
        "id": "nTb5Swb9Puuu",
        "outputId": "519d736a-44be-46e0-8daf-872fc0f40aec"
      },
      "execution_count": 142,
      "outputs": [
        {
          "output_type": "stream",
          "name": "stdout",
          "text": [
            "Fitting 3 folds for each of 2 candidates, totalling 6 fits\n",
            "{'C': 100, 'degree': 2, 'epsilon': 0.7}\n"
          ]
        }
      ]
    },
    {
      "cell_type": "markdown",
      "source": [
        "As in `RandomForestRegressor()` hyperparameter tuning, when trying to perform `GridSearchCV()` with the different hyperparameters, the training process took a lot of time to search all the possible combinations. For this reason, I chose to perform `GridSearchCV()` for every parameter separately and then combine the best from each one. "
      ],
      "metadata": {
        "id": "WFLogEtISF-1"
      }
    },
    {
      "cell_type": "markdown",
      "source": [
        "`C=100`, `epsilon=0.7`, `kernel=000`, `degree=000`"
      ],
      "metadata": {
        "id": "uCttGzkEP6_Z"
      }
    },
    {
      "cell_type": "code",
      "source": [
        "model = SVR(C=100, epsilon=0.7, degree=2)\n",
        "start_time = datetime.datetime.now()\n",
        "model.fit(X_train, y_train)\n",
        "end_time = datetime.datetime.now()\n",
        "elapsed_time = end_time - start_time\n",
        "print('Training time:', str(elapsed_time))\n",
        "predict = model.predict(X_test)\n",
        "print(\"Mean Absolute Error    :\", round(mean_absolute_error(y_test, predict), 3))\n",
        "print(\"Mean Squared Error     :\", round(mean_squared_error(y_test, predict), 3))\n",
        "print(\"(R^2) Score            :\", round(r2_score(y_test, predict) * 100, 3), '%.')\n",
        "\n",
        "print('Train Score            :', round(model.score(X_train, y_train) * 100,3), '%.')\n",
        "print('Test Score             :', round(model.score(X_test, y_test) * 100, 3), '%.')\n",
        "start_time = datetime.datetime.now()\n",
        "print(\"Cross Val Score        :\", round(cross_val_score(model, X, y, cv=3).mean() * 100,3), '%, deviation:', np.std(cross_val_score(model, X, y, cv=3)))\n",
        "end_time = datetime.datetime.now()\n",
        "elapsed_time = end_time - start_time\n",
        "print('\\nCross Validation time:', str(elapsed_time))\n",
        "errors = abs(predict - y_test)\n",
        "mape = 100 * (errors / y_test)\n",
        "accuracy = 100 - np.mean(mape)\n",
        "print('Accuracy               :', round(accuracy,3), '%.') "
      ],
      "metadata": {
        "colab": {
          "base_uri": "https://localhost:8080/"
        },
        "id": "ZOzDP7tNP6hN",
        "outputId": "c94be4d3-f672-4aba-c41b-b409681f3d25"
      },
      "execution_count": 143,
      "outputs": [
        {
          "output_type": "stream",
          "name": "stdout",
          "text": [
            "Training time: 0:00:08.220639\n",
            "Mean Absolute Error    : 3.02\n",
            "Mean Squared Error     : 16.026\n",
            "(R^2) Score            : 39.553 %.\n",
            "Train Score            : 40.695 %.\n",
            "Test Score             : 39.553 %.\n",
            "Cross Val Score        : 29.988 %, deviation: 0.016154929487539358\n",
            "\n",
            "Cross Validation time: 0:00:40.238827\n",
            "Accuracy               : 73.878 %.\n"
          ]
        }
      ]
    },
    {
      "cell_type": "markdown",
      "source": [
        "`Accuray before: 68.719  %` \\\\\n",
        "\n",
        "`Accuracy now: 73.878 %`"
      ],
      "metadata": {
        "id": "E8JToms2nJi0"
      }
    },
    {
      "cell_type": "markdown",
      "source": [
        "After tuning the hyperparameters of each one of the above-mentioned models, we came up with the following results: \n",
        "\n",
        "| Regressor | Accuracy | MAE | \n",
        "|-----------|----------|-----| \n",
        "| Linear Regression | 80.783 % | 2.133 |\n",
        "| Lasso Regression  | 80.518 % | 2.15 |\n",
        "| Random Forest Regression | 89.692 % | 1.154 |\n",
        "| Decision Tree Regression | 80.54 % | 2.16 |\n",
        "| Support Vector Machine Regressor | 73.878 % | 3.02 |"
      ],
      "metadata": {
        "id": "5BKznDCKnytb"
      }
    },
    {
      "cell_type": "markdown",
      "source": [
        "| Regressor | Accuracy | MAE | \n",
        "|-----------|----------|-----| \n",
        "| Linear Regression | 80.769 % | 2.134 |\n",
        "| Lasso Regression  | 78.919 % | 2.3 |\n",
        "| Random Forest Regression | 93.848 % | 0.709 |\n",
        "| Decision Tree Regression | 91.026 % | 1.066 |\n",
        "| Support Vector Machine Regressor | 68.719 % | 3.623 |"
      ],
      "metadata": {
        "id": "0m9hlfh0odmt"
      }
    },
    {
      "cell_type": "code",
      "source": [
        "regressors = ['Linear', 'Lasso', 'RandomForest', 'DecisionTree', 'SupportVectorMachine']\n",
        "accuracy_before = [80.769, 78.919, 93.848, 91.026, 68.719]\n",
        "accuracy_after = [80.783, 80.518, 89.692, 80.54, 73.878]\n",
        "\n",
        "fig = plt.figure(figsize = (15, 6))  \n",
        "X_axis = np.arange(len(regressors))\n",
        "\n",
        "plt.bar(X_axis, accuracy_before, 0.3, label = \"Accuracy Baseline Models\")\n",
        "plt.bar(X_axis + 0.3, accuracy_after, 0.3, label = \"Accuracy after Hyper-parameters' Tuning\")\n",
        "\n",
        "plt.xticks(X_axis, regressors)\n",
        "plt.xlabel(\"Regressors\")\n",
        "plt.ylabel(\"Accuracy (%)\")\n",
        "plt.legend()\n",
        "plt.show()"
      ],
      "metadata": {
        "colab": {
          "base_uri": "https://localhost:8080/",
          "height": 387
        },
        "id": "u0T6QnP_oeUm",
        "outputId": "3c4c2d09-a4ee-41bf-c000-fa6283fa16c1"
      },
      "execution_count": 146,
      "outputs": [
        {
          "output_type": "display_data",
          "data": {
            "text/plain": [
              "<Figure size 1080x432 with 1 Axes>"
            ],
            "image/png": "[encoded data removed]"
          },
          "metadata": {
            "needs_background": "light"
          }
        }
      ]
    },
    {
      "cell_type": "markdown",
      "source": [
        "As wee see from the plot, after hyper-parameters' Tuning some of the above models have better and some worse accuracy than their baseline version. \n",
        "\n",
        "* `LinearRegression()` has almost the same accuracy. \n",
        "* `Lasso()` and `SVR()` have slightly better accuracy with the tuning of the possible hyper-parameters.\n",
        "* `RandomForestRegressor()` and `DecisionTreeRegressor()` had better performance on its first baseline version. \n",
        "\n",
        "\n",
        "\\\\\n",
        "Due to **lack of time**, the `GridSearchCV()` of the hyper-parameters was limited to a small range of possible values. With much more time given, it could be possible to try different values in order to find the best combination of hyper-parameters for each model. "
      ],
      "metadata": {
        "id": "j82TO8Mro_fz"
      }
    }
  ],
  "metadata": {
    "colab": {
      "collapsed_sections": [
        "8W1eRg3EWU5J",
        "OxCSdH1IWXSw"
      ],
      "provenance": []
    },
    "gpuClass": "standard",
    "kernelspec": {
      "display_name": "Python 3",
      "name": "python3"
    },
    "language_info": {
      "name": "python"
    }
  },
  "nbformat": 4,
  "nbformat_minor": 0
}